{
 "cells": [
  {
   "cell_type": "markdown",
   "metadata": {},
   "source": [
    "#### <a>Objective: To predict the House Prices. "
   ]
  },
  {
   "attachments": {},
   "cell_type": "markdown",
   "metadata": {},
   "source": [
    "#### <a>Business Context:\n",
    "\n",
    "The buyers are just not concerned about the size(square feet) of the house and there are various other factors that play a key role to decide the price of a house/property.\n",
    "    \n",
    "#### <a>Data Description:\n",
    "\n",
    "date: Date house was sold<br>\n",
    "price: Price is prediction target<br>\n",
    "bedrooms: Number of Bedrooms per House<br>\n",
    "bathrooms: Number of bathrooms per House<br>\n",
    "sqft_living: Square Feet of the home<br>\n",
    "sqft_lot: Square Feet of the lot<br>\n",
    "floors: Total floors (levels) in house<br>\n",
    "waterfront: House which has a view to a waterfront<br>\n",
    "view: Number of Views from the house<br>\n",
    "condition: How good the condition is (Overall)<br>\n",
    "sqft_above: Square Feet of house apart from basement<br>\n",
    "sqft_basement: Square Feet of the basement<br>\n",
    "yr_built: Built Year<br>\n",
    "yr_renovated: Year when house was renovated<br>\n",
    "street: Street Address<br>\n",
    "city: City Name<br>\n",
    "statezip: Zip<br>\n",
    "country: Country Name<br>"
   ]
  },
  {
   "cell_type": "markdown",
   "metadata": {},
   "source": [
    "#### <a>Importing Modules"
   ]
  },
  {
   "cell_type": "code",
   "execution_count": 1,
   "metadata": {},
   "outputs": [],
   "source": [
    "import numpy as np\n",
    "import pandas as pd\n",
    "\n",
    "import pandas_profiling\n",
    "\n",
    "import matplotlib.pyplot as plt\n",
    "import seaborn as sns\n",
    "%matplotlib inline\n",
    "\n",
    "from sklearn.feature_selection import f_regression, RFE, VarianceThreshold\n",
    "from statsmodels.stats.outliers_influence import variance_inflation_factor\n",
    "from patsy import dmatrices\n",
    "\n",
    "import scipy.stats as stats\n",
    "from sklearn.preprocessing import StandardScaler\n",
    "from sklearn.model_selection import train_test_split, GridSearchCV\n",
    "\n",
    "import statsmodels.formula.api as smf\n",
    "from sklearn.linear_model import LinearRegression\n",
    "from sklearn.neighbors import KNeighborsRegressor\n",
    "from sklearn.ensemble import RandomForestRegressor\n",
    "from keras.models import Sequential\n",
    "from keras.layers import Dense, Dropout\n",
    "\n",
    "from sklearn import metrics\n",
    "\n",
    "# Ignore warnings\n",
    "import warnings\n",
    "warnings.filterwarnings('ignore')"
   ]
  },
  {
   "cell_type": "markdown",
   "metadata": {},
   "source": [
    "#### <a>Creating UDFs"
   ]
  },
  {
   "cell_type": "code",
   "execution_count": 2,
   "metadata": {},
   "outputs": [],
   "source": [
    "# Create Statistical Summary for continuous variables\n",
    "def continuous_var_summary(x):\n",
    "    return pd.Series([x.count(), len(x.value_counts()), x.isnull().sum(), x.sum(), x.mean(), x.median(),  \n",
    "                      x.std(), x.var(), x.min(), x.quantile(0.01), x.quantile(0.05), x.quantile(0.50),\n",
    "                      x.quantile(0.95), x.quantile(0.99),x.max()], \n",
    "                      index = ['Count', 'Unique', 'NMISS', 'SUM', 'MEAN','MEDIAN', 'STD', 'VAR', 'MIN',\n",
    "                               'P1', 'P5', 'P50', 'P95', 'P99' ,'MAX'])"
   ]
  },
  {
   "cell_type": "code",
   "execution_count": 3,
   "metadata": {},
   "outputs": [],
   "source": [
    "# Create Statistical Summary for categorical variables\n",
    "def categorical_var_summary(a):\n",
    "    Mode = a.value_counts().sort_values(ascending = False)[0:1].reset_index()\n",
    "    return pd.Series([a.count(), a.isnull().sum(), len(a.value_counts()), Mode.iloc[0, 0], Mode.iloc[0, 1], \n",
    "                      round(((Mode.iloc[0, 1] * 100)/a.count()), 2)], \n",
    "                      index = ['COUNT', 'MISS', 'UNIQUE', 'MODE', 'FREQ', 'PERCENT'])"
   ]
  },
  {
   "cell_type": "code",
   "execution_count": 4,
   "metadata": {},
   "outputs": [],
   "source": [
    "#Outlier treatment function\n",
    "def outlier_capping(x):\n",
    "    x = x.clip(lower = x.quantile(0.01),upper = x.quantile(0.99))\n",
    "    return x"
   ]
  },
  {
   "cell_type": "code",
   "execution_count": 5,
   "metadata": {},
   "outputs": [],
   "source": [
    "# Missing value imputation for categorical and continuous variables\n",
    "def missing_imputation(x, stats = 'mean'):\n",
    "    if (x.dtypes == 'float64') | (x.dtypes == 'int64'):\n",
    "        x = x.fillna(x.mean()) if stats == 'mean' else x.fillna(x.median())\n",
    "    else:\n",
    "        x = x.fillna(x.mode().iloc[0])\n",
    "    return x"
   ]
  },
  {
   "cell_type": "code",
   "execution_count": 6,
   "metadata": {},
   "outputs": [],
   "source": [
    "# An utility function to create dummy variable\n",
    "def create_dummies(df, colname):\n",
    "    col_dummies = pd.get_dummies(df[colname], prefix = colname, drop_first = True)\n",
    "    df = pd.concat([df, col_dummies], axis = 1)\n",
    "    df.drop(colname, axis = 1, inplace = True )\n",
    "    return df"
   ]
  },
  {
   "cell_type": "markdown",
   "metadata": {},
   "source": [
    "#### <a>Loading Dataset"
   ]
  },
  {
   "cell_type": "code",
   "execution_count": 7,
   "metadata": {},
   "outputs": [],
   "source": [
    "data_house = pd.read_csv('Data Set/data.csv')"
   ]
  },
  {
   "cell_type": "markdown",
   "metadata": {},
   "source": [
    "#### <a>Understanding data"
   ]
  },
  {
   "cell_type": "code",
   "execution_count": 8,
   "metadata": {},
   "outputs": [
    {
     "data": {
      "text/html": [
       "<div>\n",
       "<style scoped>\n",
       "    .dataframe tbody tr th:only-of-type {\n",
       "        vertical-align: middle;\n",
       "    }\n",
       "\n",
       "    .dataframe tbody tr th {\n",
       "        vertical-align: top;\n",
       "    }\n",
       "\n",
       "    .dataframe thead th {\n",
       "        text-align: right;\n",
       "    }\n",
       "</style>\n",
       "<table border=\"1\" class=\"dataframe\">\n",
       "  <thead>\n",
       "    <tr style=\"text-align: right;\">\n",
       "      <th></th>\n",
       "      <th>date</th>\n",
       "      <th>price</th>\n",
       "      <th>bedrooms</th>\n",
       "      <th>bathrooms</th>\n",
       "      <th>sqft_living</th>\n",
       "      <th>sqft_lot</th>\n",
       "      <th>floors</th>\n",
       "      <th>waterfront</th>\n",
       "      <th>view</th>\n",
       "      <th>condition</th>\n",
       "      <th>sqft_above</th>\n",
       "      <th>sqft_basement</th>\n",
       "      <th>yr_built</th>\n",
       "      <th>yr_renovated</th>\n",
       "      <th>street</th>\n",
       "      <th>city</th>\n",
       "      <th>statezip</th>\n",
       "      <th>country</th>\n",
       "    </tr>\n",
       "  </thead>\n",
       "  <tbody>\n",
       "    <tr>\n",
       "      <th>0</th>\n",
       "      <td>2014-05-02 00:00:00</td>\n",
       "      <td>313000.0</td>\n",
       "      <td>3.0</td>\n",
       "      <td>1.50</td>\n",
       "      <td>1340</td>\n",
       "      <td>7912</td>\n",
       "      <td>1.5</td>\n",
       "      <td>0</td>\n",
       "      <td>0</td>\n",
       "      <td>3</td>\n",
       "      <td>1340</td>\n",
       "      <td>0</td>\n",
       "      <td>1955</td>\n",
       "      <td>2005</td>\n",
       "      <td>18810 Densmore Ave N</td>\n",
       "      <td>Shoreline</td>\n",
       "      <td>WA 98133</td>\n",
       "      <td>USA</td>\n",
       "    </tr>\n",
       "    <tr>\n",
       "      <th>1</th>\n",
       "      <td>2014-05-02 00:00:00</td>\n",
       "      <td>2384000.0</td>\n",
       "      <td>5.0</td>\n",
       "      <td>2.50</td>\n",
       "      <td>3650</td>\n",
       "      <td>9050</td>\n",
       "      <td>2.0</td>\n",
       "      <td>0</td>\n",
       "      <td>4</td>\n",
       "      <td>5</td>\n",
       "      <td>3370</td>\n",
       "      <td>280</td>\n",
       "      <td>1921</td>\n",
       "      <td>0</td>\n",
       "      <td>709 W Blaine St</td>\n",
       "      <td>Seattle</td>\n",
       "      <td>WA 98119</td>\n",
       "      <td>USA</td>\n",
       "    </tr>\n",
       "    <tr>\n",
       "      <th>2</th>\n",
       "      <td>2014-05-02 00:00:00</td>\n",
       "      <td>342000.0</td>\n",
       "      <td>3.0</td>\n",
       "      <td>2.00</td>\n",
       "      <td>1930</td>\n",
       "      <td>11947</td>\n",
       "      <td>1.0</td>\n",
       "      <td>0</td>\n",
       "      <td>0</td>\n",
       "      <td>4</td>\n",
       "      <td>1930</td>\n",
       "      <td>0</td>\n",
       "      <td>1966</td>\n",
       "      <td>0</td>\n",
       "      <td>26206-26214 143rd Ave SE</td>\n",
       "      <td>Kent</td>\n",
       "      <td>WA 98042</td>\n",
       "      <td>USA</td>\n",
       "    </tr>\n",
       "    <tr>\n",
       "      <th>3</th>\n",
       "      <td>2014-05-02 00:00:00</td>\n",
       "      <td>420000.0</td>\n",
       "      <td>3.0</td>\n",
       "      <td>2.25</td>\n",
       "      <td>2000</td>\n",
       "      <td>8030</td>\n",
       "      <td>1.0</td>\n",
       "      <td>0</td>\n",
       "      <td>0</td>\n",
       "      <td>4</td>\n",
       "      <td>1000</td>\n",
       "      <td>1000</td>\n",
       "      <td>1963</td>\n",
       "      <td>0</td>\n",
       "      <td>857 170th Pl NE</td>\n",
       "      <td>Bellevue</td>\n",
       "      <td>WA 98008</td>\n",
       "      <td>USA</td>\n",
       "    </tr>\n",
       "    <tr>\n",
       "      <th>4</th>\n",
       "      <td>2014-05-02 00:00:00</td>\n",
       "      <td>550000.0</td>\n",
       "      <td>4.0</td>\n",
       "      <td>2.50</td>\n",
       "      <td>1940</td>\n",
       "      <td>10500</td>\n",
       "      <td>1.0</td>\n",
       "      <td>0</td>\n",
       "      <td>0</td>\n",
       "      <td>4</td>\n",
       "      <td>1140</td>\n",
       "      <td>800</td>\n",
       "      <td>1976</td>\n",
       "      <td>1992</td>\n",
       "      <td>9105 170th Ave NE</td>\n",
       "      <td>Redmond</td>\n",
       "      <td>WA 98052</td>\n",
       "      <td>USA</td>\n",
       "    </tr>\n",
       "  </tbody>\n",
       "</table>\n",
       "</div>"
      ],
      "text/plain": [
       "                  date      price  bedrooms  bathrooms  sqft_living  sqft_lot  \\\n",
       "0  2014-05-02 00:00:00   313000.0       3.0       1.50         1340      7912   \n",
       "1  2014-05-02 00:00:00  2384000.0       5.0       2.50         3650      9050   \n",
       "2  2014-05-02 00:00:00   342000.0       3.0       2.00         1930     11947   \n",
       "3  2014-05-02 00:00:00   420000.0       3.0       2.25         2000      8030   \n",
       "4  2014-05-02 00:00:00   550000.0       4.0       2.50         1940     10500   \n",
       "\n",
       "   floors  waterfront  view  condition  sqft_above  sqft_basement  yr_built  \\\n",
       "0     1.5           0     0          3        1340              0      1955   \n",
       "1     2.0           0     4          5        3370            280      1921   \n",
       "2     1.0           0     0          4        1930              0      1966   \n",
       "3     1.0           0     0          4        1000           1000      1963   \n",
       "4     1.0           0     0          4        1140            800      1976   \n",
       "\n",
       "   yr_renovated                    street       city  statezip country  \n",
       "0          2005      18810 Densmore Ave N  Shoreline  WA 98133     USA  \n",
       "1             0           709 W Blaine St    Seattle  WA 98119     USA  \n",
       "2             0  26206-26214 143rd Ave SE       Kent  WA 98042     USA  \n",
       "3             0           857 170th Pl NE   Bellevue  WA 98008     USA  \n",
       "4          1992         9105 170th Ave NE    Redmond  WA 98052     USA  "
      ]
     },
     "execution_count": 8,
     "metadata": {},
     "output_type": "execute_result"
    }
   ],
   "source": [
    "#Data View\n",
    "data_house.head()"
   ]
  },
  {
   "cell_type": "code",
   "execution_count": 9,
   "metadata": {},
   "outputs": [
    {
     "name": "stdout",
     "output_type": "stream",
     "text": [
      "<class 'pandas.core.frame.DataFrame'>\n",
      "RangeIndex: 4600 entries, 0 to 4599\n",
      "Data columns (total 18 columns):\n",
      " #   Column         Non-Null Count  Dtype  \n",
      "---  ------         --------------  -----  \n",
      " 0   date           4600 non-null   object \n",
      " 1   price          4600 non-null   float64\n",
      " 2   bedrooms       4600 non-null   float64\n",
      " 3   bathrooms      4600 non-null   float64\n",
      " 4   sqft_living    4600 non-null   int64  \n",
      " 5   sqft_lot       4600 non-null   int64  \n",
      " 6   floors         4600 non-null   float64\n",
      " 7   waterfront     4600 non-null   int64  \n",
      " 8   view           4600 non-null   int64  \n",
      " 9   condition      4600 non-null   int64  \n",
      " 10  sqft_above     4600 non-null   int64  \n",
      " 11  sqft_basement  4600 non-null   int64  \n",
      " 12  yr_built       4600 non-null   int64  \n",
      " 13  yr_renovated   4600 non-null   int64  \n",
      " 14  street         4600 non-null   object \n",
      " 15  city           4600 non-null   object \n",
      " 16  statezip       4600 non-null   object \n",
      " 17  country        4600 non-null   object \n",
      "dtypes: float64(4), int64(9), object(5)\n",
      "memory usage: 647.0+ KB\n"
     ]
    }
   ],
   "source": [
    "#Basic Data Information\n",
    "data_house.info()"
   ]
  },
  {
   "cell_type": "code",
   "execution_count": 10,
   "metadata": {},
   "outputs": [],
   "source": [
    "#Changing Categorical variables to object\n",
    "data_house[['waterfront','condition']] = data_house[['waterfront','condition']].astype('object')"
   ]
  },
  {
   "cell_type": "code",
   "execution_count": 11,
   "metadata": {},
   "outputs": [],
   "source": [
    "#Dropping date variable as it has no significance for our prediction model\n",
    "data_house.drop('date', axis = 1, inplace = True)"
   ]
  },
  {
   "cell_type": "markdown",
   "metadata": {},
   "source": [
    "#### <a>Variables Statistical Summary"
   ]
  },
  {
   "cell_type": "code",
   "execution_count": 12,
   "metadata": {},
   "outputs": [
    {
     "data": {
      "text/html": [
       "<div>\n",
       "<style scoped>\n",
       "    .dataframe tbody tr th:only-of-type {\n",
       "        vertical-align: middle;\n",
       "    }\n",
       "\n",
       "    .dataframe tbody tr th {\n",
       "        vertical-align: top;\n",
       "    }\n",
       "\n",
       "    .dataframe thead th {\n",
       "        text-align: right;\n",
       "    }\n",
       "</style>\n",
       "<table border=\"1\" class=\"dataframe\">\n",
       "  <thead>\n",
       "    <tr style=\"text-align: right;\">\n",
       "      <th></th>\n",
       "      <th>price</th>\n",
       "      <th>bedrooms</th>\n",
       "      <th>bathrooms</th>\n",
       "      <th>sqft_living</th>\n",
       "      <th>sqft_lot</th>\n",
       "      <th>floors</th>\n",
       "      <th>view</th>\n",
       "      <th>sqft_above</th>\n",
       "      <th>sqft_basement</th>\n",
       "      <th>yr_built</th>\n",
       "      <th>yr_renovated</th>\n",
       "    </tr>\n",
       "  </thead>\n",
       "  <tbody>\n",
       "    <tr>\n",
       "      <th>Count</th>\n",
       "      <td>4.600000e+03</td>\n",
       "      <td>4600.000000</td>\n",
       "      <td>4600.000000</td>\n",
       "      <td>4.600000e+03</td>\n",
       "      <td>4.600000e+03</td>\n",
       "      <td>4600.000000</td>\n",
       "      <td>4600.000000</td>\n",
       "      <td>4.600000e+03</td>\n",
       "      <td>4.600000e+03</td>\n",
       "      <td>4.600000e+03</td>\n",
       "      <td>4.600000e+03</td>\n",
       "    </tr>\n",
       "    <tr>\n",
       "      <th>Unique</th>\n",
       "      <td>1.741000e+03</td>\n",
       "      <td>10.000000</td>\n",
       "      <td>26.000000</td>\n",
       "      <td>5.660000e+02</td>\n",
       "      <td>3.113000e+03</td>\n",
       "      <td>6.000000</td>\n",
       "      <td>5.000000</td>\n",
       "      <td>5.110000e+02</td>\n",
       "      <td>2.070000e+02</td>\n",
       "      <td>1.150000e+02</td>\n",
       "      <td>6.000000e+01</td>\n",
       "    </tr>\n",
       "    <tr>\n",
       "      <th>NMISS</th>\n",
       "      <td>0.000000e+00</td>\n",
       "      <td>0.000000</td>\n",
       "      <td>0.000000</td>\n",
       "      <td>0.000000e+00</td>\n",
       "      <td>0.000000e+00</td>\n",
       "      <td>0.000000</td>\n",
       "      <td>0.000000</td>\n",
       "      <td>0.000000e+00</td>\n",
       "      <td>0.000000e+00</td>\n",
       "      <td>0.000000e+00</td>\n",
       "      <td>0.000000e+00</td>\n",
       "    </tr>\n",
       "    <tr>\n",
       "      <th>SUM</th>\n",
       "      <td>2.539030e+09</td>\n",
       "      <td>15644.000000</td>\n",
       "      <td>9939.750000</td>\n",
       "      <td>9.840996e+06</td>\n",
       "      <td>6.832157e+07</td>\n",
       "      <td>6955.500000</td>\n",
       "      <td>1107.000000</td>\n",
       "      <td>8.405421e+06</td>\n",
       "      <td>1.435575e+06</td>\n",
       "      <td>9.065617e+06</td>\n",
       "      <td>3.719598e+06</td>\n",
       "    </tr>\n",
       "    <tr>\n",
       "      <th>MEAN</th>\n",
       "      <td>5.519630e+05</td>\n",
       "      <td>3.400870</td>\n",
       "      <td>2.160815</td>\n",
       "      <td>2.139347e+03</td>\n",
       "      <td>1.485252e+04</td>\n",
       "      <td>1.512065</td>\n",
       "      <td>0.240652</td>\n",
       "      <td>1.827265e+03</td>\n",
       "      <td>3.120815e+02</td>\n",
       "      <td>1.970786e+03</td>\n",
       "      <td>8.086083e+02</td>\n",
       "    </tr>\n",
       "    <tr>\n",
       "      <th>MEDIAN</th>\n",
       "      <td>4.609435e+05</td>\n",
       "      <td>3.000000</td>\n",
       "      <td>2.250000</td>\n",
       "      <td>1.980000e+03</td>\n",
       "      <td>7.683000e+03</td>\n",
       "      <td>1.500000</td>\n",
       "      <td>0.000000</td>\n",
       "      <td>1.590000e+03</td>\n",
       "      <td>0.000000e+00</td>\n",
       "      <td>1.976000e+03</td>\n",
       "      <td>0.000000e+00</td>\n",
       "    </tr>\n",
       "    <tr>\n",
       "      <th>STD</th>\n",
       "      <td>5.638347e+05</td>\n",
       "      <td>0.908848</td>\n",
       "      <td>0.783781</td>\n",
       "      <td>9.632069e+02</td>\n",
       "      <td>3.588444e+04</td>\n",
       "      <td>0.538288</td>\n",
       "      <td>0.778405</td>\n",
       "      <td>8.621690e+02</td>\n",
       "      <td>4.641372e+02</td>\n",
       "      <td>2.973185e+01</td>\n",
       "      <td>9.794145e+02</td>\n",
       "    </tr>\n",
       "    <tr>\n",
       "      <th>VAR</th>\n",
       "      <td>3.179096e+11</td>\n",
       "      <td>0.826005</td>\n",
       "      <td>0.614313</td>\n",
       "      <td>9.277676e+05</td>\n",
       "      <td>1.287693e+09</td>\n",
       "      <td>0.289754</td>\n",
       "      <td>0.605914</td>\n",
       "      <td>7.433353e+05</td>\n",
       "      <td>2.154234e+05</td>\n",
       "      <td>8.839828e+02</td>\n",
       "      <td>9.592528e+05</td>\n",
       "    </tr>\n",
       "    <tr>\n",
       "      <th>MIN</th>\n",
       "      <td>0.000000e+00</td>\n",
       "      <td>0.000000</td>\n",
       "      <td>0.000000</td>\n",
       "      <td>3.700000e+02</td>\n",
       "      <td>6.380000e+02</td>\n",
       "      <td>1.000000</td>\n",
       "      <td>0.000000</td>\n",
       "      <td>3.700000e+02</td>\n",
       "      <td>0.000000e+00</td>\n",
       "      <td>1.900000e+03</td>\n",
       "      <td>0.000000e+00</td>\n",
       "    </tr>\n",
       "    <tr>\n",
       "      <th>P1</th>\n",
       "      <td>0.000000e+00</td>\n",
       "      <td>2.000000</td>\n",
       "      <td>1.000000</td>\n",
       "      <td>7.200000e+02</td>\n",
       "      <td>1.026950e+03</td>\n",
       "      <td>1.000000</td>\n",
       "      <td>0.000000</td>\n",
       "      <td>7.099000e+02</td>\n",
       "      <td>0.000000e+00</td>\n",
       "      <td>1.903000e+03</td>\n",
       "      <td>0.000000e+00</td>\n",
       "    </tr>\n",
       "    <tr>\n",
       "      <th>P5</th>\n",
       "      <td>2.000000e+05</td>\n",
       "      <td>2.000000</td>\n",
       "      <td>1.000000</td>\n",
       "      <td>9.500000e+02</td>\n",
       "      <td>1.690800e+03</td>\n",
       "      <td>1.000000</td>\n",
       "      <td>0.000000</td>\n",
       "      <td>8.600000e+02</td>\n",
       "      <td>0.000000e+00</td>\n",
       "      <td>1.913000e+03</td>\n",
       "      <td>0.000000e+00</td>\n",
       "    </tr>\n",
       "    <tr>\n",
       "      <th>P50</th>\n",
       "      <td>4.609435e+05</td>\n",
       "      <td>3.000000</td>\n",
       "      <td>2.250000</td>\n",
       "      <td>1.980000e+03</td>\n",
       "      <td>7.683000e+03</td>\n",
       "      <td>1.500000</td>\n",
       "      <td>0.000000</td>\n",
       "      <td>1.590000e+03</td>\n",
       "      <td>0.000000e+00</td>\n",
       "      <td>1.976000e+03</td>\n",
       "      <td>0.000000e+00</td>\n",
       "    </tr>\n",
       "    <tr>\n",
       "      <th>P95</th>\n",
       "      <td>1.184050e+06</td>\n",
       "      <td>5.000000</td>\n",
       "      <td>3.500000</td>\n",
       "      <td>3.870000e+03</td>\n",
       "      <td>4.356000e+04</td>\n",
       "      <td>2.000000</td>\n",
       "      <td>2.000000</td>\n",
       "      <td>3.440000e+03</td>\n",
       "      <td>1.210000e+03</td>\n",
       "      <td>2.009000e+03</td>\n",
       "      <td>2.011000e+03</td>\n",
       "    </tr>\n",
       "    <tr>\n",
       "      <th>P99</th>\n",
       "      <td>2.005220e+06</td>\n",
       "      <td>6.000000</td>\n",
       "      <td>4.500000</td>\n",
       "      <td>5.180100e+03</td>\n",
       "      <td>2.034555e+05</td>\n",
       "      <td>3.000000</td>\n",
       "      <td>4.000000</td>\n",
       "      <td>4.460100e+03</td>\n",
       "      <td>1.700200e+03</td>\n",
       "      <td>2.014000e+03</td>\n",
       "      <td>2.014000e+03</td>\n",
       "    </tr>\n",
       "    <tr>\n",
       "      <th>MAX</th>\n",
       "      <td>2.659000e+07</td>\n",
       "      <td>9.000000</td>\n",
       "      <td>8.000000</td>\n",
       "      <td>1.354000e+04</td>\n",
       "      <td>1.074218e+06</td>\n",
       "      <td>3.500000</td>\n",
       "      <td>4.000000</td>\n",
       "      <td>9.410000e+03</td>\n",
       "      <td>4.820000e+03</td>\n",
       "      <td>2.014000e+03</td>\n",
       "      <td>2.014000e+03</td>\n",
       "    </tr>\n",
       "  </tbody>\n",
       "</table>\n",
       "</div>"
      ],
      "text/plain": [
       "               price      bedrooms    bathrooms   sqft_living      sqft_lot  \\\n",
       "Count   4.600000e+03   4600.000000  4600.000000  4.600000e+03  4.600000e+03   \n",
       "Unique  1.741000e+03     10.000000    26.000000  5.660000e+02  3.113000e+03   \n",
       "NMISS   0.000000e+00      0.000000     0.000000  0.000000e+00  0.000000e+00   \n",
       "SUM     2.539030e+09  15644.000000  9939.750000  9.840996e+06  6.832157e+07   \n",
       "MEAN    5.519630e+05      3.400870     2.160815  2.139347e+03  1.485252e+04   \n",
       "MEDIAN  4.609435e+05      3.000000     2.250000  1.980000e+03  7.683000e+03   \n",
       "STD     5.638347e+05      0.908848     0.783781  9.632069e+02  3.588444e+04   \n",
       "VAR     3.179096e+11      0.826005     0.614313  9.277676e+05  1.287693e+09   \n",
       "MIN     0.000000e+00      0.000000     0.000000  3.700000e+02  6.380000e+02   \n",
       "P1      0.000000e+00      2.000000     1.000000  7.200000e+02  1.026950e+03   \n",
       "P5      2.000000e+05      2.000000     1.000000  9.500000e+02  1.690800e+03   \n",
       "P50     4.609435e+05      3.000000     2.250000  1.980000e+03  7.683000e+03   \n",
       "P95     1.184050e+06      5.000000     3.500000  3.870000e+03  4.356000e+04   \n",
       "P99     2.005220e+06      6.000000     4.500000  5.180100e+03  2.034555e+05   \n",
       "MAX     2.659000e+07      9.000000     8.000000  1.354000e+04  1.074218e+06   \n",
       "\n",
       "             floors         view    sqft_above  sqft_basement      yr_built  \\\n",
       "Count   4600.000000  4600.000000  4.600000e+03   4.600000e+03  4.600000e+03   \n",
       "Unique     6.000000     5.000000  5.110000e+02   2.070000e+02  1.150000e+02   \n",
       "NMISS      0.000000     0.000000  0.000000e+00   0.000000e+00  0.000000e+00   \n",
       "SUM     6955.500000  1107.000000  8.405421e+06   1.435575e+06  9.065617e+06   \n",
       "MEAN       1.512065     0.240652  1.827265e+03   3.120815e+02  1.970786e+03   \n",
       "MEDIAN     1.500000     0.000000  1.590000e+03   0.000000e+00  1.976000e+03   \n",
       "STD        0.538288     0.778405  8.621690e+02   4.641372e+02  2.973185e+01   \n",
       "VAR        0.289754     0.605914  7.433353e+05   2.154234e+05  8.839828e+02   \n",
       "MIN        1.000000     0.000000  3.700000e+02   0.000000e+00  1.900000e+03   \n",
       "P1         1.000000     0.000000  7.099000e+02   0.000000e+00  1.903000e+03   \n",
       "P5         1.000000     0.000000  8.600000e+02   0.000000e+00  1.913000e+03   \n",
       "P50        1.500000     0.000000  1.590000e+03   0.000000e+00  1.976000e+03   \n",
       "P95        2.000000     2.000000  3.440000e+03   1.210000e+03  2.009000e+03   \n",
       "P99        3.000000     4.000000  4.460100e+03   1.700200e+03  2.014000e+03   \n",
       "MAX        3.500000     4.000000  9.410000e+03   4.820000e+03  2.014000e+03   \n",
       "\n",
       "        yr_renovated  \n",
       "Count   4.600000e+03  \n",
       "Unique  6.000000e+01  \n",
       "NMISS   0.000000e+00  \n",
       "SUM     3.719598e+06  \n",
       "MEAN    8.086083e+02  \n",
       "MEDIAN  0.000000e+00  \n",
       "STD     9.794145e+02  \n",
       "VAR     9.592528e+05  \n",
       "MIN     0.000000e+00  \n",
       "P1      0.000000e+00  \n",
       "P5      0.000000e+00  \n",
       "P50     0.000000e+00  \n",
       "P95     2.011000e+03  \n",
       "P99     2.014000e+03  \n",
       "MAX     2.014000e+03  "
      ]
     },
     "execution_count": 12,
     "metadata": {},
     "output_type": "execute_result"
    }
   ],
   "source": [
    "#Continuous Variable Summary\n",
    "data_house.select_dtypes(['int64','float64']).apply(continuous_var_summary)"
   ]
  },
  {
   "cell_type": "code",
   "execution_count": 13,
   "metadata": {},
   "outputs": [
    {
     "data": {
      "text/html": [
       "<div>\n",
       "<style scoped>\n",
       "    .dataframe tbody tr th:only-of-type {\n",
       "        vertical-align: middle;\n",
       "    }\n",
       "\n",
       "    .dataframe tbody tr th {\n",
       "        vertical-align: top;\n",
       "    }\n",
       "\n",
       "    .dataframe thead th {\n",
       "        text-align: right;\n",
       "    }\n",
       "</style>\n",
       "<table border=\"1\" class=\"dataframe\">\n",
       "  <thead>\n",
       "    <tr style=\"text-align: right;\">\n",
       "      <th></th>\n",
       "      <th>waterfront</th>\n",
       "      <th>condition</th>\n",
       "      <th>street</th>\n",
       "      <th>city</th>\n",
       "      <th>statezip</th>\n",
       "      <th>country</th>\n",
       "    </tr>\n",
       "  </thead>\n",
       "  <tbody>\n",
       "    <tr>\n",
       "      <th>COUNT</th>\n",
       "      <td>4600.00</td>\n",
       "      <td>4600.0</td>\n",
       "      <td>4600</td>\n",
       "      <td>4600</td>\n",
       "      <td>4600</td>\n",
       "      <td>4600</td>\n",
       "    </tr>\n",
       "    <tr>\n",
       "      <th>MISS</th>\n",
       "      <td>0.00</td>\n",
       "      <td>0.0</td>\n",
       "      <td>0</td>\n",
       "      <td>0</td>\n",
       "      <td>0</td>\n",
       "      <td>0</td>\n",
       "    </tr>\n",
       "    <tr>\n",
       "      <th>UNIQUE</th>\n",
       "      <td>2.00</td>\n",
       "      <td>5.0</td>\n",
       "      <td>4525</td>\n",
       "      <td>44</td>\n",
       "      <td>77</td>\n",
       "      <td>1</td>\n",
       "    </tr>\n",
       "    <tr>\n",
       "      <th>MODE</th>\n",
       "      <td>0.00</td>\n",
       "      <td>3.0</td>\n",
       "      <td>2520 Mulberry Walk NE</td>\n",
       "      <td>Seattle</td>\n",
       "      <td>WA 98103</td>\n",
       "      <td>USA</td>\n",
       "    </tr>\n",
       "    <tr>\n",
       "      <th>FREQ</th>\n",
       "      <td>4567.00</td>\n",
       "      <td>2875.0</td>\n",
       "      <td>4</td>\n",
       "      <td>1573</td>\n",
       "      <td>148</td>\n",
       "      <td>4600</td>\n",
       "    </tr>\n",
       "    <tr>\n",
       "      <th>PERCENT</th>\n",
       "      <td>99.28</td>\n",
       "      <td>62.5</td>\n",
       "      <td>0.09</td>\n",
       "      <td>34.2</td>\n",
       "      <td>3.22</td>\n",
       "      <td>100.0</td>\n",
       "    </tr>\n",
       "  </tbody>\n",
       "</table>\n",
       "</div>"
      ],
      "text/plain": [
       "         waterfront  condition                 street     city  statezip  \\\n",
       "COUNT       4600.00     4600.0                   4600     4600      4600   \n",
       "MISS           0.00        0.0                      0        0         0   \n",
       "UNIQUE         2.00        5.0                   4525       44        77   \n",
       "MODE           0.00        3.0  2520 Mulberry Walk NE  Seattle  WA 98103   \n",
       "FREQ        4567.00     2875.0                      4     1573       148   \n",
       "PERCENT       99.28       62.5                   0.09     34.2      3.22   \n",
       "\n",
       "        country  \n",
       "COUNT      4600  \n",
       "MISS          0  \n",
       "UNIQUE        1  \n",
       "MODE        USA  \n",
       "FREQ       4600  \n",
       "PERCENT   100.0  "
      ]
     },
     "execution_count": 13,
     "metadata": {},
     "output_type": "execute_result"
    }
   ],
   "source": [
    "#Categorical Variable Summary\n",
    "data_house.select_dtypes('object').apply(categorical_var_summary)"
   ]
  },
  {
   "cell_type": "markdown",
   "metadata": {},
   "source": [
    "Based on Statistical summary we can drop 'street','waterfront' and 'country'. 'street' has high number of unique values which will not be a good predictor for our model and 'country' has only one value & 'waterfront' has only 2 thus will not have any effect on our model."
   ]
  },
  {
   "cell_type": "markdown",
   "metadata": {},
   "source": [
    "#### <a>Data preparation"
   ]
  },
  {
   "cell_type": "code",
   "execution_count": 14,
   "metadata": {},
   "outputs": [],
   "source": [
    "#Dropping street and country\n",
    "data_house.drop(labels = ['street','country','waterfront'], axis = 1, inplace = True)"
   ]
  },
  {
   "cell_type": "code",
   "execution_count": 15,
   "metadata": {},
   "outputs": [
    {
     "data": {
      "text/plain": [
       "price            0\n",
       "bedrooms         0\n",
       "bathrooms        0\n",
       "sqft_living      0\n",
       "sqft_lot         0\n",
       "floors           0\n",
       "view             0\n",
       "condition        0\n",
       "sqft_above       0\n",
       "sqft_basement    0\n",
       "yr_built         0\n",
       "yr_renovated     0\n",
       "city             0\n",
       "statezip         0\n",
       "dtype: int64"
      ]
     },
     "execution_count": 15,
     "metadata": {},
     "output_type": "execute_result"
    }
   ],
   "source": [
    "#Checking for missing values\n",
    "data_house.isna().sum()"
   ]
  },
  {
   "cell_type": "code",
   "execution_count": 16,
   "metadata": {},
   "outputs": [],
   "source": [
    "#Getting continuous and categorical variable list\n",
    "cont_var = data_house.select_dtypes(['int64','float64']).columns\n",
    "cat_var = data_house.select_dtypes('object').columns"
   ]
  },
  {
   "cell_type": "code",
   "execution_count": 17,
   "metadata": {},
   "outputs": [],
   "source": [
    "#Handling Outliers\n",
    "data_house[cont_var] = data_house[cont_var].apply(outlier_capping)"
   ]
  },
  {
   "cell_type": "markdown",
   "metadata": {},
   "source": [
    "#### <a>EDA"
   ]
  },
  {
   "cell_type": "code",
   "execution_count": 18,
   "metadata": {},
   "outputs": [
    {
     "name": "stdout",
     "output_type": "stream",
     "text": [
      "1.9307248478709846\n"
     ]
    },
    {
     "data": {
      "image/png": "[encoded data removed]",
      "text/plain": [
       "<Figure size 432x288 with 1 Axes>"
      ]
     },
     "metadata": {
      "needs_background": "light"
     },
     "output_type": "display_data"
    }
   ],
   "source": [
    "#Checking the distribution of target variable\n",
    "sns.distplot(data_house.price,\n",
    "              kde = True)\n",
    "print(data_house.price.skew())"
   ]
  },
  {
   "cell_type": "code",
   "execution_count": 19,
   "metadata": {},
   "outputs": [],
   "source": [
    "#Handling Disturbance in target variable and taking log to make distribution normal\n",
    "data_house = data_house[(data_house['price']>0)&(data_house['price']<=2005000.0)]\n",
    "data_house['log_price'] = np.log(data_house.price)"
   ]
  },
  {
   "cell_type": "code",
   "execution_count": 20,
   "metadata": {},
   "outputs": [
    {
     "name": "stdout",
     "output_type": "stream",
     "text": [
      "-0.045601540141737514\n"
     ]
    },
    {
     "data": {
      "image/png": "[encoded data removed]",
      "text/plain": [
       "<Figure size 432x288 with 1 Axes>"
      ]
     },
     "metadata": {
      "needs_background": "light"
     },
     "output_type": "display_data"
    }
   ],
   "source": [
    "#Checking the distribution of new target variable - log_price\n",
    "sns.distplot(data_house.log_price)\n",
    "print(data_house.log_price.skew())"
   ]
  },
  {
   "cell_type": "code",
   "execution_count": 21,
   "metadata": {},
   "outputs": [
    {
     "data": {
      "image/png": "[encoded data removed]",
      "text/plain": [
       "<Figure size 576x1440 with 6 Axes>"
      ]
     },
     "metadata": {
      "needs_background": "light"
     },
     "output_type": "display_data"
    }
   ],
   "source": [
    "#Price across different variables\n",
    "plt_cols = ['bedrooms', 'bathrooms', 'floors', 'view', 'condition', 'city']\n",
    "\n",
    "plt.figure(figsize = (8,20))\n",
    "for i, col in enumerate(plt_cols):\n",
    "    plt.subplot(6, 1, i+1)\n",
    "    plt.subplots_adjust(hspace = 1, wspace = .5)\n",
    "    sns.barplot(x = data_house[col], y = data_house.price)\n",
    "    plt.xticks(rotation = 90)\n",
    "    plt.tight_layout()"
   ]
  },
  {
   "cell_type": "markdown",
   "metadata": {},
   "source": [
    "Observations :\n",
    "- Prices increases linearly with the number of bedrooms\n",
    "- Prices also increases with number of bathrooms\n",
    "- Price of house with 2.5 floors is high and it decreases for house with 3 floors\n",
    "- House with 4 views have high price\n",
    "- House with condition 3,4 or 5 have high price\n",
    "- Prices of houses in Medina, Clyde Hill and Yarrow Point are the highest"
   ]
  },
  {
   "cell_type": "code",
   "execution_count": 22,
   "metadata": {},
   "outputs": [
    {
     "data": {
      "image/png": "[encoded data removed]",
      "text/plain": [
       "<Figure size 864x576 with 4 Axes>"
      ]
     },
     "metadata": {
      "needs_background": "light"
     },
     "output_type": "display_data"
    }
   ],
   "source": [
    "#Price across different area measures\n",
    "plt_cols = ['sqft_living', 'sqft_lot', 'sqft_above', 'sqft_basement']\n",
    "\n",
    "plt.figure(figsize = (12,8))\n",
    "for i, col in enumerate(plt_cols):\n",
    "    plt.subplot(2, 2, i+1)\n",
    "    plt.subplots_adjust(hspace = 1, wspace = .5)\n",
    "    sns.scatterplot(x = data_house[col], y = data_house.price)\n",
    "    plt.xticks(rotation = 90)\n",
    "    plt.tight_layout()"
   ]
  },
  {
   "cell_type": "markdown",
   "metadata": {},
   "source": [
    "Price is correlated with sqft_living and sqft_above"
   ]
  },
  {
   "cell_type": "markdown",
   "metadata": {},
   "source": [
    "#### <a>Correlation Matrix"
   ]
  },
  {
   "cell_type": "code",
   "execution_count": 23,
   "metadata": {},
   "outputs": [
    {
     "data": {
      "image/png": "[encoded data removed]",
      "text/plain": [
       "<Figure size 864x576 with 2 Axes>"
      ]
     },
     "metadata": {
      "needs_background": "light"
     },
     "output_type": "display_data"
    }
   ],
   "source": [
    "plt.figure(figsize = (12,8))\n",
    "sns.heatmap(data_house.corr(), annot = True)\n",
    "plt.show()"
   ]
  },
  {
   "cell_type": "markdown",
   "metadata": {},
   "source": [
    "#### <a>Preprocessing data"
   ]
  },
  {
   "cell_type": "code",
   "execution_count": 24,
   "metadata": {},
   "outputs": [
    {
     "data": {
      "text/html": [
       "<div>\n",
       "<style scoped>\n",
       "    .dataframe tbody tr th:only-of-type {\n",
       "        vertical-align: middle;\n",
       "    }\n",
       "\n",
       "    .dataframe tbody tr th {\n",
       "        vertical-align: top;\n",
       "    }\n",
       "\n",
       "    .dataframe thead th {\n",
       "        text-align: right;\n",
       "    }\n",
       "</style>\n",
       "<table border=\"1\" class=\"dataframe\">\n",
       "  <thead>\n",
       "    <tr style=\"text-align: right;\">\n",
       "      <th></th>\n",
       "      <th>price</th>\n",
       "      <th>bedrooms</th>\n",
       "      <th>bathrooms</th>\n",
       "      <th>sqft_living</th>\n",
       "      <th>sqft_lot</th>\n",
       "      <th>floors</th>\n",
       "      <th>view</th>\n",
       "      <th>sqft_above</th>\n",
       "      <th>sqft_basement</th>\n",
       "      <th>yr_built</th>\n",
       "      <th>...</th>\n",
       "      <th>statezip_WA 98155</th>\n",
       "      <th>statezip_WA 98166</th>\n",
       "      <th>statezip_WA 98168</th>\n",
       "      <th>statezip_WA 98177</th>\n",
       "      <th>statezip_WA 98178</th>\n",
       "      <th>statezip_WA 98188</th>\n",
       "      <th>statezip_WA 98198</th>\n",
       "      <th>statezip_WA 98199</th>\n",
       "      <th>statezip_WA 98288</th>\n",
       "      <th>statezip_WA 98354</th>\n",
       "    </tr>\n",
       "  </thead>\n",
       "  <tbody>\n",
       "    <tr>\n",
       "      <th>0</th>\n",
       "      <td>313000.0</td>\n",
       "      <td>3.0</td>\n",
       "      <td>1.50</td>\n",
       "      <td>1340.0</td>\n",
       "      <td>7912.0</td>\n",
       "      <td>1.5</td>\n",
       "      <td>0</td>\n",
       "      <td>1340.0</td>\n",
       "      <td>0.0</td>\n",
       "      <td>1955</td>\n",
       "      <td>...</td>\n",
       "      <td>0</td>\n",
       "      <td>0</td>\n",
       "      <td>0</td>\n",
       "      <td>0</td>\n",
       "      <td>0</td>\n",
       "      <td>0</td>\n",
       "      <td>0</td>\n",
       "      <td>0</td>\n",
       "      <td>0</td>\n",
       "      <td>0</td>\n",
       "    </tr>\n",
       "    <tr>\n",
       "      <th>2</th>\n",
       "      <td>342000.0</td>\n",
       "      <td>3.0</td>\n",
       "      <td>2.00</td>\n",
       "      <td>1930.0</td>\n",
       "      <td>11947.0</td>\n",
       "      <td>1.0</td>\n",
       "      <td>0</td>\n",
       "      <td>1930.0</td>\n",
       "      <td>0.0</td>\n",
       "      <td>1966</td>\n",
       "      <td>...</td>\n",
       "      <td>0</td>\n",
       "      <td>0</td>\n",
       "      <td>0</td>\n",
       "      <td>0</td>\n",
       "      <td>0</td>\n",
       "      <td>0</td>\n",
       "      <td>0</td>\n",
       "      <td>0</td>\n",
       "      <td>0</td>\n",
       "      <td>0</td>\n",
       "    </tr>\n",
       "    <tr>\n",
       "      <th>3</th>\n",
       "      <td>420000.0</td>\n",
       "      <td>3.0</td>\n",
       "      <td>2.25</td>\n",
       "      <td>2000.0</td>\n",
       "      <td>8030.0</td>\n",
       "      <td>1.0</td>\n",
       "      <td>0</td>\n",
       "      <td>1000.0</td>\n",
       "      <td>1000.0</td>\n",
       "      <td>1963</td>\n",
       "      <td>...</td>\n",
       "      <td>0</td>\n",
       "      <td>0</td>\n",
       "      <td>0</td>\n",
       "      <td>0</td>\n",
       "      <td>0</td>\n",
       "      <td>0</td>\n",
       "      <td>0</td>\n",
       "      <td>0</td>\n",
       "      <td>0</td>\n",
       "      <td>0</td>\n",
       "    </tr>\n",
       "    <tr>\n",
       "      <th>4</th>\n",
       "      <td>550000.0</td>\n",
       "      <td>4.0</td>\n",
       "      <td>2.50</td>\n",
       "      <td>1940.0</td>\n",
       "      <td>10500.0</td>\n",
       "      <td>1.0</td>\n",
       "      <td>0</td>\n",
       "      <td>1140.0</td>\n",
       "      <td>800.0</td>\n",
       "      <td>1976</td>\n",
       "      <td>...</td>\n",
       "      <td>0</td>\n",
       "      <td>0</td>\n",
       "      <td>0</td>\n",
       "      <td>0</td>\n",
       "      <td>0</td>\n",
       "      <td>0</td>\n",
       "      <td>0</td>\n",
       "      <td>0</td>\n",
       "      <td>0</td>\n",
       "      <td>0</td>\n",
       "    </tr>\n",
       "    <tr>\n",
       "      <th>5</th>\n",
       "      <td>490000.0</td>\n",
       "      <td>2.0</td>\n",
       "      <td>1.00</td>\n",
       "      <td>880.0</td>\n",
       "      <td>6380.0</td>\n",
       "      <td>1.0</td>\n",
       "      <td>0</td>\n",
       "      <td>880.0</td>\n",
       "      <td>0.0</td>\n",
       "      <td>1938</td>\n",
       "      <td>...</td>\n",
       "      <td>0</td>\n",
       "      <td>0</td>\n",
       "      <td>0</td>\n",
       "      <td>0</td>\n",
       "      <td>0</td>\n",
       "      <td>0</td>\n",
       "      <td>0</td>\n",
       "      <td>0</td>\n",
       "      <td>0</td>\n",
       "      <td>0</td>\n",
       "    </tr>\n",
       "  </tbody>\n",
       "</table>\n",
       "<p>5 rows × 135 columns</p>\n",
       "</div>"
      ],
      "text/plain": [
       "      price  bedrooms  bathrooms  sqft_living  sqft_lot  floors  view  \\\n",
       "0  313000.0       3.0       1.50       1340.0    7912.0     1.5     0   \n",
       "2  342000.0       3.0       2.00       1930.0   11947.0     1.0     0   \n",
       "3  420000.0       3.0       2.25       2000.0    8030.0     1.0     0   \n",
       "4  550000.0       4.0       2.50       1940.0   10500.0     1.0     0   \n",
       "5  490000.0       2.0       1.00        880.0    6380.0     1.0     0   \n",
       "\n",
       "   sqft_above  sqft_basement  yr_built  ...  statezip_WA 98155  \\\n",
       "0      1340.0            0.0      1955  ...                  0   \n",
       "2      1930.0            0.0      1966  ...                  0   \n",
       "3      1000.0         1000.0      1963  ...                  0   \n",
       "4      1140.0          800.0      1976  ...                  0   \n",
       "5       880.0            0.0      1938  ...                  0   \n",
       "\n",
       "   statezip_WA 98166  statezip_WA 98168  statezip_WA 98177  statezip_WA 98178  \\\n",
       "0                  0                  0                  0                  0   \n",
       "2                  0                  0                  0                  0   \n",
       "3                  0                  0                  0                  0   \n",
       "4                  0                  0                  0                  0   \n",
       "5                  0                  0                  0                  0   \n",
       "\n",
       "   statezip_WA 98188  statezip_WA 98198  statezip_WA 98199  statezip_WA 98288  \\\n",
       "0                  0                  0                  0                  0   \n",
       "2                  0                  0                  0                  0   \n",
       "3                  0                  0                  0                  0   \n",
       "4                  0                  0                  0                  0   \n",
       "5                  0                  0                  0                  0   \n",
       "\n",
       "   statezip_WA 98354  \n",
       "0                  0  \n",
       "2                  0  \n",
       "3                  0  \n",
       "4                  0  \n",
       "5                  0  \n",
       "\n",
       "[5 rows x 135 columns]"
      ]
     },
     "execution_count": 24,
     "metadata": {},
     "output_type": "execute_result"
    }
   ],
   "source": [
    "#Creating dummy variables for categorical variables\n",
    "data_house = create_dummies(data_house, cat_var)\n",
    "data_house.head()"
   ]
  },
  {
   "cell_type": "markdown",
   "metadata": {},
   "source": [
    "#### <a>Feature Selection"
   ]
  },
  {
   "cell_type": "code",
   "execution_count": 25,
   "metadata": {},
   "outputs": [],
   "source": [
    "#Removing space in column names\n",
    "data_house.columns = data_house.columns.str.replace(' ', '')"
   ]
  },
  {
   "cell_type": "code",
   "execution_count": 26,
   "metadata": {},
   "outputs": [
    {
     "data": {
      "text/plain": [
       "0             bathrooms\n",
       "1              bedrooms\n",
       "2           city_Auburn\n",
       "3         city_Bellevue\n",
       "4           city_Burien\n",
       "             ...       \n",
       "100    statezip_WA98199\n",
       "101    statezip_WA98288\n",
       "102                view\n",
       "103            yr_built\n",
       "104        yr_renovated\n",
       "Name: Features, Length: 105, dtype: object"
      ]
     },
     "execution_count": 26,
     "metadata": {},
     "output_type": "execute_result"
    }
   ],
   "source": [
    "#Using F-Regression\n",
    "#Getting features and target\n",
    "feat_cols = data_house.columns.difference(['price','log_price'])\n",
    "target = data_house.log_price\n",
    "\n",
    "#Performing f-test for each x variable with y\n",
    "f_values, p_values = f_regression(data_house[feat_cols], target)\n",
    "\n",
    "#Storing data as a DataFrame\n",
    "fr_df = pd.DataFrame({'Features':feat_cols, 'F_values':f_values, 'p_values':p_values.round(3)})\n",
    "\n",
    "#Getting significant variables at 90% : p = 0.1\n",
    "f_cols = fr_df.loc[fr_df.p_values<=0.1, 'Features'].reset_index(drop = True)\n",
    "f_cols"
   ]
  },
  {
   "cell_type": "code",
   "execution_count": 27,
   "metadata": {},
   "outputs": [
    {
     "name": "stdout",
     "output_type": "stream",
     "text": [
      "[ True  True  True  True False False False False False False  True  True\n",
      "  True  True False False False False False False  True False  True False\n",
      "  True False False False False False False False False False False  True\n",
      "  True  True  True False False  True False False False False False False\n",
      " False False False False False False False False False  True False False\n",
      " False False False False False False False False False False False False\n",
      " False False False False False False False False False False False False\n",
      " False False False False False False False False False False False False\n",
      " False False False False False False  True  True  True]\n",
      "[ 1  1  1  1 47 64 28 49 33 57  1  1  1  1  9 48  4 41 40 72  1  5  1 34\n",
      "  1 18 86 60  6 19 20 29 11 15  7  1  1  1  1 76 81  1 75 68 84 56 58 30\n",
      " 35 71 66 67 77 85 12 23 26  1 16 61 80 45 82 74 55 70 38 37 44 73 69 78\n",
      " 32 63 46 36  3 62 14 51 10 42 59 43 17 31 53 24 22 25 27 13 79 39 50  8\n",
      " 54  2 65 21 52 83  1  1  1]\n"
     ]
    }
   ],
   "source": [
    "#Using Recursive Feature Elimination (RFE)\n",
    "#Using RandomForestRegressor as an estimator\n",
    "rf_est = RandomForestRegressor(random_state = 456)\n",
    "\n",
    "#Using RFE to get importance of each variable\n",
    "rfe = RFE(estimator =rf_est, n_features_to_select = 20)\n",
    "rfe.fit(data_house[f_cols], target)\n",
    "\n",
    "print(rfe.support_)\n",
    "print(rfe.ranking_)"
   ]
  },
  {
   "cell_type": "code",
   "execution_count": 28,
   "metadata": {},
   "outputs": [
    {
     "data": {
      "text/plain": [
       "0            bathrooms\n",
       "1             bedrooms\n",
       "2          city_Auburn\n",
       "3        city_Bellevue\n",
       "4      city_FederalWay\n",
       "5        city_Issaquah\n",
       "6            city_Kent\n",
       "7        city_Kirkland\n",
       "8         city_Redmond\n",
       "9       city_Sammamish\n",
       "10        city_Seattle\n",
       "11          sqft_above\n",
       "12       sqft_basement\n",
       "13         sqft_living\n",
       "14            sqft_lot\n",
       "15    statezip_WA98004\n",
       "16    statezip_WA98040\n",
       "17                view\n",
       "18            yr_built\n",
       "19        yr_renovated\n",
       "Name: Features, dtype: object"
      ]
     },
     "execution_count": 28,
     "metadata": {},
     "output_type": "execute_result"
    }
   ],
   "source": [
    "#Getting important features\n",
    "rfe_cols = f_cols[rfe.support_].reset_index(drop = True)\n",
    "rfe_cols"
   ]
  },
  {
   "cell_type": "code",
   "execution_count": 29,
   "metadata": {},
   "outputs": [
    {
     "data": {
      "text/plain": [
       "'log_price ~ bathrooms + bedrooms + city_Auburn + city_Bellevue + city_FederalWay + city_Issaquah + city_Kent + city_Kirkland + city_Redmond + city_Sammamish + city_Seattle + sqft_above + sqft_basement + sqft_living + sqft_lot + statezip_WA98004 + statezip_WA98040 + view + yr_built + yr_renovated'"
      ]
     },
     "execution_count": 29,
     "metadata": {},
     "output_type": "execute_result"
    }
   ],
   "source": [
    "#Getting Model Formula\n",
    "'log_price ~ '+' + '.join(rfe_cols)"
   ]
  },
  {
   "cell_type": "code",
   "execution_count": 30,
   "metadata": {},
   "outputs": [],
   "source": [
    "model_fm = '''log_price ~ bathrooms + bedrooms + city_Auburn + city_Bellevue + city_FederalWay\n",
    "+ city_Issaquah + city_Kent + city_Kirkland + city_Redmond + city_Sammamish + city_Seattle +\n",
    "sqft_basement + sqft_living + sqft_lot + statezip_WA98004 + statezip_WA98040\n",
    "+ view + yr_built + yr_renovated'''"
   ]
  },
  {
   "cell_type": "code",
   "execution_count": 31,
   "metadata": {},
   "outputs": [
    {
     "data": {
      "text/html": [
       "<div>\n",
       "<style scoped>\n",
       "    .dataframe tbody tr th:only-of-type {\n",
       "        vertical-align: middle;\n",
       "    }\n",
       "\n",
       "    .dataframe tbody tr th {\n",
       "        vertical-align: top;\n",
       "    }\n",
       "\n",
       "    .dataframe thead th {\n",
       "        text-align: right;\n",
       "    }\n",
       "</style>\n",
       "<table border=\"1\" class=\"dataframe\">\n",
       "  <thead>\n",
       "    <tr style=\"text-align: right;\">\n",
       "      <th></th>\n",
       "      <th>Features</th>\n",
       "      <th>VIF Factor</th>\n",
       "    </tr>\n",
       "  </thead>\n",
       "  <tbody>\n",
       "    <tr>\n",
       "      <th>0</th>\n",
       "      <td>Intercept</td>\n",
       "      <td>8333.2</td>\n",
       "    </tr>\n",
       "    <tr>\n",
       "      <th>1</th>\n",
       "      <td>bathrooms</td>\n",
       "      <td>3.0</td>\n",
       "    </tr>\n",
       "    <tr>\n",
       "      <th>2</th>\n",
       "      <td>bedrooms</td>\n",
       "      <td>1.7</td>\n",
       "    </tr>\n",
       "    <tr>\n",
       "      <th>3</th>\n",
       "      <td>city_Auburn</td>\n",
       "      <td>1.1</td>\n",
       "    </tr>\n",
       "    <tr>\n",
       "      <th>4</th>\n",
       "      <td>city_Bellevue</td>\n",
       "      <td>1.3</td>\n",
       "    </tr>\n",
       "    <tr>\n",
       "      <th>5</th>\n",
       "      <td>city_FederalWay</td>\n",
       "      <td>1.1</td>\n",
       "    </tr>\n",
       "    <tr>\n",
       "      <th>6</th>\n",
       "      <td>city_Issaquah</td>\n",
       "      <td>1.1</td>\n",
       "    </tr>\n",
       "    <tr>\n",
       "      <th>7</th>\n",
       "      <td>city_Kent</td>\n",
       "      <td>1.1</td>\n",
       "    </tr>\n",
       "    <tr>\n",
       "      <th>8</th>\n",
       "      <td>city_Kirkland</td>\n",
       "      <td>1.1</td>\n",
       "    </tr>\n",
       "    <tr>\n",
       "      <th>9</th>\n",
       "      <td>city_Redmond</td>\n",
       "      <td>1.1</td>\n",
       "    </tr>\n",
       "    <tr>\n",
       "      <th>10</th>\n",
       "      <td>city_Sammamish</td>\n",
       "      <td>1.1</td>\n",
       "    </tr>\n",
       "    <tr>\n",
       "      <th>11</th>\n",
       "      <td>city_Seattle</td>\n",
       "      <td>1.8</td>\n",
       "    </tr>\n",
       "    <tr>\n",
       "      <th>12</th>\n",
       "      <td>sqft_basement</td>\n",
       "      <td>1.5</td>\n",
       "    </tr>\n",
       "    <tr>\n",
       "      <th>13</th>\n",
       "      <td>sqft_living</td>\n",
       "      <td>3.3</td>\n",
       "    </tr>\n",
       "    <tr>\n",
       "      <th>14</th>\n",
       "      <td>sqft_lot</td>\n",
       "      <td>1.2</td>\n",
       "    </tr>\n",
       "    <tr>\n",
       "      <th>15</th>\n",
       "      <td>statezip_WA98004</td>\n",
       "      <td>1.2</td>\n",
       "    </tr>\n",
       "    <tr>\n",
       "      <th>16</th>\n",
       "      <td>statezip_WA98040</td>\n",
       "      <td>1.1</td>\n",
       "    </tr>\n",
       "    <tr>\n",
       "      <th>17</th>\n",
       "      <td>view</td>\n",
       "      <td>1.2</td>\n",
       "    </tr>\n",
       "    <tr>\n",
       "      <th>18</th>\n",
       "      <td>yr_built</td>\n",
       "      <td>1.9</td>\n",
       "    </tr>\n",
       "    <tr>\n",
       "      <th>19</th>\n",
       "      <td>yr_renovated</td>\n",
       "      <td>1.1</td>\n",
       "    </tr>\n",
       "  </tbody>\n",
       "</table>\n",
       "</div>"
      ],
      "text/plain": [
       "            Features  VIF Factor\n",
       "0          Intercept      8333.2\n",
       "1          bathrooms         3.0\n",
       "2           bedrooms         1.7\n",
       "3        city_Auburn         1.1\n",
       "4      city_Bellevue         1.3\n",
       "5    city_FederalWay         1.1\n",
       "6      city_Issaquah         1.1\n",
       "7          city_Kent         1.1\n",
       "8      city_Kirkland         1.1\n",
       "9       city_Redmond         1.1\n",
       "10    city_Sammamish         1.1\n",
       "11      city_Seattle         1.8\n",
       "12     sqft_basement         1.5\n",
       "13       sqft_living         3.3\n",
       "14          sqft_lot         1.2\n",
       "15  statezip_WA98004         1.2\n",
       "16  statezip_WA98040         1.1\n",
       "17              view         1.2\n",
       "18          yr_built         1.9\n",
       "19      yr_renovated         1.1"
      ]
     },
     "execution_count": 31,
     "metadata": {},
     "output_type": "execute_result"
    }
   ],
   "source": [
    "#Using Variance Inflation Factor (VIF)\n",
    "#Separating the X and Y variables\n",
    "Y, X = dmatrices(model_fm, data_house, return_type = 'dataframe')\n",
    "\n",
    "#Calculating VIF for each X and saving in DataFrame\n",
    "vif = pd.DataFrame()\n",
    "vif['Features'] = X.columns\n",
    "vif['VIF Factor'] = [variance_inflation_factor(X.values, i) for i in range(X.shape[1])]\n",
    "\n",
    "#Getting features\n",
    "vif_cols = list(set(vif.Features).difference(['Intercept']))\n",
    "\n",
    "#VIF output\n",
    "vif.round(1)"
   ]
  },
  {
   "cell_type": "markdown",
   "metadata": {},
   "source": [
    "Dropped 'sqft_above' feature having VIF Factor > 4. VIF Factor > 4 means high multicollinearity."
   ]
  },
  {
   "cell_type": "markdown",
   "metadata": {},
   "source": [
    "#### <a>Train and Test Data"
   ]
  },
  {
   "cell_type": "code",
   "execution_count": 32,
   "metadata": {},
   "outputs": [],
   "source": [
    "#For Statistical modelling\n",
    "train, test = train_test_split(data_house, test_size = 0.3, random_state = 123)"
   ]
  },
  {
   "cell_type": "code",
   "execution_count": 33,
   "metadata": {},
   "outputs": [
    {
     "data": {
      "text/plain": [
       "'log_price ~ city_Issaquah + statezip_WA98040 + bedrooms + sqft_basement + statezip_WA98004 + city_FederalWay + city_Kent + yr_renovated + city_Sammamish + view + sqft_living + city_Redmond + city_Auburn + yr_built + city_Bellevue + bathrooms + city_Kirkland + city_Seattle + sqft_lot'"
      ]
     },
     "execution_count": 33,
     "metadata": {},
     "output_type": "execute_result"
    }
   ],
   "source": [
    "#Getting final model equation\n",
    "'log_price ~ '+' + '.join(vif_cols)"
   ]
  },
  {
   "cell_type": "code",
   "execution_count": 34,
   "metadata": {},
   "outputs": [],
   "source": [
    "mo_fm = '''log_price ~ sqft_living + yr_renovated + sqft_lot + statezip_WA98040 + city_Auburn +\n",
    "city_Seattle + yr_built + city_FederalWay + city_Sammamish + city_Kirkland + city_Kent +\n",
    "bedrooms + city_Issaquah + statezip_WA98004 + bathrooms + sqft_basement + view + city_Redmond\n",
    "+ city_Bellevue'''"
   ]
  },
  {
   "cell_type": "markdown",
   "metadata": {},
   "source": [
    "#### <a>Linear Regression Model"
   ]
  },
  {
   "cell_type": "code",
   "execution_count": 35,
   "metadata": {},
   "outputs": [],
   "source": [
    "#building model\n",
    "lm0 = smf.ols(formula = mo_fm, data = train).fit()"
   ]
  },
  {
   "cell_type": "code",
   "execution_count": 36,
   "metadata": {},
   "outputs": [
    {
     "name": "stdout",
     "output_type": "stream",
     "text": [
      "                            OLS Regression Results                            \n",
      "==============================================================================\n",
      "Dep. Variable:              log_price   R-squared:                       0.709\n",
      "Model:                            OLS   Adj. R-squared:                  0.707\n",
      "Method:                 Least Squares   F-statistic:                     401.6\n",
      "Date:                Thu, 16 Sep 2021   Prob (F-statistic):               0.00\n",
      "Time:                        17:49:20   Log-Likelihood:                -411.73\n",
      "No. Observations:                3153   AIC:                             863.5\n",
      "Df Residuals:                    3133   BIC:                             984.6\n",
      "Df Model:                          19                                         \n",
      "Covariance Type:            nonrobust                                         \n",
      "====================================================================================\n",
      "                       coef    std err          t      P>|t|      [0.025      0.975]\n",
      "------------------------------------------------------------------------------------\n",
      "Intercept           16.1670      0.444     36.371      0.000      15.295      17.039\n",
      "sqft_living          0.0004   1.03e-05     34.260      0.000       0.000       0.000\n",
      "yr_renovated     -9.263e-06   5.36e-06     -1.728      0.084   -1.98e-05    1.25e-06\n",
      "sqft_lot          4.742e-07      2e-07      2.375      0.018    8.27e-08    8.66e-07\n",
      "statezip_WA98040     0.5701      0.039     14.470      0.000       0.493       0.647\n",
      "city_Auburn         -0.2821      0.027    -10.640      0.000      -0.334      -0.230\n",
      "city_Seattle         0.3579      0.014     25.515      0.000       0.330       0.385\n",
      "yr_built            -0.0021      0.000     -9.304      0.000      -0.003      -0.002\n",
      "city_FederalWay     -0.2806      0.028     -9.865      0.000      -0.336      -0.225\n",
      "city_Sammamish       0.3006      0.028     10.737      0.000       0.246       0.355\n",
      "city_Kirkland        0.3604      0.026     13.786      0.000       0.309       0.412\n",
      "city_Kent           -0.2158      0.026     -8.343      0.000      -0.266      -0.165\n",
      "bedrooms            -0.0348      0.007     -4.648      0.000      -0.049      -0.020\n",
      "city_Issaquah        0.2879      0.026     10.892      0.000       0.236       0.340\n",
      "statezip_WA98004     0.4708      0.046     10.325      0.000       0.381       0.560\n",
      "bathrooms            0.1131      0.011      9.917      0.000       0.091       0.135\n",
      "sqft_basement       -0.0001   1.36e-05     -8.731      0.000      -0.000   -9.23e-05\n",
      "view                 0.0760      0.007     10.907      0.000       0.062       0.090\n",
      "city_Redmond         0.3765      0.024     15.944      0.000       0.330       0.423\n",
      "city_Bellevue        0.3838      0.024     15.925      0.000       0.337       0.431\n",
      "==============================================================================\n",
      "Omnibus:                      505.377   Durbin-Watson:                   1.957\n",
      "Prob(Omnibus):                  0.000   Jarque-Bera (JB):             1587.030\n",
      "Skew:                          -0.815   Prob(JB):                         0.00\n",
      "Kurtosis:                       6.069   Cond. No.                     2.70e+06\n",
      "==============================================================================\n",
      "\n",
      "Notes:\n",
      "[1] Standard Errors assume that the covariance matrix of the errors is correctly specified.\n",
      "[2] The condition number is large, 2.7e+06. This might indicate that there are\n",
      "strong multicollinearity or other numerical problems.\n"
     ]
    }
   ],
   "source": [
    "#Model Summary\n",
    "print(lm0.summary())"
   ]
  },
  {
   "cell_type": "markdown",
   "metadata": {},
   "source": [
    "Removing insignificant variables based on p-value > 0.05 from model summary - 'yr_renovated'"
   ]
  },
  {
   "cell_type": "code",
   "execution_count": 37,
   "metadata": {},
   "outputs": [],
   "source": [
    "final_mo_fm = '''log_price ~ sqft_living + sqft_lot + statezip_WA98040 + city_Auburn +\n",
    "city_Seattle + yr_built + city_FederalWay + city_Sammamish + city_Kirkland + city_Kent +\n",
    "bedrooms + city_Issaquah + statezip_WA98004 + bathrooms + sqft_basement + view + city_Redmond\n",
    "+ city_Bellevue'''"
   ]
  },
  {
   "cell_type": "code",
   "execution_count": 38,
   "metadata": {},
   "outputs": [],
   "source": [
    "#building model with final model formula\n",
    "lm1 = smf.ols(formula = final_mo_fm, data = train).fit()"
   ]
  },
  {
   "cell_type": "code",
   "execution_count": 39,
   "metadata": {},
   "outputs": [
    {
     "name": "stdout",
     "output_type": "stream",
     "text": [
      "                            OLS Regression Results                            \n",
      "==============================================================================\n",
      "Dep. Variable:              log_price   R-squared:                       0.709\n",
      "Model:                            OLS   Adj. R-squared:                  0.707\n",
      "Method:                 Least Squares   F-statistic:                     423.5\n",
      "Date:                Thu, 16 Sep 2021   Prob (F-statistic):               0.00\n",
      "Time:                        17:49:20   Log-Likelihood:                -413.23\n",
      "No. Observations:                3153   AIC:                             864.5\n",
      "Df Residuals:                    3134   BIC:                             979.5\n",
      "Df Model:                          18                                         \n",
      "Covariance Type:            nonrobust                                         \n",
      "====================================================================================\n",
      "                       coef    std err          t      P>|t|      [0.025      0.975]\n",
      "------------------------------------------------------------------------------------\n",
      "Intercept           16.0048      0.435     36.826      0.000      15.153      16.857\n",
      "sqft_living          0.0004   1.03e-05     34.227      0.000       0.000       0.000\n",
      "sqft_lot          4.718e-07      2e-07      2.362      0.018    8.01e-08    8.63e-07\n",
      "statezip_WA98040     0.5711      0.039     14.491      0.000       0.494       0.648\n",
      "city_Auburn         -0.2818      0.027    -10.627      0.000      -0.334      -0.230\n",
      "city_Seattle         0.3584      0.014     25.549      0.000       0.331       0.386\n",
      "yr_built            -0.0020      0.000     -9.140      0.000      -0.002      -0.002\n",
      "city_FederalWay     -0.2798      0.028     -9.836      0.000      -0.336      -0.224\n",
      "city_Sammamish       0.3002      0.028     10.720      0.000       0.245       0.355\n",
      "city_Kirkland        0.3612      0.026     13.814      0.000       0.310       0.412\n",
      "city_Kent           -0.2130      0.026     -8.250      0.000      -0.264      -0.162\n",
      "bedrooms            -0.0350      0.007     -4.676      0.000      -0.050      -0.020\n",
      "city_Issaquah        0.2896      0.026     10.961      0.000       0.238       0.341\n",
      "statezip_WA98004     0.4672      0.046     10.253      0.000       0.378       0.557\n",
      "bathrooms            0.1149      0.011     10.114      0.000       0.093       0.137\n",
      "sqft_basement       -0.0001   1.36e-05     -8.759      0.000      -0.000   -9.27e-05\n",
      "view                 0.0758      0.007     10.874      0.000       0.062       0.089\n",
      "city_Redmond         0.3778      0.024     16.000      0.000       0.331       0.424\n",
      "city_Bellevue        0.3846      0.024     15.959      0.000       0.337       0.432\n",
      "==============================================================================\n",
      "Omnibus:                      506.250   Durbin-Watson:                   1.956\n",
      "Prob(Omnibus):                  0.000   Jarque-Bera (JB):             1584.863\n",
      "Skew:                          -0.818   Prob(JB):                         0.00\n",
      "Kurtosis:                       6.064   Cond. No.                     2.64e+06\n",
      "==============================================================================\n",
      "\n",
      "Notes:\n",
      "[1] Standard Errors assume that the covariance matrix of the errors is correctly specified.\n",
      "[2] The condition number is large, 2.64e+06. This might indicate that there are\n",
      "strong multicollinearity or other numerical problems.\n"
     ]
    }
   ],
   "source": [
    "print(lm1.summary())"
   ]
  },
  {
   "cell_type": "code",
   "execution_count": 40,
   "metadata": {},
   "outputs": [
    {
     "name": "stdout",
     "output_type": "stream",
     "text": [
      "Training MAPE:  0.2176723288482579  |  Testing MAPE: 0.24636976828129548\n"
     ]
    }
   ],
   "source": [
    "#Predicting total spent on train and test dataset\n",
    "train.loc[:,'pred_price'] = np.exp(lm1.predict(train))\n",
    "test.loc[:, 'pred_price'] = np.exp(lm1.predict(test))\n",
    "\n",
    "#Getting Mean Absolute Percentage Error - MAPE\n",
    "MAPE_train = np.mean(np.abs(train['price'] - train['pred_price'])/train['price'])\n",
    "MAPE_test = np.mean(np.abs(test['price'] - test['pred_price'])/test['price'])\n",
    "\n",
    "print('Training MAPE: ',MAPE_train,' | ','Testing MAPE:' ,MAPE_test)"
   ]
  },
  {
   "cell_type": "code",
   "execution_count": 41,
   "metadata": {},
   "outputs": [
    {
     "name": "stdout",
     "output_type": "stream",
     "text": [
      "Training MSE:  28465203282.206886  |  Testing MSE: 29079847566.94841\n",
      "Training RMSE:  168716.33970130718  |  Testing RMSE: 170528.14303495013\n"
     ]
    }
   ],
   "source": [
    "#Getting Mean Squared Error Metric - MSE\n",
    "MSE_train = metrics.mean_squared_error(train.price, train.pred_price)\n",
    "MSE_test = metrics.mean_squared_error(test.price, test.pred_price)\n",
    "\n",
    "#Getting Root Mean Squared Error - RMSE\n",
    "RMSE_train = np.sqrt(MSE_train)\n",
    "lr_RMSE_test = np.sqrt(MSE_test)\n",
    "\n",
    "print('Training MSE: ',MSE_train,' | ','Testing MSE:' ,MSE_test)\n",
    "print('Training RMSE: ',RMSE_train,' | ','Testing RMSE:', lr_RMSE_test)"
   ]
  },
  {
   "cell_type": "code",
   "execution_count": 42,
   "metadata": {},
   "outputs": [
    {
     "name": "stdout",
     "output_type": "stream",
     "text": [
      "Training MAE:  107052.097037842  |  Testing MAE: 107448.05497228807\n"
     ]
    }
   ],
   "source": [
    "#Getting Mean Absolute Error Metric - MAE\n",
    "MAE_train = metrics.mean_absolute_error(train.price, train.pred_price)\n",
    "lr_MAE_test = metrics.mean_absolute_error(test.price, test.pred_price)\n",
    "\n",
    "print('Training MAE: ',MAE_train,' | ','Testing MAE:' ,lr_MAE_test)"
   ]
  },
  {
   "cell_type": "code",
   "execution_count": 43,
   "metadata": {},
   "outputs": [
    {
     "name": "stdout",
     "output_type": "stream",
     "text": [
      "Correlation - Train Data:  (0.8257769294929375, 0.0) | Test Data:  (0.809939367491996, 4.013328037e-315)\n"
     ]
    }
   ],
   "source": [
    "#Correlation between actual and predicted values\n",
    "Corr_train = stats.stats.pearsonr(train.price, train.pred_price)\n",
    "Corr_test = stats.stats.pearsonr(test.price, test.pred_price)\n",
    "\n",
    "print('Correlation - Train Data: ', Corr_train, '|', 'Test Data: ', Corr_test)"
   ]
  },
  {
   "cell_type": "code",
   "execution_count": 44,
   "metadata": {},
   "outputs": [],
   "source": [
    "#Decile Analysis\n",
    "#Creating Deciles\n",
    "train.loc[:, 'Deciles'] = pd.qcut(train.pred_price, 10, labels = False)\n",
    "test.loc[:, 'Deciles'] = pd.qcut(test.pred_price, 10, labels = False)\n",
    "\n",
    "#Summarizing the data by deciles on train and test dataset\n",
    "decile_train = train.groupby(['Deciles'])[['price','pred_price']].mean().reset_index().sort_values(by = 'Deciles', ascending = False)\n",
    "decile_test = test.groupby(['Deciles'])[['price','pred_price']].mean().reset_index().sort_values(by = 'Deciles', ascending = False)"
   ]
  },
  {
   "cell_type": "code",
   "execution_count": 45,
   "metadata": {},
   "outputs": [
    {
     "data": {
      "text/html": [
       "<div>\n",
       "<style scoped>\n",
       "    .dataframe tbody tr th:only-of-type {\n",
       "        vertical-align: middle;\n",
       "    }\n",
       "\n",
       "    .dataframe tbody tr th {\n",
       "        vertical-align: top;\n",
       "    }\n",
       "\n",
       "    .dataframe thead th {\n",
       "        text-align: right;\n",
       "    }\n",
       "</style>\n",
       "<table border=\"1\" class=\"dataframe\">\n",
       "  <thead>\n",
       "    <tr style=\"text-align: right;\">\n",
       "      <th></th>\n",
       "      <th>Deciles</th>\n",
       "      <th>price</th>\n",
       "      <th>pred_price</th>\n",
       "    </tr>\n",
       "  </thead>\n",
       "  <tbody>\n",
       "    <tr>\n",
       "      <th>9</th>\n",
       "      <td>9</td>\n",
       "      <td>1072950.13</td>\n",
       "      <td>1126288.68</td>\n",
       "    </tr>\n",
       "    <tr>\n",
       "      <th>8</th>\n",
       "      <td>8</td>\n",
       "      <td>797945.96</td>\n",
       "      <td>720984.50</td>\n",
       "    </tr>\n",
       "    <tr>\n",
       "      <th>7</th>\n",
       "      <td>7</td>\n",
       "      <td>653460.98</td>\n",
       "      <td>596197.06</td>\n",
       "    </tr>\n",
       "    <tr>\n",
       "      <th>6</th>\n",
       "      <td>6</td>\n",
       "      <td>535587.38</td>\n",
       "      <td>514242.94</td>\n",
       "    </tr>\n",
       "    <tr>\n",
       "      <th>5</th>\n",
       "      <td>5</td>\n",
       "      <td>492372.58</td>\n",
       "      <td>465447.73</td>\n",
       "    </tr>\n",
       "    <tr>\n",
       "      <th>4</th>\n",
       "      <td>4</td>\n",
       "      <td>451993.18</td>\n",
       "      <td>423756.98</td>\n",
       "    </tr>\n",
       "    <tr>\n",
       "      <th>3</th>\n",
       "      <td>3</td>\n",
       "      <td>396617.38</td>\n",
       "      <td>385343.88</td>\n",
       "    </tr>\n",
       "    <tr>\n",
       "      <th>2</th>\n",
       "      <td>2</td>\n",
       "      <td>341088.43</td>\n",
       "      <td>347736.51</td>\n",
       "    </tr>\n",
       "    <tr>\n",
       "      <th>1</th>\n",
       "      <td>1</td>\n",
       "      <td>300075.80</td>\n",
       "      <td>300057.82</td>\n",
       "    </tr>\n",
       "    <tr>\n",
       "      <th>0</th>\n",
       "      <td>0</td>\n",
       "      <td>240221.64</td>\n",
       "      <td>238294.32</td>\n",
       "    </tr>\n",
       "  </tbody>\n",
       "</table>\n",
       "</div>"
      ],
      "text/plain": [
       "   Deciles       price  pred_price\n",
       "9        9  1072950.13  1126288.68\n",
       "8        8   797945.96   720984.50\n",
       "7        7   653460.98   596197.06\n",
       "6        6   535587.38   514242.94\n",
       "5        5   492372.58   465447.73\n",
       "4        4   451993.18   423756.98\n",
       "3        3   396617.38   385343.88\n",
       "2        2   341088.43   347736.51\n",
       "1        1   300075.80   300057.82\n",
       "0        0   240221.64   238294.32"
      ]
     },
     "execution_count": 45,
     "metadata": {},
     "output_type": "execute_result"
    }
   ],
   "source": [
    "#Deciles of train dataset\n",
    "decile_train.round(2)"
   ]
  },
  {
   "cell_type": "markdown",
   "metadata": {},
   "source": [
    "Deciles for train dataset follows the rank ordering."
   ]
  },
  {
   "cell_type": "code",
   "execution_count": 46,
   "metadata": {},
   "outputs": [
    {
     "data": {
      "text/html": [
       "<div>\n",
       "<style scoped>\n",
       "    .dataframe tbody tr th:only-of-type {\n",
       "        vertical-align: middle;\n",
       "    }\n",
       "\n",
       "    .dataframe tbody tr th {\n",
       "        vertical-align: top;\n",
       "    }\n",
       "\n",
       "    .dataframe thead th {\n",
       "        text-align: right;\n",
       "    }\n",
       "</style>\n",
       "<table border=\"1\" class=\"dataframe\">\n",
       "  <thead>\n",
       "    <tr style=\"text-align: right;\">\n",
       "      <th></th>\n",
       "      <th>Deciles</th>\n",
       "      <th>price</th>\n",
       "      <th>pred_price</th>\n",
       "    </tr>\n",
       "  </thead>\n",
       "  <tbody>\n",
       "    <tr>\n",
       "      <th>9</th>\n",
       "      <td>9</td>\n",
       "      <td>1052634.72</td>\n",
       "      <td>1127991.41</td>\n",
       "    </tr>\n",
       "    <tr>\n",
       "      <th>8</th>\n",
       "      <td>8</td>\n",
       "      <td>749506.83</td>\n",
       "      <td>703771.46</td>\n",
       "    </tr>\n",
       "    <tr>\n",
       "      <th>7</th>\n",
       "      <td>7</td>\n",
       "      <td>662912.52</td>\n",
       "      <td>591874.79</td>\n",
       "    </tr>\n",
       "    <tr>\n",
       "      <th>6</th>\n",
       "      <td>6</td>\n",
       "      <td>562751.02</td>\n",
       "      <td>519578.29</td>\n",
       "    </tr>\n",
       "    <tr>\n",
       "      <th>5</th>\n",
       "      <td>5</td>\n",
       "      <td>497925.62</td>\n",
       "      <td>468829.34</td>\n",
       "    </tr>\n",
       "    <tr>\n",
       "      <th>4</th>\n",
       "      <td>4</td>\n",
       "      <td>469332.35</td>\n",
       "      <td>427439.49</td>\n",
       "    </tr>\n",
       "    <tr>\n",
       "      <th>3</th>\n",
       "      <td>3</td>\n",
       "      <td>404734.36</td>\n",
       "      <td>390649.97</td>\n",
       "    </tr>\n",
       "    <tr>\n",
       "      <th>2</th>\n",
       "      <td>2</td>\n",
       "      <td>343999.12</td>\n",
       "      <td>352461.53</td>\n",
       "    </tr>\n",
       "    <tr>\n",
       "      <th>1</th>\n",
       "      <td>1</td>\n",
       "      <td>308243.66</td>\n",
       "      <td>305009.76</td>\n",
       "    </tr>\n",
       "    <tr>\n",
       "      <th>0</th>\n",
       "      <td>0</td>\n",
       "      <td>242827.47</td>\n",
       "      <td>239234.20</td>\n",
       "    </tr>\n",
       "  </tbody>\n",
       "</table>\n",
       "</div>"
      ],
      "text/plain": [
       "   Deciles       price  pred_price\n",
       "9        9  1052634.72  1127991.41\n",
       "8        8   749506.83   703771.46\n",
       "7        7   662912.52   591874.79\n",
       "6        6   562751.02   519578.29\n",
       "5        5   497925.62   468829.34\n",
       "4        4   469332.35   427439.49\n",
       "3        3   404734.36   390649.97\n",
       "2        2   343999.12   352461.53\n",
       "1        1   308243.66   305009.76\n",
       "0        0   242827.47   239234.20"
      ]
     },
     "execution_count": 46,
     "metadata": {},
     "output_type": "execute_result"
    }
   ],
   "source": [
    "#Deciles of test dataset\n",
    "decile_test.round(2)"
   ]
  },
  {
   "cell_type": "code",
   "execution_count": 47,
   "metadata": {},
   "outputs": [
    {
     "data": {
      "image/png": "[encoded data removed]",
      "text/plain": [
       "<Figure size 432x288 with 1 Axes>"
      ]
     },
     "metadata": {
      "needs_background": "light"
     },
     "output_type": "display_data"
    }
   ],
   "source": [
    "#Residual plot of the model with target values\n",
    "sns.scatterplot(x = lm1.resid, y = train.log_price)\n",
    "plt.show()"
   ]
  },
  {
   "cell_type": "code",
   "execution_count": 48,
   "metadata": {},
   "outputs": [
    {
     "data": {
      "image/png": "[encoded data removed]",
      "text/plain": [
       "<Figure size 432x288 with 1 Axes>"
      ]
     },
     "metadata": {
      "needs_background": "light"
     },
     "output_type": "display_data"
    }
   ],
   "source": [
    "#Calculating residual\n",
    "residual = train.price - train.pred_price\n",
    "\n",
    "#Calculated Residual plot with target values\n",
    "sns.scatterplot(x = residual, y = train.price)\n",
    "plt.show()"
   ]
  },
  {
   "cell_type": "code",
   "execution_count": 49,
   "metadata": {},
   "outputs": [
    {
     "data": {
      "text/plain": [
       "<AxesSubplot:ylabel='Density'>"
      ]
     },
     "execution_count": 49,
     "metadata": {},
     "output_type": "execute_result"
    },
    {
     "data": {
      "image/png": "[encoded data removed]",
      "text/plain": [
       "<Figure size 432x288 with 1 Axes>"
      ]
     },
     "metadata": {
      "needs_background": "light"
     },
     "output_type": "display_data"
    }
   ],
   "source": [
    "#Checking distribution of calculated residuals\n",
    "resid = train.price - train.pred_price\n",
    "sns.distplot(resid)"
   ]
  },
  {
   "cell_type": "markdown",
   "metadata": {},
   "source": [
    "The distribution of the residual is normal."
   ]
  },
  {
   "cell_type": "code",
   "execution_count": 50,
   "metadata": {},
   "outputs": [],
   "source": [
    "#Getting final features\n",
    "X_cols = lm1.pvalues.index.difference(['Intercept'])\n",
    "X = data_house[X_cols]\n",
    "Y = data_house.log_price"
   ]
  },
  {
   "cell_type": "code",
   "execution_count": 51,
   "metadata": {},
   "outputs": [
    {
     "data": {
      "text/plain": [
       "<BarContainer object of 18 artists>"
      ]
     },
     "execution_count": 51,
     "metadata": {},
     "output_type": "execute_result"
    },
    {
     "data": {
      "image/png": "[encoded data removed]",
      "text/plain": [
       "<Figure size 432x288 with 1 Axes>"
      ]
     },
     "metadata": {
      "needs_background": "light"
     },
     "output_type": "display_data"
    }
   ],
   "source": [
    "#Getting importance of factors\n",
    "lr_fi = pd.DataFrame({'Features' : lm1.tvalues[1:].index,\n",
    "                      'T_value' : lm1.tvalues[1:]\n",
    "                     }).sort_values(by = 'T_value').reset_index(drop = True)\n",
    "plt.barh(width = lr_fi.T_value, y = lr_fi.Features)"
   ]
  },
  {
   "cell_type": "markdown",
   "metadata": {},
   "source": [
    "#### <a>Getting Train and Test dataset for Machine Learning modelling"
   ]
  },
  {
   "cell_type": "code",
   "execution_count": 52,
   "metadata": {},
   "outputs": [],
   "source": [
    "train_x, test_x, train_y, test_y = train_test_split(X, Y, test_size = 0.3, random_state = 123)"
   ]
  },
  {
   "cell_type": "markdown",
   "metadata": {},
   "source": [
    "#### <a>K Neighbors Model"
   ]
  },
  {
   "cell_type": "code",
   "execution_count": 53,
   "metadata": {},
   "outputs": [],
   "source": [
    "#Getting parameters for best fit using GridSeachCV\n",
    "pg = {'n_neighbors' : range(15,20,1)\n",
    "              }\n",
    "\n",
    "gscv_knn = GridSearchCV(estimator = KNeighborsRegressor(), \n",
    "                     param_grid = pg,\n",
    "                     scoring = 'neg_mean_absolute_error',\n",
    "                     cv = 14,\n",
    "                     n_jobs = -1).fit(train_x, train_y)"
   ]
  },
  {
   "cell_type": "code",
   "execution_count": 54,
   "metadata": {},
   "outputs": [
    {
     "data": {
      "text/plain": [
       "{'n_neighbors': 17}"
      ]
     },
     "execution_count": 54,
     "metadata": {},
     "output_type": "execute_result"
    }
   ],
   "source": [
    "#Best fit Parameters\n",
    "gscv_knn.best_params_"
   ]
  },
  {
   "cell_type": "code",
   "execution_count": 55,
   "metadata": {},
   "outputs": [
    {
     "data": {
      "text/plain": [
       "0.3029095045819007"
      ]
     },
     "execution_count": 55,
     "metadata": {},
     "output_type": "execute_result"
    }
   ],
   "source": [
    "#Best Score\n",
    "-1 * gscv_knn.best_score_"
   ]
  },
  {
   "cell_type": "code",
   "execution_count": 56,
   "metadata": {},
   "outputs": [
    {
     "name": "stdout",
     "output_type": "stream",
     "text": [
      "R2 Score: 0.40480951589945646\n",
      "Training MAPE:  0.29830117395672445  |  Testing MAPE: 0.347155870640581\n"
     ]
    }
   ],
   "source": [
    "#Using best fit parameters to fit the model\n",
    "knn = gscv_knn.best_estimator_\n",
    "\n",
    "#R2 score \n",
    "knn_r2 = metrics.r2_score(test_y, knn.predict(test_x))\n",
    "print('R2 Score:', knn_r2)\n",
    "\n",
    "#Predicting total spent on train and test dataset\n",
    "train.loc[:, 'knn_pred_price'] = np.exp(knn.predict(train_x))\n",
    "test.loc[:, 'knn_pred_price'] = np.exp(knn.predict(test_x))\n",
    "\n",
    "#Getting Mean Absolute Percentage Error - MAPE\n",
    "MAPE_train = np.mean(np.abs(train['price'] - train['knn_pred_price'])/train['price'])\n",
    "MAPE_test = np.mean(np.abs(test['price'] - test['knn_pred_price'])/test['price'])\n",
    "                    \n",
    "print('Training MAPE: ',MAPE_train,' | ','Testing MAPE:' ,MAPE_test)"
   ]
  },
  {
   "cell_type": "code",
   "execution_count": 57,
   "metadata": {},
   "outputs": [
    {
     "name": "stdout",
     "output_type": "stream",
     "text": [
      "Training MSE:  46471969748.740166  |  Testing MSE: 48433627023.250015\n",
      "Training RMSE:  215573.58314213774  |  Testing RMSE: 220076.41178293055\n"
     ]
    }
   ],
   "source": [
    "#Getting Mean Squared Error Metric - MSE\n",
    "MSE_train = metrics.mean_squared_error(train.price, train.knn_pred_price)\n",
    "MSE_test = metrics.mean_squared_error(test.price, test.knn_pred_price)\n",
    "\n",
    "#Getting Root Mean Squared Error - RMSE\n",
    "RMSE_train = np.sqrt(MSE_train)\n",
    "knn_RMSE_test = np.sqrt(MSE_test)\n",
    "\n",
    "print('Training MSE: ',MSE_train,' | ','Testing MSE:' ,MSE_test)\n",
    "print('Training RMSE: ',RMSE_train,' | ','Testing RMSE:' ,knn_RMSE_test)"
   ]
  },
  {
   "cell_type": "code",
   "execution_count": 58,
   "metadata": {},
   "outputs": [
    {
     "name": "stdout",
     "output_type": "stream",
     "text": [
      "Training MAE:  146656.8860009308  |  Testing MAE: 153876.6367822628\n"
     ]
    }
   ],
   "source": [
    "#Getting Mean Absolute Error Metric - MAE\n",
    "MAE_train = metrics.mean_absolute_error(train.price, train.knn_pred_price)\n",
    "knn_MAE_test = metrics.mean_absolute_error(test.price, test.knn_pred_price)\n",
    "\n",
    "print('Training MAE: ', MAE_train,' | ','Testing MAE:', knn_MAE_test)"
   ]
  },
  {
   "cell_type": "code",
   "execution_count": 59,
   "metadata": {},
   "outputs": [
    {
     "name": "stdout",
     "output_type": "stream",
     "text": [
      "Correlation - Train Data:  (0.7140655345978655, 0.0) | Test Data:  (0.6449760014001575, 7.217083224404712e-160)\n"
     ]
    }
   ],
   "source": [
    "#Correlation between actual and predicted values\n",
    "Corr_train = stats.stats.pearsonr(train.price, train.knn_pred_price)\n",
    "Corr_test = stats.stats.pearsonr(test.price, test.knn_pred_price)\n",
    "\n",
    "print('Correlation - Train Data: ', Corr_train, '|', 'Test Data: ', Corr_test)"
   ]
  },
  {
   "cell_type": "code",
   "execution_count": 60,
   "metadata": {},
   "outputs": [],
   "source": [
    "#Decile Analysis\n",
    "#Creating Deciles\n",
    "train.loc[:, 'knn_Deciles'] = pd.qcut(train.knn_pred_price, 10, labels = False)\n",
    "test.loc[:, 'knn_Deciles'] = pd.qcut(test.knn_pred_price, 10, labels = False)\n",
    "\n",
    "#Summarizing the data by deciles on train and test dataset\n",
    "decile_train = train.groupby(['knn_Deciles'])[['price','knn_pred_price']].mean().reset_index().sort_values(by = 'knn_Deciles', ascending = False)\n",
    "decile_test = test.groupby(['knn_Deciles'])[['price','knn_pred_price']].mean().reset_index().sort_values(by = 'knn_Deciles', ascending = False)"
   ]
  },
  {
   "cell_type": "code",
   "execution_count": 61,
   "metadata": {},
   "outputs": [
    {
     "data": {
      "text/html": [
       "<div>\n",
       "<style scoped>\n",
       "    .dataframe tbody tr th:only-of-type {\n",
       "        vertical-align: middle;\n",
       "    }\n",
       "\n",
       "    .dataframe tbody tr th {\n",
       "        vertical-align: top;\n",
       "    }\n",
       "\n",
       "    .dataframe thead th {\n",
       "        text-align: right;\n",
       "    }\n",
       "</style>\n",
       "<table border=\"1\" class=\"dataframe\">\n",
       "  <thead>\n",
       "    <tr style=\"text-align: right;\">\n",
       "      <th></th>\n",
       "      <th>knn_Deciles</th>\n",
       "      <th>price</th>\n",
       "      <th>knn_pred_price</th>\n",
       "    </tr>\n",
       "  </thead>\n",
       "  <tbody>\n",
       "    <tr>\n",
       "      <th>9</th>\n",
       "      <td>9</td>\n",
       "      <td>986783.761616</td>\n",
       "      <td>838824.713512</td>\n",
       "    </tr>\n",
       "    <tr>\n",
       "      <th>8</th>\n",
       "      <td>8</td>\n",
       "      <td>761689.186231</td>\n",
       "      <td>660298.511080</td>\n",
       "    </tr>\n",
       "    <tr>\n",
       "      <th>7</th>\n",
       "      <td>7</td>\n",
       "      <td>619985.783656</td>\n",
       "      <td>572916.804916</td>\n",
       "    </tr>\n",
       "    <tr>\n",
       "      <th>6</th>\n",
       "      <td>6</td>\n",
       "      <td>575626.731788</td>\n",
       "      <td>513702.308053</td>\n",
       "    </tr>\n",
       "    <tr>\n",
       "      <th>5</th>\n",
       "      <td>5</td>\n",
       "      <td>485273.746466</td>\n",
       "      <td>468324.969347</td>\n",
       "    </tr>\n",
       "    <tr>\n",
       "      <th>4</th>\n",
       "      <td>4</td>\n",
       "      <td>450859.881474</td>\n",
       "      <td>427057.405023</td>\n",
       "    </tr>\n",
       "    <tr>\n",
       "      <th>3</th>\n",
       "      <td>3</td>\n",
       "      <td>405455.605461</td>\n",
       "      <td>391420.748050</td>\n",
       "    </tr>\n",
       "    <tr>\n",
       "      <th>2</th>\n",
       "      <td>2</td>\n",
       "      <td>376862.352910</td>\n",
       "      <td>356977.140418</td>\n",
       "    </tr>\n",
       "    <tr>\n",
       "      <th>1</th>\n",
       "      <td>1</td>\n",
       "      <td>337345.810068</td>\n",
       "      <td>325353.224178</td>\n",
       "    </tr>\n",
       "    <tr>\n",
       "      <th>0</th>\n",
       "      <td>0</td>\n",
       "      <td>282573.294163</td>\n",
       "      <td>270163.352240</td>\n",
       "    </tr>\n",
       "  </tbody>\n",
       "</table>\n",
       "</div>"
      ],
      "text/plain": [
       "   knn_Deciles          price  knn_pred_price\n",
       "9            9  986783.761616   838824.713512\n",
       "8            8  761689.186231   660298.511080\n",
       "7            7  619985.783656   572916.804916\n",
       "6            6  575626.731788   513702.308053\n",
       "5            5  485273.746466   468324.969347\n",
       "4            4  450859.881474   427057.405023\n",
       "3            3  405455.605461   391420.748050\n",
       "2            2  376862.352910   356977.140418\n",
       "1            1  337345.810068   325353.224178\n",
       "0            0  282573.294163   270163.352240"
      ]
     },
     "execution_count": 61,
     "metadata": {},
     "output_type": "execute_result"
    }
   ],
   "source": [
    "decile_train"
   ]
  },
  {
   "cell_type": "code",
   "execution_count": 62,
   "metadata": {},
   "outputs": [
    {
     "data": {
      "text/html": [
       "<div>\n",
       "<style scoped>\n",
       "    .dataframe tbody tr th:only-of-type {\n",
       "        vertical-align: middle;\n",
       "    }\n",
       "\n",
       "    .dataframe tbody tr th {\n",
       "        vertical-align: top;\n",
       "    }\n",
       "\n",
       "    .dataframe thead th {\n",
       "        text-align: right;\n",
       "    }\n",
       "</style>\n",
       "<table border=\"1\" class=\"dataframe\">\n",
       "  <thead>\n",
       "    <tr style=\"text-align: right;\">\n",
       "      <th></th>\n",
       "      <th>knn_Deciles</th>\n",
       "      <th>price</th>\n",
       "      <th>knn_pred_price</th>\n",
       "    </tr>\n",
       "  </thead>\n",
       "  <tbody>\n",
       "    <tr>\n",
       "      <th>9</th>\n",
       "      <td>9</td>\n",
       "      <td>927994.766176</td>\n",
       "      <td>847184.537982</td>\n",
       "    </tr>\n",
       "    <tr>\n",
       "      <th>8</th>\n",
       "      <td>8</td>\n",
       "      <td>712395.325926</td>\n",
       "      <td>666514.892406</td>\n",
       "    </tr>\n",
       "    <tr>\n",
       "      <th>7</th>\n",
       "      <td>7</td>\n",
       "      <td>624076.178748</td>\n",
       "      <td>574326.248562</td>\n",
       "    </tr>\n",
       "    <tr>\n",
       "      <th>6</th>\n",
       "      <td>6</td>\n",
       "      <td>562166.139447</td>\n",
       "      <td>523325.397749</td>\n",
       "    </tr>\n",
       "    <tr>\n",
       "      <th>5</th>\n",
       "      <td>5</td>\n",
       "      <td>514278.598919</td>\n",
       "      <td>481799.688310</td>\n",
       "    </tr>\n",
       "    <tr>\n",
       "      <th>4</th>\n",
       "      <td>4</td>\n",
       "      <td>466433.867973</td>\n",
       "      <td>436273.998074</td>\n",
       "    </tr>\n",
       "    <tr>\n",
       "      <th>3</th>\n",
       "      <td>3</td>\n",
       "      <td>429420.403865</td>\n",
       "      <td>396316.555631</td>\n",
       "    </tr>\n",
       "    <tr>\n",
       "      <th>2</th>\n",
       "      <td>2</td>\n",
       "      <td>393582.675232</td>\n",
       "      <td>362924.223313</td>\n",
       "    </tr>\n",
       "    <tr>\n",
       "      <th>1</th>\n",
       "      <td>1</td>\n",
       "      <td>366433.482473</td>\n",
       "      <td>328641.718870</td>\n",
       "    </tr>\n",
       "    <tr>\n",
       "      <th>0</th>\n",
       "      <td>0</td>\n",
       "      <td>298596.398897</td>\n",
       "      <td>271907.728404</td>\n",
       "    </tr>\n",
       "  </tbody>\n",
       "</table>\n",
       "</div>"
      ],
      "text/plain": [
       "   knn_Deciles          price  knn_pred_price\n",
       "9            9  927994.766176   847184.537982\n",
       "8            8  712395.325926   666514.892406\n",
       "7            7  624076.178748   574326.248562\n",
       "6            6  562166.139447   523325.397749\n",
       "5            5  514278.598919   481799.688310\n",
       "4            4  466433.867973   436273.998074\n",
       "3            3  429420.403865   396316.555631\n",
       "2            2  393582.675232   362924.223313\n",
       "1            1  366433.482473   328641.718870\n",
       "0            0  298596.398897   271907.728404"
      ]
     },
     "execution_count": 62,
     "metadata": {},
     "output_type": "execute_result"
    }
   ],
   "source": [
    "decile_test"
   ]
  },
  {
   "cell_type": "markdown",
   "metadata": {},
   "source": [
    "#### <a>Random Forest Model"
   ]
  },
  {
   "cell_type": "code",
   "execution_count": 63,
   "metadata": {},
   "outputs": [],
   "source": [
    "#Getting parameters for best fit using GridSeachCV\n",
    "pg = {  'max_depth' : range(14,20,1),\n",
    "        'min_samples_split' : [2,3,4],\n",
    "        'min_samples_leaf' : range(12,18,1)\n",
    "              }\n",
    "\n",
    "gscv_rf = GridSearchCV(estimator = RandomForestRegressor(random_state = 123), \n",
    "                     param_grid = pg,\n",
    "                     scoring = 'neg_mean_squared_error',\n",
    "                     cv = 5,\n",
    "                     n_jobs = -1).fit(train_x, train_y)"
   ]
  },
  {
   "cell_type": "code",
   "execution_count": 64,
   "metadata": {},
   "outputs": [
    {
     "data": {
      "text/plain": [
       "{'max_depth': 16, 'min_samples_leaf': 12, 'min_samples_split': 2}"
      ]
     },
     "execution_count": 64,
     "metadata": {},
     "output_type": "execute_result"
    }
   ],
   "source": [
    "#Best fit Parameters\n",
    "gscv_rf.best_params_"
   ]
  },
  {
   "cell_type": "code",
   "execution_count": 65,
   "metadata": {},
   "outputs": [
    {
     "data": {
      "text/plain": [
       "0.09061343276840067"
      ]
     },
     "execution_count": 65,
     "metadata": {},
     "output_type": "execute_result"
    }
   ],
   "source": [
    "#Best Score\n",
    "-1*gscv_rf.best_score_"
   ]
  },
  {
   "cell_type": "code",
   "execution_count": 66,
   "metadata": {},
   "outputs": [
    {
     "name": "stdout",
     "output_type": "stream",
     "text": [
      "R2 Score: 0.6263765681139359\n",
      "Training MAPE:  0.19931335587305446  |  Testing MAPE: 0.2591656078148047\n"
     ]
    }
   ],
   "source": [
    "#Using best fit parameters to fit the model\n",
    "rf = gscv_rf.best_estimator_\n",
    "\n",
    "#R2 score \n",
    "rf_r2 = metrics.r2_score(test_y, rf.predict(test_x))\n",
    "print('R2 Score:', rf_r2)\n",
    "\n",
    "#Predicting total spent on train and test dataset\n",
    "train.loc[:, 'rf_pred_price'] = np.exp(rf.predict(train_x))\n",
    "test.loc[:, 'rf_pred_price'] = np.exp(rf.predict(test_x))\n",
    "\n",
    "#Getting Mean Absolute Percentage Error - MAPE\n",
    "MAPE_train = np.mean(np.abs(train['price'] - train['rf_pred_price'])/train['price'])\n",
    "MAPE_test = np.mean(np.abs(test['price'] - test['rf_pred_price'])/test['price'])\n",
    "                    \n",
    "print('Training MAPE: ',MAPE_train,' | ','Testing MAPE:' ,MAPE_test)"
   ]
  },
  {
   "cell_type": "code",
   "execution_count": 67,
   "metadata": {},
   "outputs": [
    {
     "name": "stdout",
     "output_type": "stream",
     "text": [
      "Training MSE: 24670092670.579735  |  Testing MSE: 31811796780.320877\n",
      "Training RMSE: 157067.15974569521  |  Testing RMSE: 178358.61846381542\n"
     ]
    }
   ],
   "source": [
    "#Getting Mean Squared Error Metric - MSE\n",
    "MSE_train = metrics.mean_squared_error(train.price, train.rf_pred_price)\n",
    "MSE_test = metrics.mean_squared_error(test.price, test.rf_pred_price)\n",
    "\n",
    "#Getting Root Mean Squared Error - RMSE\n",
    "RMSE_train = np.sqrt(MSE_train)\n",
    "rf_RMSE_test = np.sqrt(MSE_test)\n",
    "\n",
    "print('Training MSE:', MSE_train,' | ','Testing MSE:', MSE_test)\n",
    "print('Training RMSE:', RMSE_train,' | ','Testing RMSE:', rf_RMSE_test)"
   ]
  },
  {
   "cell_type": "code",
   "execution_count": 68,
   "metadata": {},
   "outputs": [
    {
     "name": "stdout",
     "output_type": "stream",
     "text": [
      "Training MAE:  100759.52966592726  |  Testing MAE: 117192.24121861371\n"
     ]
    }
   ],
   "source": [
    "#Getting Mean Absolute Error Metric - MAE\n",
    "MAE_train = metrics.mean_absolute_error(train.price, train.rf_pred_price)\n",
    "rf_MAE_test = metrics.mean_absolute_error(test.price, test.rf_pred_price)\n",
    "\n",
    "print('Training MAE: ',MAE_train,' | ','Testing MAE:' ,rf_MAE_test)"
   ]
  },
  {
   "cell_type": "code",
   "execution_count": 69,
   "metadata": {},
   "outputs": [
    {
     "name": "stdout",
     "output_type": "stream",
     "text": [
      "Correlation - Train Data:  (0.8575618089745127, 0.0) | Test Data:  (0.7787189868547134, 1.2730953886218262e-275)\n"
     ]
    }
   ],
   "source": [
    "#Correlation between actual and predicted values\n",
    "Corr_train = stats.stats.pearsonr(train.price, train.rf_pred_price)\n",
    "Corr_test = stats.stats.pearsonr(test.price, test.rf_pred_price)\n",
    "\n",
    "print('Correlation - Train Data: ', Corr_train, '|', 'Test Data: ', Corr_test)"
   ]
  },
  {
   "cell_type": "code",
   "execution_count": 70,
   "metadata": {},
   "outputs": [],
   "source": [
    "#Decile Analysis\n",
    "#Creating Deciles\n",
    "train.loc[:, 'rf_Deciles'] = pd.qcut(train.rf_pred_price, 10, labels = False)\n",
    "test.loc[:, 'rf_Deciles'] = pd.qcut(test.rf_pred_price, 10, labels = False)\n",
    "\n",
    "#Summarizing the data by deciles on train and test dataset\n",
    "decile_train = train.groupby(['rf_Deciles'])[['price','rf_pred_price']].mean().reset_index().sort_values(by = 'rf_Deciles', ascending = False)\n",
    "decile_test = test.groupby(['rf_Deciles'])[['price','rf_pred_price']].mean().reset_index().sort_values(by = 'rf_Deciles', ascending = False)"
   ]
  },
  {
   "cell_type": "code",
   "execution_count": 71,
   "metadata": {},
   "outputs": [
    {
     "data": {
      "text/html": [
       "<div>\n",
       "<style scoped>\n",
       "    .dataframe tbody tr th:only-of-type {\n",
       "        vertical-align: middle;\n",
       "    }\n",
       "\n",
       "    .dataframe tbody tr th {\n",
       "        vertical-align: top;\n",
       "    }\n",
       "\n",
       "    .dataframe thead th {\n",
       "        text-align: right;\n",
       "    }\n",
       "</style>\n",
       "<table border=\"1\" class=\"dataframe\">\n",
       "  <thead>\n",
       "    <tr style=\"text-align: right;\">\n",
       "      <th></th>\n",
       "      <th>rf_Deciles</th>\n",
       "      <th>price</th>\n",
       "      <th>rf_pred_price</th>\n",
       "    </tr>\n",
       "  </thead>\n",
       "  <tbody>\n",
       "    <tr>\n",
       "      <th>9</th>\n",
       "      <td>9</td>\n",
       "      <td>1.096186e+06</td>\n",
       "      <td>983536.980569</td>\n",
       "    </tr>\n",
       "    <tr>\n",
       "      <th>8</th>\n",
       "      <td>8</td>\n",
       "      <td>7.710746e+05</td>\n",
       "      <td>726746.861254</td>\n",
       "    </tr>\n",
       "    <tr>\n",
       "      <th>7</th>\n",
       "      <td>7</td>\n",
       "      <td>6.477995e+05</td>\n",
       "      <td>620776.677557</td>\n",
       "    </tr>\n",
       "    <tr>\n",
       "      <th>6</th>\n",
       "      <td>6</td>\n",
       "      <td>5.594340e+05</td>\n",
       "      <td>535122.952448</td>\n",
       "    </tr>\n",
       "    <tr>\n",
       "      <th>5</th>\n",
       "      <td>5</td>\n",
       "      <td>4.981990e+05</td>\n",
       "      <td>480204.109485</td>\n",
       "    </tr>\n",
       "    <tr>\n",
       "      <th>4</th>\n",
       "      <td>4</td>\n",
       "      <td>4.476281e+05</td>\n",
       "      <td>439378.503462</td>\n",
       "    </tr>\n",
       "    <tr>\n",
       "      <th>3</th>\n",
       "      <td>3</td>\n",
       "      <td>3.982825e+05</td>\n",
       "      <td>389185.620484</td>\n",
       "    </tr>\n",
       "    <tr>\n",
       "      <th>2</th>\n",
       "      <td>2</td>\n",
       "      <td>3.422272e+05</td>\n",
       "      <td>338658.067214</td>\n",
       "    </tr>\n",
       "    <tr>\n",
       "      <th>1</th>\n",
       "      <td>1</td>\n",
       "      <td>2.864294e+05</td>\n",
       "      <td>290117.918074</td>\n",
       "    </tr>\n",
       "    <tr>\n",
       "      <th>0</th>\n",
       "      <td>0</td>\n",
       "      <td>2.351700e+05</td>\n",
       "      <td>239655.891487</td>\n",
       "    </tr>\n",
       "  </tbody>\n",
       "</table>\n",
       "</div>"
      ],
      "text/plain": [
       "   rf_Deciles         price  rf_pred_price\n",
       "9           9  1.096186e+06  983536.980569\n",
       "8           8  7.710746e+05  726746.861254\n",
       "7           7  6.477995e+05  620776.677557\n",
       "6           6  5.594340e+05  535122.952448\n",
       "5           5  4.981990e+05  480204.109485\n",
       "4           4  4.476281e+05  439378.503462\n",
       "3           3  3.982825e+05  389185.620484\n",
       "2           2  3.422272e+05  338658.067214\n",
       "1           1  2.864294e+05  290117.918074\n",
       "0           0  2.351700e+05  239655.891487"
      ]
     },
     "execution_count": 71,
     "metadata": {},
     "output_type": "execute_result"
    }
   ],
   "source": [
    "decile_train"
   ]
  },
  {
   "cell_type": "code",
   "execution_count": 72,
   "metadata": {},
   "outputs": [
    {
     "data": {
      "text/html": [
       "<div>\n",
       "<style scoped>\n",
       "    .dataframe tbody tr th:only-of-type {\n",
       "        vertical-align: middle;\n",
       "    }\n",
       "\n",
       "    .dataframe tbody tr th {\n",
       "        vertical-align: top;\n",
       "    }\n",
       "\n",
       "    .dataframe thead th {\n",
       "        text-align: right;\n",
       "    }\n",
       "</style>\n",
       "<table border=\"1\" class=\"dataframe\">\n",
       "  <thead>\n",
       "    <tr style=\"text-align: right;\">\n",
       "      <th></th>\n",
       "      <th>rf_Deciles</th>\n",
       "      <th>price</th>\n",
       "      <th>rf_pred_price</th>\n",
       "    </tr>\n",
       "  </thead>\n",
       "  <tbody>\n",
       "    <tr>\n",
       "      <th>9</th>\n",
       "      <td>9</td>\n",
       "      <td>1.003762e+06</td>\n",
       "      <td>983448.446854</td>\n",
       "    </tr>\n",
       "    <tr>\n",
       "      <th>8</th>\n",
       "      <td>8</td>\n",
       "      <td>7.362089e+05</td>\n",
       "      <td>721676.801932</td>\n",
       "    </tr>\n",
       "    <tr>\n",
       "      <th>7</th>\n",
       "      <td>7</td>\n",
       "      <td>6.666340e+05</td>\n",
       "      <td>620450.910770</td>\n",
       "    </tr>\n",
       "    <tr>\n",
       "      <th>6</th>\n",
       "      <td>6</td>\n",
       "      <td>5.572357e+05</td>\n",
       "      <td>543218.955302</td>\n",
       "    </tr>\n",
       "    <tr>\n",
       "      <th>5</th>\n",
       "      <td>5</td>\n",
       "      <td>5.344350e+05</td>\n",
       "      <td>491272.193238</td>\n",
       "    </tr>\n",
       "    <tr>\n",
       "      <th>4</th>\n",
       "      <td>4</td>\n",
       "      <td>4.652786e+05</td>\n",
       "      <td>449524.665983</td>\n",
       "    </tr>\n",
       "    <tr>\n",
       "      <th>3</th>\n",
       "      <td>3</td>\n",
       "      <td>4.219513e+05</td>\n",
       "      <td>401135.996046</td>\n",
       "    </tr>\n",
       "    <tr>\n",
       "      <th>2</th>\n",
       "      <td>2</td>\n",
       "      <td>3.538103e+05</td>\n",
       "      <td>346427.753453</td>\n",
       "    </tr>\n",
       "    <tr>\n",
       "      <th>1</th>\n",
       "      <td>1</td>\n",
       "      <td>3.090891e+05</td>\n",
       "      <td>294682.391313</td>\n",
       "    </tr>\n",
       "    <tr>\n",
       "      <th>0</th>\n",
       "      <td>0</td>\n",
       "      <td>2.467949e+05</td>\n",
       "      <td>242530.986068</td>\n",
       "    </tr>\n",
       "  </tbody>\n",
       "</table>\n",
       "</div>"
      ],
      "text/plain": [
       "   rf_Deciles         price  rf_pred_price\n",
       "9           9  1.003762e+06  983448.446854\n",
       "8           8  7.362089e+05  721676.801932\n",
       "7           7  6.666340e+05  620450.910770\n",
       "6           6  5.572357e+05  543218.955302\n",
       "5           5  5.344350e+05  491272.193238\n",
       "4           4  4.652786e+05  449524.665983\n",
       "3           3  4.219513e+05  401135.996046\n",
       "2           2  3.538103e+05  346427.753453\n",
       "1           1  3.090891e+05  294682.391313\n",
       "0           0  2.467949e+05  242530.986068"
      ]
     },
     "execution_count": 72,
     "metadata": {},
     "output_type": "execute_result"
    }
   ],
   "source": [
    "decile_test"
   ]
  },
  {
   "cell_type": "markdown",
   "metadata": {},
   "source": [
    "#### <a>Artificial Neural Network (ANN) Model"
   ]
  },
  {
   "cell_type": "code",
   "execution_count": 73,
   "metadata": {},
   "outputs": [],
   "source": [
    "train_x, test_x, train_y, test_y = train_test_split(data_house[f_cols],\n",
    "                                                    data_house.price, test_size = 0.3,\n",
    "                                                    random_state = 123)"
   ]
  },
  {
   "cell_type": "code",
   "execution_count": 74,
   "metadata": {},
   "outputs": [
    {
     "data": {
      "text/plain": [
       "(3153, 105)"
      ]
     },
     "execution_count": 74,
     "metadata": {},
     "output_type": "execute_result"
    }
   ],
   "source": [
    "#Input data shape\n",
    "train_x.shape"
   ]
  },
  {
   "cell_type": "code",
   "execution_count": 75,
   "metadata": {},
   "outputs": [],
   "source": [
    "#sc_train_x = pd.DataFrame(StandardScaler().fit_transform(train_x), columns = train_x.columns, index = train_x.index)\n",
    "#sc_train_x.drop('yr_built', axis = 1, inplace = True)"
   ]
  },
  {
   "cell_type": "code",
   "execution_count": 76,
   "metadata": {},
   "outputs": [],
   "source": [
    "#sc_test_x = pd.DataFrame(StandardScaler().fit_transform(test_x), columns = test_x.columns, index = test_x.index)\n",
    "#sc_test_x.drop('yr_built', axis = 1, inplace = True)"
   ]
  },
  {
   "cell_type": "code",
   "execution_count": 77,
   "metadata": {},
   "outputs": [],
   "source": [
    "#Initializing Neural Network\n",
    "se = Sequential()\n",
    "# Adding the input layer and the first hidden layer\n",
    "se.add(Dense(32, activation = 'relu', kernel_initializer='uniform', input_dim = 105))\n",
    "se.add(Dropout(0.2))\n",
    "    \n",
    "# Adding the second hidden layer\n",
    "se.add(Dense(units = 64,kernel_initializer='uniform', activation = 'relu'))\n",
    "se.add(Dropout(0.2))\n",
    "    \n",
    "# Adding the third hidden layer\n",
    "se.add(Dense(units = 32,kernel_initializer='uniform', activation = 'relu'))\n",
    "se.add(Dropout(0.2))\n",
    "    \n",
    "# Adding the output layer\n",
    "    \n",
    "se.add(Dense(units = 1, kernel_initializer='uniform'))"
   ]
  },
  {
   "cell_type": "code",
   "execution_count": 78,
   "metadata": {},
   "outputs": [
    {
     "name": "stdout",
     "output_type": "stream",
     "text": [
      "Model: \"sequential\"\n",
      "_________________________________________________________________\n",
      "Layer (type)                 Output Shape              Param #   \n",
      "=================================================================\n",
      "dense (Dense)                (None, 32)                3392      \n",
      "_________________________________________________________________\n",
      "dropout (Dropout)            (None, 32)                0         \n",
      "_________________________________________________________________\n",
      "dense_1 (Dense)              (None, 64)                2112      \n",
      "_________________________________________________________________\n",
      "dropout_1 (Dropout)          (None, 64)                0         \n",
      "_________________________________________________________________\n",
      "dense_2 (Dense)              (None, 32)                2080      \n",
      "_________________________________________________________________\n",
      "dropout_2 (Dropout)          (None, 32)                0         \n",
      "_________________________________________________________________\n",
      "dense_3 (Dense)              (None, 1)                 33        \n",
      "=================================================================\n",
      "Total params: 7,617\n",
      "Trainable params: 7,617\n",
      "Non-trainable params: 0\n",
      "_________________________________________________________________\n"
     ]
    }
   ],
   "source": [
    "#Model Summary\n",
    "se.summary()"
   ]
  },
  {
   "cell_type": "code",
   "execution_count": 79,
   "metadata": {},
   "outputs": [
    {
     "data": {
      "text/plain": [
       "{'name': 'sequential',\n",
       " 'layers': [{'class_name': 'InputLayer',\n",
       "   'config': {'batch_input_shape': (None, 105),\n",
       "    'dtype': 'float32',\n",
       "    'sparse': False,\n",
       "    'ragged': False,\n",
       "    'name': 'dense_input'}},\n",
       "  {'class_name': 'Dense',\n",
       "   'config': {'name': 'dense',\n",
       "    'trainable': True,\n",
       "    'batch_input_shape': (None, 105),\n",
       "    'dtype': 'float32',\n",
       "    'units': 32,\n",
       "    'activation': 'relu',\n",
       "    'use_bias': True,\n",
       "    'kernel_initializer': {'class_name': 'RandomUniform',\n",
       "     'config': {'minval': -0.05, 'maxval': 0.05, 'seed': None}},\n",
       "    'bias_initializer': {'class_name': 'Zeros', 'config': {}},\n",
       "    'kernel_regularizer': None,\n",
       "    'bias_regularizer': None,\n",
       "    'activity_regularizer': None,\n",
       "    'kernel_constraint': None,\n",
       "    'bias_constraint': None}},\n",
       "  {'class_name': 'Dropout',\n",
       "   'config': {'name': 'dropout',\n",
       "    'trainable': True,\n",
       "    'dtype': 'float32',\n",
       "    'rate': 0.2,\n",
       "    'noise_shape': None,\n",
       "    'seed': None}},\n",
       "  {'class_name': 'Dense',\n",
       "   'config': {'name': 'dense_1',\n",
       "    'trainable': True,\n",
       "    'dtype': 'float32',\n",
       "    'units': 64,\n",
       "    'activation': 'relu',\n",
       "    'use_bias': True,\n",
       "    'kernel_initializer': {'class_name': 'RandomUniform',\n",
       "     'config': {'minval': -0.05, 'maxval': 0.05, 'seed': None}},\n",
       "    'bias_initializer': {'class_name': 'Zeros', 'config': {}},\n",
       "    'kernel_regularizer': None,\n",
       "    'bias_regularizer': None,\n",
       "    'activity_regularizer': None,\n",
       "    'kernel_constraint': None,\n",
       "    'bias_constraint': None}},\n",
       "  {'class_name': 'Dropout',\n",
       "   'config': {'name': 'dropout_1',\n",
       "    'trainable': True,\n",
       "    'dtype': 'float32',\n",
       "    'rate': 0.2,\n",
       "    'noise_shape': None,\n",
       "    'seed': None}},\n",
       "  {'class_name': 'Dense',\n",
       "   'config': {'name': 'dense_2',\n",
       "    'trainable': True,\n",
       "    'dtype': 'float32',\n",
       "    'units': 32,\n",
       "    'activation': 'relu',\n",
       "    'use_bias': True,\n",
       "    'kernel_initializer': {'class_name': 'RandomUniform',\n",
       "     'config': {'minval': -0.05, 'maxval': 0.05, 'seed': None}},\n",
       "    'bias_initializer': {'class_name': 'Zeros', 'config': {}},\n",
       "    'kernel_regularizer': None,\n",
       "    'bias_regularizer': None,\n",
       "    'activity_regularizer': None,\n",
       "    'kernel_constraint': None,\n",
       "    'bias_constraint': None}},\n",
       "  {'class_name': 'Dropout',\n",
       "   'config': {'name': 'dropout_2',\n",
       "    'trainable': True,\n",
       "    'dtype': 'float32',\n",
       "    'rate': 0.2,\n",
       "    'noise_shape': None,\n",
       "    'seed': None}},\n",
       "  {'class_name': 'Dense',\n",
       "   'config': {'name': 'dense_3',\n",
       "    'trainable': True,\n",
       "    'dtype': 'float32',\n",
       "    'units': 1,\n",
       "    'activation': 'linear',\n",
       "    'use_bias': True,\n",
       "    'kernel_initializer': {'class_name': 'RandomUniform',\n",
       "     'config': {'minval': -0.05, 'maxval': 0.05, 'seed': None}},\n",
       "    'bias_initializer': {'class_name': 'Zeros', 'config': {}},\n",
       "    'kernel_regularizer': None,\n",
       "    'bias_regularizer': None,\n",
       "    'activity_regularizer': None,\n",
       "    'kernel_constraint': None,\n",
       "    'bias_constraint': None}}]}"
      ]
     },
     "execution_count": 79,
     "metadata": {},
     "output_type": "execute_result"
    }
   ],
   "source": [
    "#Model Configuration\n",
    "se.get_config()"
   ]
  },
  {
   "cell_type": "code",
   "execution_count": 80,
   "metadata": {},
   "outputs": [
    {
     "name": "stdout",
     "output_type": "stream",
     "text": [
      "Epoch 1/20\n",
      "631/631 [==============================] - 4s 2ms/step - loss: 264652297306.7342 - mse: 264652297306.7342\n",
      "Epoch 2/20\n",
      "631/631 [==============================] - 1s 2ms/step - loss: 65329688154.7342 - mse: 65329688154.7342\n",
      "Epoch 3/20\n",
      "631/631 [==============================] - 1s 2ms/step - loss: 60199580484.0506 - mse: 60199580166.4810\n",
      "Epoch 4/20\n",
      "631/631 [==============================] - 1s 2ms/step - loss: 56321090897.0127 - mse: 56321090346.1266\n",
      "Epoch 5/20\n",
      "631/631 [==============================] - 1s 2ms/step - loss: 59311932918.2785 - mse: 59311932918.2785\n",
      "Epoch 6/20\n",
      "631/631 [==============================] - 1s 2ms/step - loss: 56134809013.4684 - mse: 56134808981.0633\n",
      "Epoch 7/20\n",
      "631/631 [==============================] - 1s 2ms/step - loss: 55690643916.1519 - mse: 55690643916.1519\n",
      "Epoch 8/20\n",
      "631/631 [==============================] - 1s 2ms/step - loss: 58320026601.3165 - mse: 58320026555.9494\n",
      "Epoch 9/20\n",
      "631/631 [==============================] - 1s 2ms/step - loss: 55615253597.9747 - mse: 55615253597.9747\n",
      "Epoch 10/20\n",
      "631/631 [==============================] - 1s 2ms/step - loss: 56166342571.7468 - mse: 56166342740.2532\n",
      "Epoch 11/20\n",
      "631/631 [==============================] - 1s 2ms/step - loss: 52008648496.6076 - mse: 52008649818.7342\n",
      "Epoch 12/20\n",
      "631/631 [==============================] - 1s 2ms/step - loss: 57993363987.4430 - mse: 57993363540.2532\n",
      "Epoch 13/20\n",
      "631/631 [==============================] - 1s 2ms/step - loss: 56872199825.8228 - mse: 56872199417.5190\n",
      "Epoch 14/20\n",
      "631/631 [==============================] - 1s 2ms/step - loss: 54526680819.0380 - mse: 54526680819.0380\n",
      "Epoch 15/20\n",
      "631/631 [==============================] - 1s 2ms/step - loss: 51410820154.3291 - mse: 51410820183.4937\n",
      "Epoch 16/20\n",
      "631/631 [==============================] - 1s 2ms/step - loss: 53692114759.2911 - mse: 53692114824.1013\n",
      "Epoch 17/20\n",
      "631/631 [==============================] - 1s 2ms/step - loss: 52458760472.7089 - mse: 52458758197.8734\n",
      "Epoch 18/20\n",
      "631/631 [==============================] - 1s 2ms/step - loss: 54575812789.4684 - mse: 54575812789.4684\n",
      "Epoch 19/20\n",
      "631/631 [==============================] - 1s 2ms/step - loss: 55698637185.6203 - mse: 55698636919.8987\n",
      "Epoch 20/20\n",
      "631/631 [==============================] - 1s 2ms/step - loss: 55833510552.3038 - mse: 55833510552.3038\n"
     ]
    },
    {
     "data": {
      "text/plain": [
       "<tensorflow.python.keras.callbacks.History at 0x2b32634308>"
      ]
     },
     "execution_count": 80,
     "metadata": {},
     "output_type": "execute_result"
    }
   ],
   "source": [
    "#Compiling the model\n",
    "se.compile(optimizer = 'adam', loss = 'mean_squared_error', metrics = ['mse'])\n",
    "#Fitting the model\n",
    "se.fit(train_x, train_y, epochs = 20, batch_size = 5)"
   ]
  },
  {
   "cell_type": "code",
   "execution_count": 81,
   "metadata": {},
   "outputs": [
    {
     "name": "stdout",
     "output_type": "stream",
     "text": [
      "R2 Score: 0.4657148238986467\n"
     ]
    }
   ],
   "source": [
    "#R2 score \n",
    "ann_r2 = metrics.r2_score(test_y, se.predict(test_x))\n",
    "print('R2 Score:', ann_r2)"
   ]
  },
  {
   "cell_type": "code",
   "execution_count": 82,
   "metadata": {},
   "outputs": [
    {
     "name": "stdout",
     "output_type": "stream",
     "text": [
      "Training MAPE: 0.3297386966842339  |  Testing MAPE: 0.3425423576624196\n"
     ]
    }
   ],
   "source": [
    "#Predicting total spent on train and test dataset\n",
    "train.loc[:, 'ann_pred_price'] = se.predict(train_x)\n",
    "test.loc[:, 'ann_pred_price'] = se.predict(test_x)\n",
    "\n",
    "#Getting Mean Absolute Percentage Error - MAPE\n",
    "MAPE_train = np.mean(np.abs(train['price'] - train['ann_pred_price'])/train['price'])\n",
    "MAPE_test = np.mean(np.abs(test['price'] - test['ann_pred_price'])/test['price'])\n",
    "                    \n",
    "print('Training MAPE:',MAPE_train,' | ','Testing MAPE:' ,MAPE_test)"
   ]
  },
  {
   "cell_type": "code",
   "execution_count": 83,
   "metadata": {},
   "outputs": [
    {
     "name": "stdout",
     "output_type": "stream",
     "text": [
      "Training MSE:  45110074964.74438  |  Testing MSE: 42607828728.84074\n",
      "Training RMSE:  212391.3250694208  |  Testing RMSE: 206416.63869184756\n"
     ]
    }
   ],
   "source": [
    "#Getting Mean Squared Error Metric - MSE\n",
    "MSE_train = metrics.mean_squared_error(train.price, train.ann_pred_price)\n",
    "MSE_test = metrics.mean_squared_error(test.price, test.ann_pred_price)\n",
    "\n",
    "#Getting Root Mean Squared Error - RMSE\n",
    "RMSE_train = np.sqrt(MSE_train)\n",
    "ann_RMSE_test = np.sqrt(MSE_test)\n",
    "\n",
    "print('Training MSE: ',MSE_train,' | ','Testing MSE:' ,MSE_test)\n",
    "print('Training RMSE: ',RMSE_train,' | ','Testing RMSE:' ,ann_RMSE_test)"
   ]
  },
  {
   "cell_type": "code",
   "execution_count": 84,
   "metadata": {},
   "outputs": [
    {
     "name": "stdout",
     "output_type": "stream",
     "text": [
      "Training MAE:  152022.24045662925  |  Testing MAE: 148140.2314500355\n"
     ]
    }
   ],
   "source": [
    "#Getting Mean Absolute Error Metric - MAE\n",
    "MAE_train = metrics.mean_absolute_error(train.price, train.ann_pred_price)\n",
    "ann_MAE_test = metrics.mean_absolute_error(test.price, test.ann_pred_price)\n",
    "\n",
    "print('Training MAE: ',MAE_train,' | ','Testing MAE:', ann_MAE_test)"
   ]
  },
  {
   "cell_type": "code",
   "execution_count": 85,
   "metadata": {},
   "outputs": [
    {
     "name": "stdout",
     "output_type": "stream",
     "text": [
      "Correlation - Train Data:  (0.6943969143860649, 0.0) | Test Data:  (0.6842818633150416, 2.2816461243193132e-187)\n"
     ]
    }
   ],
   "source": [
    "#Correlation between actual and predicted values\n",
    "Corr_train = stats.stats.pearsonr(train.price, train.ann_pred_price)\n",
    "Corr_test = stats.stats.pearsonr(test.price, test.ann_pred_price)\n",
    "\n",
    "print('Correlation - Train Data: ', Corr_train, '|', 'Test Data: ', Corr_test)"
   ]
  },
  {
   "cell_type": "code",
   "execution_count": 86,
   "metadata": {},
   "outputs": [],
   "source": [
    "#Decile Analysis\n",
    "#Creating Deciles\n",
    "train.loc[:, 'ann_Deciles'] = pd.qcut(train.ann_pred_price, 10, labels = False)\n",
    "test.loc[:, 'ann_Deciles'] = pd.qcut(test.ann_pred_price, 10, labels = False)\n",
    "\n",
    "#Summarizing the data by deciles on train and test dataset\n",
    "decile_train = train.groupby(['ann_Deciles'])[['price','ann_pred_price']].mean().reset_index().sort_values(by = 'ann_Deciles', ascending = False)\n",
    "decile_test = test.groupby(['ann_Deciles'])[['price','ann_pred_price']].mean().reset_index().sort_values(by = 'ann_Deciles', ascending = False)"
   ]
  },
  {
   "cell_type": "code",
   "execution_count": 87,
   "metadata": {},
   "outputs": [
    {
     "data": {
      "text/html": [
       "<div>\n",
       "<style scoped>\n",
       "    .dataframe tbody tr th:only-of-type {\n",
       "        vertical-align: middle;\n",
       "    }\n",
       "\n",
       "    .dataframe tbody tr th {\n",
       "        vertical-align: top;\n",
       "    }\n",
       "\n",
       "    .dataframe thead th {\n",
       "        text-align: right;\n",
       "    }\n",
       "</style>\n",
       "<table border=\"1\" class=\"dataframe\">\n",
       "  <thead>\n",
       "    <tr style=\"text-align: right;\">\n",
       "      <th></th>\n",
       "      <th>ann_Deciles</th>\n",
       "      <th>price</th>\n",
       "      <th>ann_pred_price</th>\n",
       "    </tr>\n",
       "  </thead>\n",
       "  <tbody>\n",
       "    <tr>\n",
       "      <th>9</th>\n",
       "      <td>9</td>\n",
       "      <td>986015.804358</td>\n",
       "      <td>923768.003362</td>\n",
       "    </tr>\n",
       "    <tr>\n",
       "      <th>8</th>\n",
       "      <td>8</td>\n",
       "      <td>744135.260990</td>\n",
       "      <td>722080.174008</td>\n",
       "    </tr>\n",
       "    <tr>\n",
       "      <th>7</th>\n",
       "      <td>7</td>\n",
       "      <td>620333.081282</td>\n",
       "      <td>630090.220437</td>\n",
       "    </tr>\n",
       "    <tr>\n",
       "      <th>6</th>\n",
       "      <td>6</td>\n",
       "      <td>559185.807657</td>\n",
       "      <td>559904.415675</td>\n",
       "    </tr>\n",
       "    <tr>\n",
       "      <th>5</th>\n",
       "      <td>5</td>\n",
       "      <td>486436.159562</td>\n",
       "      <td>504225.194940</td>\n",
       "    </tr>\n",
       "    <tr>\n",
       "      <th>4</th>\n",
       "      <td>4</td>\n",
       "      <td>449679.601850</td>\n",
       "      <td>458765.612935</td>\n",
       "    </tr>\n",
       "    <tr>\n",
       "      <th>3</th>\n",
       "      <td>3</td>\n",
       "      <td>424619.518141</td>\n",
       "      <td>415599.254861</td>\n",
       "    </tr>\n",
       "    <tr>\n",
       "      <th>2</th>\n",
       "      <td>2</td>\n",
       "      <td>376871.526102</td>\n",
       "      <td>369327.866766</td>\n",
       "    </tr>\n",
       "    <tr>\n",
       "      <th>1</th>\n",
       "      <td>1</td>\n",
       "      <td>345990.625498</td>\n",
       "      <td>316558.039980</td>\n",
       "    </tr>\n",
       "    <tr>\n",
       "      <th>0</th>\n",
       "      <td>0</td>\n",
       "      <td>289173.998656</td>\n",
       "      <td>243064.034167</td>\n",
       "    </tr>\n",
       "  </tbody>\n",
       "</table>\n",
       "</div>"
      ],
      "text/plain": [
       "   ann_Deciles          price  ann_pred_price\n",
       "9            9  986015.804358   923768.003362\n",
       "8            8  744135.260990   722080.174008\n",
       "7            7  620333.081282   630090.220437\n",
       "6            6  559185.807657   559904.415675\n",
       "5            5  486436.159562   504225.194940\n",
       "4            4  449679.601850   458765.612935\n",
       "3            3  424619.518141   415599.254861\n",
       "2            2  376871.526102   369327.866766\n",
       "1            1  345990.625498   316558.039980\n",
       "0            0  289173.998656   243064.034167"
      ]
     },
     "execution_count": 87,
     "metadata": {},
     "output_type": "execute_result"
    }
   ],
   "source": [
    "decile_train"
   ]
  },
  {
   "cell_type": "code",
   "execution_count": 88,
   "metadata": {},
   "outputs": [
    {
     "data": {
      "text/html": [
       "<div>\n",
       "<style scoped>\n",
       "    .dataframe tbody tr th:only-of-type {\n",
       "        vertical-align: middle;\n",
       "    }\n",
       "\n",
       "    .dataframe tbody tr th {\n",
       "        vertical-align: top;\n",
       "    }\n",
       "\n",
       "    .dataframe thead th {\n",
       "        text-align: right;\n",
       "    }\n",
       "</style>\n",
       "<table border=\"1\" class=\"dataframe\">\n",
       "  <thead>\n",
       "    <tr style=\"text-align: right;\">\n",
       "      <th></th>\n",
       "      <th>ann_Deciles</th>\n",
       "      <th>price</th>\n",
       "      <th>ann_pred_price</th>\n",
       "    </tr>\n",
       "  </thead>\n",
       "  <tbody>\n",
       "    <tr>\n",
       "      <th>9</th>\n",
       "      <td>9</td>\n",
       "      <td>977483.369118</td>\n",
       "      <td>941275.258272</td>\n",
       "    </tr>\n",
       "    <tr>\n",
       "      <th>8</th>\n",
       "      <td>8</td>\n",
       "      <td>710354.017284</td>\n",
       "      <td>736002.102778</td>\n",
       "    </tr>\n",
       "    <tr>\n",
       "      <th>7</th>\n",
       "      <td>7</td>\n",
       "      <td>623669.839300</td>\n",
       "      <td>637526.593981</td>\n",
       "    </tr>\n",
       "    <tr>\n",
       "      <th>6</th>\n",
       "      <td>6</td>\n",
       "      <td>570934.280952</td>\n",
       "      <td>566363.402778</td>\n",
       "    </tr>\n",
       "    <tr>\n",
       "      <th>5</th>\n",
       "      <td>5</td>\n",
       "      <td>480181.726499</td>\n",
       "      <td>512033.535417</td>\n",
       "    </tr>\n",
       "    <tr>\n",
       "      <th>4</th>\n",
       "      <td>4</td>\n",
       "      <td>466080.064893</td>\n",
       "      <td>462045.626620</td>\n",
       "    </tr>\n",
       "    <tr>\n",
       "      <th>3</th>\n",
       "      <td>3</td>\n",
       "      <td>417556.113997</td>\n",
       "      <td>415998.109028</td>\n",
       "    </tr>\n",
       "    <tr>\n",
       "      <th>2</th>\n",
       "      <td>2</td>\n",
       "      <td>402576.458879</td>\n",
       "      <td>371451.775463</td>\n",
       "    </tr>\n",
       "    <tr>\n",
       "      <th>1</th>\n",
       "      <td>1</td>\n",
       "      <td>366501.882649</td>\n",
       "      <td>312980.064583</td>\n",
       "    </tr>\n",
       "    <tr>\n",
       "      <th>0</th>\n",
       "      <td>0</td>\n",
       "      <td>279812.640790</td>\n",
       "      <td>243987.419347</td>\n",
       "    </tr>\n",
       "  </tbody>\n",
       "</table>\n",
       "</div>"
      ],
      "text/plain": [
       "   ann_Deciles          price  ann_pred_price\n",
       "9            9  977483.369118   941275.258272\n",
       "8            8  710354.017284   736002.102778\n",
       "7            7  623669.839300   637526.593981\n",
       "6            6  570934.280952   566363.402778\n",
       "5            5  480181.726499   512033.535417\n",
       "4            4  466080.064893   462045.626620\n",
       "3            3  417556.113997   415998.109028\n",
       "2            2  402576.458879   371451.775463\n",
       "1            1  366501.882649   312980.064583\n",
       "0            0  279812.640790   243987.419347"
      ]
     },
     "execution_count": 88,
     "metadata": {},
     "output_type": "execute_result"
    }
   ],
   "source": [
    "decile_test"
   ]
  },
  {
   "cell_type": "markdown",
   "metadata": {},
   "source": [
    "#### <a>Evaluating the different metrics for each model"
   ]
  },
  {
   "cell_type": "code",
   "execution_count": 89,
   "metadata": {},
   "outputs": [],
   "source": [
    "#Getting accuracy and log loss for each model\n",
    "model_data = pd.DataFrame({'Regressor' : ['LinearRegressor', 'RandomForestRegressor', 'KNeighborsRegressor', 'ArtificialNeuralNetwork'],\n",
    "                        'R2 Score' : [lm1.rsquared, rf_r2, knn_r2, ann_r2],\n",
    "                        'RMSE' : [lr_RMSE_test, rf_RMSE_test, knn_RMSE_test, ann_RMSE_test],\n",
    "                        'MAE' : [lr_MAE_test, rf_MAE_test, knn_MAE_test, ann_MAE_test]})"
   ]
  },
  {
   "cell_type": "code",
   "execution_count": 90,
   "metadata": {},
   "outputs": [
    {
     "data": {
      "text/html": [
       "<div>\n",
       "<style scoped>\n",
       "    .dataframe tbody tr th:only-of-type {\n",
       "        vertical-align: middle;\n",
       "    }\n",
       "\n",
       "    .dataframe tbody tr th {\n",
       "        vertical-align: top;\n",
       "    }\n",
       "\n",
       "    .dataframe thead th {\n",
       "        text-align: right;\n",
       "    }\n",
       "</style>\n",
       "<table border=\"1\" class=\"dataframe\">\n",
       "  <thead>\n",
       "    <tr style=\"text-align: right;\">\n",
       "      <th></th>\n",
       "      <th>Regressor</th>\n",
       "      <th>R2 Score</th>\n",
       "      <th>RMSE</th>\n",
       "      <th>MAE</th>\n",
       "    </tr>\n",
       "  </thead>\n",
       "  <tbody>\n",
       "    <tr>\n",
       "      <th>0</th>\n",
       "      <td>LinearRegressor</td>\n",
       "      <td>0.708644</td>\n",
       "      <td>170528.143035</td>\n",
       "      <td>107448.054972</td>\n",
       "    </tr>\n",
       "    <tr>\n",
       "      <th>1</th>\n",
       "      <td>RandomForestRegressor</td>\n",
       "      <td>0.626377</td>\n",
       "      <td>178358.618464</td>\n",
       "      <td>117192.241219</td>\n",
       "    </tr>\n",
       "    <tr>\n",
       "      <th>2</th>\n",
       "      <td>KNeighborsRegressor</td>\n",
       "      <td>0.404810</td>\n",
       "      <td>220076.411783</td>\n",
       "      <td>153876.636782</td>\n",
       "    </tr>\n",
       "    <tr>\n",
       "      <th>3</th>\n",
       "      <td>ArtificialNeuralNetwork</td>\n",
       "      <td>0.465715</td>\n",
       "      <td>206416.638692</td>\n",
       "      <td>148140.231450</td>\n",
       "    </tr>\n",
       "  </tbody>\n",
       "</table>\n",
       "</div>"
      ],
      "text/plain": [
       "                 Regressor  R2 Score           RMSE            MAE\n",
       "0          LinearRegressor  0.708644  170528.143035  107448.054972\n",
       "1    RandomForestRegressor  0.626377  178358.618464  117192.241219\n",
       "2      KNeighborsRegressor  0.404810  220076.411783  153876.636782\n",
       "3  ArtificialNeuralNetwork  0.465715  206416.638692  148140.231450"
      ]
     },
     "execution_count": 90,
     "metadata": {},
     "output_type": "execute_result"
    }
   ],
   "source": [
    "model_data"
   ]
  },
  {
   "cell_type": "code",
   "execution_count": 91,
   "metadata": {},
   "outputs": [
    {
     "data": {
      "image/png": "[encoded data removed]",
      "text/plain": [
       "<Figure size 360x216 with 1 Axes>"
      ]
     },
     "metadata": {
      "needs_background": "light"
     },
     "output_type": "display_data"
    },
    {
     "data": {
      "image/png": "[encoded data removed]",
      "text/plain": [
       "<Figure size 360x216 with 1 Axes>"
      ]
     },
     "metadata": {
      "needs_background": "light"
     },
     "output_type": "display_data"
    }
   ],
   "source": [
    "#Visualizing the accuracy and log loss of each model\n",
    "plt.figure(figsize = (5,3))\n",
    "sns.barplot(data = model_data, x = model_data['R2 Score'], y = model_data.Regressor)\n",
    "plt.title('Model R2 Score')\n",
    "plt.show()\n",
    "\n",
    "model_data.plot(x = 'Regressor', y = ['MAE', 'RMSE'], kind = 'barh', figsize = (5,3))\n",
    "plt.title('RMSE & MAE of Models')\n",
    "plt.show()"
   ]
  },
  {
   "cell_type": "markdown",
   "metadata": {},
   "source": [
    "Linear Regression Model has the highest R2 Score and the lowest MAE and RMSE Score. So, we will choose Linear Regression Model for Predicting House prices."
   ]
  }
 ],
 "metadata": {
  "kernelspec": {
   "display_name": "Python 3",
   "language": "python",
   "name": "python3"
  },
  "language_info": {
   "codemirror_mode": {
    "name": "ipython",
    "version": 3
   },
   "file_extension": ".py",
   "mimetype": "text/x-python",
   "name": "python",
   "nbconvert_exporter": "python",
   "pygments_lexer": "ipython3",
   "version": "3.7.10"
  }
 },
 "nbformat": 4,
 "nbformat_minor": 4
}
