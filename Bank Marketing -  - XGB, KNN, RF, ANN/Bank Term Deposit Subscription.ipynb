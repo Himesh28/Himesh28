{
 "cells": [
  {
   "cell_type": "markdown",
   "metadata": {},
   "source": [
    "#### <a>Objective: To predict if the client will subscribe a Bank Term Deposit."
   ]
  },
  {
   "cell_type": "markdown",
   "metadata": {},
   "source": [
    "### <a>Bank Marketing\n",
    "\n",
    "#### <a>Abstract:\n",
    "The data is related with direct marketing campaigns (phone calls) of a Portuguese banking institution. The classification goal is to predict if the client will subscribe a term deposit (variable y).\n",
    "\n",
    "#### <a>Data Set Information:\n",
    "\n",
    "The data is related with direct marketing campaigns of a Portuguese banking institution. The marketing campaigns were based on phone calls. Often, more than one contact to the same client was required, in order to access if the product (bank term deposit) would be ('yes') or not ('no') subscribed.\n",
    "\n",
    "#### <a>Attribute Information:\n",
    "#### <a>Input variables:\n",
    "    \n",
    "    Bank Client Data:\n",
    "    \n",
    "    1 - age (numeric)<br>\n",
    "    2 - job : type of job (categorical: 'admin.','blue-collar','entrepreneur','housemaid','management','retired','self-employed','services','student','technician','unemployed','unknown')<br>\n",
    "    3 - marital : marital status (categorical: 'divorced','married','single','unknown'; note: 'divorced' means divorced or widowed)<br>\n",
    "    4 - education (categorical: 'basic.4y','basic.6y','basic.9y','high.school','illiterate','professional.course','university.degree','unknown')<br>\n",
    "    5 - default: has credit in default? (categorical: 'no','yes','unknown')<br>\n",
    "    6 - housing: has housing loan? (categorical: 'no','yes','unknown')<br>\n",
    "    7 - loan: has personal loan? (categorical: 'no','yes','unknown')\n",
    "    \n",
    "    Related with the last contact of the current campaign:\n",
    "    \n",
    "    8 - contact: contact communication type (categorical: 'cellular','telephone')<br>\n",
    "    9 - month: last contact month of year (categorical: 'jan', 'feb', 'mar', ..., 'nov', 'dec')<br>\n",
    "    10 - day_of_week: last contact day of the week (categorical: 'mon','tue','wed','thu','fri')<br>\n",
    "    11 - duration: last contact duration, in seconds (numeric). Important note: this attribute highly affects the output target (e.g., if duration=0 then y='no'). Yet, the duration is not known before a call is performed. Also, after the end of the call y is obviously known. Thus, this input should only be included for benchmark purposes and should be discarded if the intention is to have a realistic predictive model.\n",
    "    \n",
    "    Other attributes:\n",
    "    \n",
    "    12 - campaign: number of contacts performed during this campaign and for this client (numeric, includes last contact)<br>\n",
    "    13 - pdays: number of days that passed by after the client was last contacted from a previous campaign (numeric; 999 means client was not previously contacted)<br>\n",
    "    14 - previous: number of contacts performed before this campaign and for this client (numeric)<br>\n",
    "    15 - poutcome: outcome of the previous marketing campaign (categorical: 'failure','nonexistent','success')\n",
    "    \n",
    "    Social and Economic context attributes\n",
    "    \n",
    "    16 - emp.var.rate: employment variation rate - quarterly indicator (numeric)<br>\n",
    "    17 - cons.price.idx: consumer price index - monthly indicator (numeric)<br>\n",
    "    18 - cons.conf.idx: consumer confidence index - monthly indicator (numeric)<br>\n",
    "    19 - euribor3m: euribor 3 month rate - daily indicator (numeric)<br>\n",
    "    20 - nr.employed: number of employees - quarterly indicator (numeric)<br>\n",
    "\n",
    "#### <a>Output variable (desired target):\n",
    "    \n",
    "    21 - y - has the client subscribed a term deposit? (binary: 'yes','no')\n",
    "\n",
    "<a><b>Data Source:</b></a>http://archive.ics.uci.edu/ml/datasets/Bank+Marketing#"
   ]
  },
  {
   "cell_type": "markdown",
   "metadata": {},
   "source": [
    "#### <a>Importing Packages"
   ]
  },
  {
   "cell_type": "code",
   "execution_count": 1,
   "metadata": {},
   "outputs": [],
   "source": [
    "import numpy as np\n",
    "import pandas as pd\n",
    "\n",
    "import matplotlib.pyplot as plt\n",
    "import seaborn as sns \n",
    "import cufflinks as cf\n",
    "from plotly.offline import iplot\n",
    "%matplotlib inline\n",
    "\n",
    "from sklearn import metrics\n",
    "from sklearn.preprocessing import StandardScaler\n",
    "from sklearn.feature_selection import RFE\n",
    "\n",
    "import imblearn\n",
    "from imblearn.under_sampling import RandomUnderSampler\n",
    "from collections import Counter\n",
    "\n",
    "from sklearn.model_selection import train_test_split, GridSearchCV\n",
    "from sklearn.neighbors import KNeighborsClassifier\n",
    "from sklearn.ensemble import RandomForestClassifier\n",
    "from xgboost import XGBClassifier\n",
    "from keras.models import Sequential\n",
    "from keras.layers import Dense"
   ]
  },
  {
   "cell_type": "markdown",
   "metadata": {},
   "source": [
    "#### <a>Defining UDFs - User Defined Funcions "
   ]
  },
  {
   "cell_type": "code",
   "execution_count": 2,
   "metadata": {},
   "outputs": [],
   "source": [
    "#UDF for statistical summary for continuous variables\n",
    "def cont_ss(a):\n",
    "    return pd.Series([a.count(), a.isnull().sum(), a.sum(), a.mean(), a.median(),  \n",
    "                      a.std(), a.var(), a.min(), a.quantile(0.01), a.quantile(0.99), a.max()], \n",
    "                  index = ['COUNT', 'MISS', 'SUM', 'MEAN','MEDIAN', 'STD', 'VAR', 'MIN', 'P1', \n",
    "                                'P99' ,'MAX'])"
   ]
  },
  {
   "cell_type": "code",
   "execution_count": 3,
   "metadata": {},
   "outputs": [],
   "source": [
    "#UDF for statistical summary for categorical variables\n",
    "def cat_ss(a):\n",
    "    Mode = a.value_counts().sort_values(ascending = False)[0:1].reset_index()\n",
    "    return pd.Series([a.count(), a.isnull().sum(), len(np.unique(a)), Mode.iloc[0, 0], Mode.iloc[0, 1], \n",
    "                      round(((Mode.iloc[0, 1] * 100)/a.count()), 2)], \n",
    "                      index = ['COUNT', 'MISS', 'UNIQUE', 'MODE', 'FREQ', 'PERCENT'])"
   ]
  },
  {
   "cell_type": "code",
   "execution_count": 4,
   "metadata": {},
   "outputs": [],
   "source": [
    "# UDF for creating dummies\n",
    "def dummy_var(data, col_name):\n",
    "    dummy_col = pd.get_dummies(data[col_name], prefix = col_name, drop_first = True)\n",
    "    data = pd.concat([data, dummy_col], axis = 1)\n",
    "    data.drop(col_name, axis = 1, inplace = True )\n",
    "    return data"
   ]
  },
  {
   "cell_type": "markdown",
   "metadata": {},
   "source": [
    "#### <a>Loading Data"
   ]
  },
  {
   "cell_type": "code",
   "execution_count": 5,
   "metadata": {},
   "outputs": [],
   "source": [
    "df_cust = pd.read_csv('Data Set/bank-additional.csv', sep = ';')"
   ]
  },
  {
   "cell_type": "markdown",
   "metadata": {},
   "source": [
    "#### <a>Understanding the data"
   ]
  },
  {
   "cell_type": "code",
   "execution_count": 6,
   "metadata": {},
   "outputs": [
    {
     "data": {
      "text/html": [
       "<div>\n",
       "<style scoped>\n",
       "    .dataframe tbody tr th:only-of-type {\n",
       "        vertical-align: middle;\n",
       "    }\n",
       "\n",
       "    .dataframe tbody tr th {\n",
       "        vertical-align: top;\n",
       "    }\n",
       "\n",
       "    .dataframe thead th {\n",
       "        text-align: right;\n",
       "    }\n",
       "</style>\n",
       "<table border=\"1\" class=\"dataframe\">\n",
       "  <thead>\n",
       "    <tr style=\"text-align: right;\">\n",
       "      <th></th>\n",
       "      <th>age</th>\n",
       "      <th>job</th>\n",
       "      <th>marital</th>\n",
       "      <th>education</th>\n",
       "      <th>default</th>\n",
       "      <th>housing</th>\n",
       "      <th>loan</th>\n",
       "      <th>contact</th>\n",
       "      <th>month</th>\n",
       "      <th>day_of_week</th>\n",
       "      <th>...</th>\n",
       "      <th>campaign</th>\n",
       "      <th>pdays</th>\n",
       "      <th>previous</th>\n",
       "      <th>poutcome</th>\n",
       "      <th>emp.var.rate</th>\n",
       "      <th>cons.price.idx</th>\n",
       "      <th>cons.conf.idx</th>\n",
       "      <th>euribor3m</th>\n",
       "      <th>nr.employed</th>\n",
       "      <th>y</th>\n",
       "    </tr>\n",
       "  </thead>\n",
       "  <tbody>\n",
       "    <tr>\n",
       "      <th>0</th>\n",
       "      <td>30</td>\n",
       "      <td>blue-collar</td>\n",
       "      <td>married</td>\n",
       "      <td>basic.9y</td>\n",
       "      <td>no</td>\n",
       "      <td>yes</td>\n",
       "      <td>no</td>\n",
       "      <td>cellular</td>\n",
       "      <td>may</td>\n",
       "      <td>fri</td>\n",
       "      <td>...</td>\n",
       "      <td>2</td>\n",
       "      <td>999</td>\n",
       "      <td>0</td>\n",
       "      <td>nonexistent</td>\n",
       "      <td>-1.8</td>\n",
       "      <td>92.893</td>\n",
       "      <td>-46.2</td>\n",
       "      <td>1.313</td>\n",
       "      <td>5099.1</td>\n",
       "      <td>no</td>\n",
       "    </tr>\n",
       "    <tr>\n",
       "      <th>1</th>\n",
       "      <td>39</td>\n",
       "      <td>services</td>\n",
       "      <td>single</td>\n",
       "      <td>high.school</td>\n",
       "      <td>no</td>\n",
       "      <td>no</td>\n",
       "      <td>no</td>\n",
       "      <td>telephone</td>\n",
       "      <td>may</td>\n",
       "      <td>fri</td>\n",
       "      <td>...</td>\n",
       "      <td>4</td>\n",
       "      <td>999</td>\n",
       "      <td>0</td>\n",
       "      <td>nonexistent</td>\n",
       "      <td>1.1</td>\n",
       "      <td>93.994</td>\n",
       "      <td>-36.4</td>\n",
       "      <td>4.855</td>\n",
       "      <td>5191.0</td>\n",
       "      <td>no</td>\n",
       "    </tr>\n",
       "    <tr>\n",
       "      <th>2</th>\n",
       "      <td>25</td>\n",
       "      <td>services</td>\n",
       "      <td>married</td>\n",
       "      <td>high.school</td>\n",
       "      <td>no</td>\n",
       "      <td>yes</td>\n",
       "      <td>no</td>\n",
       "      <td>telephone</td>\n",
       "      <td>jun</td>\n",
       "      <td>wed</td>\n",
       "      <td>...</td>\n",
       "      <td>1</td>\n",
       "      <td>999</td>\n",
       "      <td>0</td>\n",
       "      <td>nonexistent</td>\n",
       "      <td>1.4</td>\n",
       "      <td>94.465</td>\n",
       "      <td>-41.8</td>\n",
       "      <td>4.962</td>\n",
       "      <td>5228.1</td>\n",
       "      <td>no</td>\n",
       "    </tr>\n",
       "    <tr>\n",
       "      <th>3</th>\n",
       "      <td>38</td>\n",
       "      <td>services</td>\n",
       "      <td>married</td>\n",
       "      <td>basic.9y</td>\n",
       "      <td>no</td>\n",
       "      <td>unknown</td>\n",
       "      <td>unknown</td>\n",
       "      <td>telephone</td>\n",
       "      <td>jun</td>\n",
       "      <td>fri</td>\n",
       "      <td>...</td>\n",
       "      <td>3</td>\n",
       "      <td>999</td>\n",
       "      <td>0</td>\n",
       "      <td>nonexistent</td>\n",
       "      <td>1.4</td>\n",
       "      <td>94.465</td>\n",
       "      <td>-41.8</td>\n",
       "      <td>4.959</td>\n",
       "      <td>5228.1</td>\n",
       "      <td>no</td>\n",
       "    </tr>\n",
       "    <tr>\n",
       "      <th>4</th>\n",
       "      <td>47</td>\n",
       "      <td>admin.</td>\n",
       "      <td>married</td>\n",
       "      <td>university.degree</td>\n",
       "      <td>no</td>\n",
       "      <td>yes</td>\n",
       "      <td>no</td>\n",
       "      <td>cellular</td>\n",
       "      <td>nov</td>\n",
       "      <td>mon</td>\n",
       "      <td>...</td>\n",
       "      <td>1</td>\n",
       "      <td>999</td>\n",
       "      <td>0</td>\n",
       "      <td>nonexistent</td>\n",
       "      <td>-0.1</td>\n",
       "      <td>93.200</td>\n",
       "      <td>-42.0</td>\n",
       "      <td>4.191</td>\n",
       "      <td>5195.8</td>\n",
       "      <td>no</td>\n",
       "    </tr>\n",
       "  </tbody>\n",
       "</table>\n",
       "<p>5 rows × 21 columns</p>\n",
       "</div>"
      ],
      "text/plain": [
       "   age          job  marital          education default  housing     loan  \\\n",
       "0   30  blue-collar  married           basic.9y      no      yes       no   \n",
       "1   39     services   single        high.school      no       no       no   \n",
       "2   25     services  married        high.school      no      yes       no   \n",
       "3   38     services  married           basic.9y      no  unknown  unknown   \n",
       "4   47       admin.  married  university.degree      no      yes       no   \n",
       "\n",
       "     contact month day_of_week  ...  campaign  pdays  previous     poutcome  \\\n",
       "0   cellular   may         fri  ...         2    999         0  nonexistent   \n",
       "1  telephone   may         fri  ...         4    999         0  nonexistent   \n",
       "2  telephone   jun         wed  ...         1    999         0  nonexistent   \n",
       "3  telephone   jun         fri  ...         3    999         0  nonexistent   \n",
       "4   cellular   nov         mon  ...         1    999         0  nonexistent   \n",
       "\n",
       "  emp.var.rate  cons.price.idx  cons.conf.idx  euribor3m  nr.employed   y  \n",
       "0         -1.8          92.893          -46.2      1.313       5099.1  no  \n",
       "1          1.1          93.994          -36.4      4.855       5191.0  no  \n",
       "2          1.4          94.465          -41.8      4.962       5228.1  no  \n",
       "3          1.4          94.465          -41.8      4.959       5228.1  no  \n",
       "4         -0.1          93.200          -42.0      4.191       5195.8  no  \n",
       "\n",
       "[5 rows x 21 columns]"
      ]
     },
     "execution_count": 6,
     "metadata": {},
     "output_type": "execute_result"
    }
   ],
   "source": [
    "#Data View\n",
    "df_cust.head()"
   ]
  },
  {
   "cell_type": "code",
   "execution_count": 7,
   "metadata": {},
   "outputs": [
    {
     "name": "stdout",
     "output_type": "stream",
     "text": [
      "<class 'pandas.core.frame.DataFrame'>\n",
      "RangeIndex: 4119 entries, 0 to 4118\n",
      "Data columns (total 21 columns):\n",
      " #   Column          Non-Null Count  Dtype  \n",
      "---  ------          --------------  -----  \n",
      " 0   age             4119 non-null   int64  \n",
      " 1   job             4119 non-null   object \n",
      " 2   marital         4119 non-null   object \n",
      " 3   education       4119 non-null   object \n",
      " 4   default         4119 non-null   object \n",
      " 5   housing         4119 non-null   object \n",
      " 6   loan            4119 non-null   object \n",
      " 7   contact         4119 non-null   object \n",
      " 8   month           4119 non-null   object \n",
      " 9   day_of_week     4119 non-null   object \n",
      " 10  duration        4119 non-null   int64  \n",
      " 11  campaign        4119 non-null   int64  \n",
      " 12  pdays           4119 non-null   int64  \n",
      " 13  previous        4119 non-null   int64  \n",
      " 14  poutcome        4119 non-null   object \n",
      " 15  emp.var.rate    4119 non-null   float64\n",
      " 16  cons.price.idx  4119 non-null   float64\n",
      " 17  cons.conf.idx   4119 non-null   float64\n",
      " 18  euribor3m       4119 non-null   float64\n",
      " 19  nr.employed     4119 non-null   float64\n",
      " 20  y               4119 non-null   object \n",
      "dtypes: float64(5), int64(5), object(11)\n",
      "memory usage: 675.9+ KB\n"
     ]
    }
   ],
   "source": [
    "#Data Information\n",
    "df_cust.info()"
   ]
  },
  {
   "cell_type": "markdown",
   "metadata": {},
   "source": [
    "#### <a>Statistical Report"
   ]
  },
  {
   "cell_type": "code",
   "execution_count": 8,
   "metadata": {},
   "outputs": [
    {
     "data": {
      "text/html": [
       "<div>\n",
       "<style scoped>\n",
       "    .dataframe tbody tr th:only-of-type {\n",
       "        vertical-align: middle;\n",
       "    }\n",
       "\n",
       "    .dataframe tbody tr th {\n",
       "        vertical-align: top;\n",
       "    }\n",
       "\n",
       "    .dataframe thead th {\n",
       "        text-align: right;\n",
       "    }\n",
       "</style>\n",
       "<table border=\"1\" class=\"dataframe\">\n",
       "  <thead>\n",
       "    <tr style=\"text-align: right;\">\n",
       "      <th></th>\n",
       "      <th>age</th>\n",
       "      <th>duration</th>\n",
       "      <th>campaign</th>\n",
       "      <th>pdays</th>\n",
       "      <th>previous</th>\n",
       "      <th>emp.var.rate</th>\n",
       "      <th>cons.price.idx</th>\n",
       "      <th>cons.conf.idx</th>\n",
       "      <th>euribor3m</th>\n",
       "      <th>nr.employed</th>\n",
       "    </tr>\n",
       "  </thead>\n",
       "  <tbody>\n",
       "    <tr>\n",
       "      <th>COUNT</th>\n",
       "      <td>4119.000000</td>\n",
       "      <td>4.119000e+03</td>\n",
       "      <td>4119.000000</td>\n",
       "      <td>4.119000e+03</td>\n",
       "      <td>4119.000000</td>\n",
       "      <td>4119.000000</td>\n",
       "      <td>4119.000000</td>\n",
       "      <td>4119.000000</td>\n",
       "      <td>4119.000000</td>\n",
       "      <td>4.119000e+03</td>\n",
       "    </tr>\n",
       "    <tr>\n",
       "      <th>MISS</th>\n",
       "      <td>0.000000</td>\n",
       "      <td>0.000000e+00</td>\n",
       "      <td>0.000000</td>\n",
       "      <td>0.000000e+00</td>\n",
       "      <td>0.000000</td>\n",
       "      <td>0.000000</td>\n",
       "      <td>0.000000</td>\n",
       "      <td>0.000000</td>\n",
       "      <td>0.000000</td>\n",
       "      <td>0.000000e+00</td>\n",
       "    </tr>\n",
       "    <tr>\n",
       "      <th>SUM</th>\n",
       "      <td>165228.000000</td>\n",
       "      <td>1.057710e+06</td>\n",
       "      <td>10451.000000</td>\n",
       "      <td>3.955979e+06</td>\n",
       "      <td>784.000000</td>\n",
       "      <td>350.000000</td>\n",
       "      <td>385454.802000</td>\n",
       "      <td>-166815.800000</td>\n",
       "      <td>14916.364000</td>\n",
       "      <td>2.128074e+07</td>\n",
       "    </tr>\n",
       "    <tr>\n",
       "      <th>MEAN</th>\n",
       "      <td>40.113620</td>\n",
       "      <td>2.567881e+02</td>\n",
       "      <td>2.537266</td>\n",
       "      <td>9.604222e+02</td>\n",
       "      <td>0.190337</td>\n",
       "      <td>0.084972</td>\n",
       "      <td>93.579704</td>\n",
       "      <td>-40.499102</td>\n",
       "      <td>3.621356</td>\n",
       "      <td>5.166482e+03</td>\n",
       "    </tr>\n",
       "    <tr>\n",
       "      <th>MEDIAN</th>\n",
       "      <td>38.000000</td>\n",
       "      <td>1.810000e+02</td>\n",
       "      <td>2.000000</td>\n",
       "      <td>9.990000e+02</td>\n",
       "      <td>0.000000</td>\n",
       "      <td>1.100000</td>\n",
       "      <td>93.749000</td>\n",
       "      <td>-41.800000</td>\n",
       "      <td>4.857000</td>\n",
       "      <td>5.191000e+03</td>\n",
       "    </tr>\n",
       "    <tr>\n",
       "      <th>STD</th>\n",
       "      <td>10.313362</td>\n",
       "      <td>2.547037e+02</td>\n",
       "      <td>2.568159</td>\n",
       "      <td>1.919228e+02</td>\n",
       "      <td>0.541788</td>\n",
       "      <td>1.563114</td>\n",
       "      <td>0.579349</td>\n",
       "      <td>4.594578</td>\n",
       "      <td>1.733591</td>\n",
       "      <td>7.366790e+01</td>\n",
       "    </tr>\n",
       "    <tr>\n",
       "      <th>VAR</th>\n",
       "      <td>106.365426</td>\n",
       "      <td>6.487399e+04</td>\n",
       "      <td>6.595442</td>\n",
       "      <td>3.683436e+04</td>\n",
       "      <td>0.293535</td>\n",
       "      <td>2.443327</td>\n",
       "      <td>0.335645</td>\n",
       "      <td>21.110142</td>\n",
       "      <td>3.005339</td>\n",
       "      <td>5.426960e+03</td>\n",
       "    </tr>\n",
       "    <tr>\n",
       "      <th>MIN</th>\n",
       "      <td>18.000000</td>\n",
       "      <td>0.000000e+00</td>\n",
       "      <td>1.000000</td>\n",
       "      <td>0.000000e+00</td>\n",
       "      <td>0.000000</td>\n",
       "      <td>-3.400000</td>\n",
       "      <td>92.201000</td>\n",
       "      <td>-50.800000</td>\n",
       "      <td>0.635000</td>\n",
       "      <td>4.963600e+03</td>\n",
       "    </tr>\n",
       "    <tr>\n",
       "      <th>P1</th>\n",
       "      <td>24.000000</td>\n",
       "      <td>1.100000e+01</td>\n",
       "      <td>1.000000</td>\n",
       "      <td>3.000000e+00</td>\n",
       "      <td>0.000000</td>\n",
       "      <td>-3.400000</td>\n",
       "      <td>92.201000</td>\n",
       "      <td>-50.000000</td>\n",
       "      <td>0.677000</td>\n",
       "      <td>4.963600e+03</td>\n",
       "    </tr>\n",
       "    <tr>\n",
       "      <th>P99</th>\n",
       "      <td>68.000000</td>\n",
       "      <td>1.231660e+03</td>\n",
       "      <td>13.000000</td>\n",
       "      <td>9.990000e+02</td>\n",
       "      <td>3.000000</td>\n",
       "      <td>1.400000</td>\n",
       "      <td>94.601000</td>\n",
       "      <td>-26.900000</td>\n",
       "      <td>4.968000</td>\n",
       "      <td>5.228100e+03</td>\n",
       "    </tr>\n",
       "    <tr>\n",
       "      <th>MAX</th>\n",
       "      <td>88.000000</td>\n",
       "      <td>3.643000e+03</td>\n",
       "      <td>35.000000</td>\n",
       "      <td>9.990000e+02</td>\n",
       "      <td>6.000000</td>\n",
       "      <td>1.400000</td>\n",
       "      <td>94.767000</td>\n",
       "      <td>-26.900000</td>\n",
       "      <td>5.045000</td>\n",
       "      <td>5.228100e+03</td>\n",
       "    </tr>\n",
       "  </tbody>\n",
       "</table>\n",
       "</div>"
      ],
      "text/plain": [
       "                  age      duration      campaign         pdays     previous  \\\n",
       "COUNT     4119.000000  4.119000e+03   4119.000000  4.119000e+03  4119.000000   \n",
       "MISS         0.000000  0.000000e+00      0.000000  0.000000e+00     0.000000   \n",
       "SUM     165228.000000  1.057710e+06  10451.000000  3.955979e+06   784.000000   \n",
       "MEAN        40.113620  2.567881e+02      2.537266  9.604222e+02     0.190337   \n",
       "MEDIAN      38.000000  1.810000e+02      2.000000  9.990000e+02     0.000000   \n",
       "STD         10.313362  2.547037e+02      2.568159  1.919228e+02     0.541788   \n",
       "VAR        106.365426  6.487399e+04      6.595442  3.683436e+04     0.293535   \n",
       "MIN         18.000000  0.000000e+00      1.000000  0.000000e+00     0.000000   \n",
       "P1          24.000000  1.100000e+01      1.000000  3.000000e+00     0.000000   \n",
       "P99         68.000000  1.231660e+03     13.000000  9.990000e+02     3.000000   \n",
       "MAX         88.000000  3.643000e+03     35.000000  9.990000e+02     6.000000   \n",
       "\n",
       "        emp.var.rate  cons.price.idx  cons.conf.idx     euribor3m  \\\n",
       "COUNT    4119.000000     4119.000000    4119.000000   4119.000000   \n",
       "MISS        0.000000        0.000000       0.000000      0.000000   \n",
       "SUM       350.000000   385454.802000 -166815.800000  14916.364000   \n",
       "MEAN        0.084972       93.579704     -40.499102      3.621356   \n",
       "MEDIAN      1.100000       93.749000     -41.800000      4.857000   \n",
       "STD         1.563114        0.579349       4.594578      1.733591   \n",
       "VAR         2.443327        0.335645      21.110142      3.005339   \n",
       "MIN        -3.400000       92.201000     -50.800000      0.635000   \n",
       "P1         -3.400000       92.201000     -50.000000      0.677000   \n",
       "P99         1.400000       94.601000     -26.900000      4.968000   \n",
       "MAX         1.400000       94.767000     -26.900000      5.045000   \n",
       "\n",
       "         nr.employed  \n",
       "COUNT   4.119000e+03  \n",
       "MISS    0.000000e+00  \n",
       "SUM     2.128074e+07  \n",
       "MEAN    5.166482e+03  \n",
       "MEDIAN  5.191000e+03  \n",
       "STD     7.366790e+01  \n",
       "VAR     5.426960e+03  \n",
       "MIN     4.963600e+03  \n",
       "P1      4.963600e+03  \n",
       "P99     5.228100e+03  \n",
       "MAX     5.228100e+03  "
      ]
     },
     "execution_count": 8,
     "metadata": {},
     "output_type": "execute_result"
    }
   ],
   "source": [
    "#Continuous variables\n",
    "df_cust.select_dtypes(['int64','float64']).apply(cont_ss)"
   ]
  },
  {
   "cell_type": "code",
   "execution_count": 9,
   "metadata": {},
   "outputs": [
    {
     "data": {
      "text/html": [
       "<div>\n",
       "<style scoped>\n",
       "    .dataframe tbody tr th:only-of-type {\n",
       "        vertical-align: middle;\n",
       "    }\n",
       "\n",
       "    .dataframe tbody tr th {\n",
       "        vertical-align: top;\n",
       "    }\n",
       "\n",
       "    .dataframe thead th {\n",
       "        text-align: right;\n",
       "    }\n",
       "</style>\n",
       "<table border=\"1\" class=\"dataframe\">\n",
       "  <thead>\n",
       "    <tr style=\"text-align: right;\">\n",
       "      <th></th>\n",
       "      <th>job</th>\n",
       "      <th>marital</th>\n",
       "      <th>education</th>\n",
       "      <th>default</th>\n",
       "      <th>housing</th>\n",
       "      <th>loan</th>\n",
       "      <th>contact</th>\n",
       "      <th>month</th>\n",
       "      <th>day_of_week</th>\n",
       "      <th>poutcome</th>\n",
       "      <th>y</th>\n",
       "    </tr>\n",
       "  </thead>\n",
       "  <tbody>\n",
       "    <tr>\n",
       "      <th>COUNT</th>\n",
       "      <td>4119</td>\n",
       "      <td>4119</td>\n",
       "      <td>4119</td>\n",
       "      <td>4119</td>\n",
       "      <td>4119</td>\n",
       "      <td>4119</td>\n",
       "      <td>4119</td>\n",
       "      <td>4119</td>\n",
       "      <td>4119</td>\n",
       "      <td>4119</td>\n",
       "      <td>4119</td>\n",
       "    </tr>\n",
       "    <tr>\n",
       "      <th>MISS</th>\n",
       "      <td>0</td>\n",
       "      <td>0</td>\n",
       "      <td>0</td>\n",
       "      <td>0</td>\n",
       "      <td>0</td>\n",
       "      <td>0</td>\n",
       "      <td>0</td>\n",
       "      <td>0</td>\n",
       "      <td>0</td>\n",
       "      <td>0</td>\n",
       "      <td>0</td>\n",
       "    </tr>\n",
       "    <tr>\n",
       "      <th>UNIQUE</th>\n",
       "      <td>12</td>\n",
       "      <td>4</td>\n",
       "      <td>8</td>\n",
       "      <td>3</td>\n",
       "      <td>3</td>\n",
       "      <td>3</td>\n",
       "      <td>2</td>\n",
       "      <td>10</td>\n",
       "      <td>5</td>\n",
       "      <td>3</td>\n",
       "      <td>2</td>\n",
       "    </tr>\n",
       "    <tr>\n",
       "      <th>MODE</th>\n",
       "      <td>admin.</td>\n",
       "      <td>married</td>\n",
       "      <td>university.degree</td>\n",
       "      <td>no</td>\n",
       "      <td>yes</td>\n",
       "      <td>no</td>\n",
       "      <td>cellular</td>\n",
       "      <td>may</td>\n",
       "      <td>thu</td>\n",
       "      <td>nonexistent</td>\n",
       "      <td>no</td>\n",
       "    </tr>\n",
       "    <tr>\n",
       "      <th>FREQ</th>\n",
       "      <td>1012</td>\n",
       "      <td>2509</td>\n",
       "      <td>1264</td>\n",
       "      <td>3315</td>\n",
       "      <td>2175</td>\n",
       "      <td>3349</td>\n",
       "      <td>2652</td>\n",
       "      <td>1378</td>\n",
       "      <td>860</td>\n",
       "      <td>3523</td>\n",
       "      <td>3668</td>\n",
       "    </tr>\n",
       "    <tr>\n",
       "      <th>PERCENT</th>\n",
       "      <td>24.57</td>\n",
       "      <td>60.91</td>\n",
       "      <td>30.69</td>\n",
       "      <td>80.48</td>\n",
       "      <td>52.8</td>\n",
       "      <td>81.31</td>\n",
       "      <td>64.38</td>\n",
       "      <td>33.45</td>\n",
       "      <td>20.88</td>\n",
       "      <td>85.53</td>\n",
       "      <td>89.05</td>\n",
       "    </tr>\n",
       "  </tbody>\n",
       "</table>\n",
       "</div>"
      ],
      "text/plain": [
       "            job  marital          education default housing   loan   contact  \\\n",
       "COUNT      4119     4119               4119    4119    4119   4119      4119   \n",
       "MISS          0        0                  0       0       0      0         0   \n",
       "UNIQUE       12        4                  8       3       3      3         2   \n",
       "MODE     admin.  married  university.degree      no     yes     no  cellular   \n",
       "FREQ       1012     2509               1264    3315    2175   3349      2652   \n",
       "PERCENT   24.57    60.91              30.69   80.48    52.8  81.31     64.38   \n",
       "\n",
       "         month day_of_week     poutcome      y  \n",
       "COUNT     4119        4119         4119   4119  \n",
       "MISS         0           0            0      0  \n",
       "UNIQUE      10           5            3      2  \n",
       "MODE       may         thu  nonexistent     no  \n",
       "FREQ      1378         860         3523   3668  \n",
       "PERCENT  33.45       20.88        85.53  89.05  "
      ]
     },
     "execution_count": 9,
     "metadata": {},
     "output_type": "execute_result"
    }
   ],
   "source": [
    "#Categorical Variable\n",
    "df_cust.select_dtypes('object').apply(cat_ss)"
   ]
  },
  {
   "cell_type": "code",
   "execution_count": 10,
   "metadata": {},
   "outputs": [
    {
     "data": {
      "text/plain": [
       "0"
      ]
     },
     "execution_count": 10,
     "metadata": {},
     "output_type": "execute_result"
    }
   ],
   "source": [
    "#Checking duplicates records\n",
    "df_cust.duplicated().sum()"
   ]
  },
  {
   "cell_type": "markdown",
   "metadata": {},
   "source": [
    "#### <a>Explorartory Data Analysis"
   ]
  },
  {
   "cell_type": "code",
   "execution_count": 11,
   "metadata": {},
   "outputs": [
    {
     "name": "stdout",
     "output_type": "stream",
     "text": [
      "no     3668\n",
      "yes     451\n",
      "Name: y, dtype: int64\n"
     ]
    },
    {
     "data": {
      "image/png": "[encoded data removed]",
      "text/plain": [
       "<Figure size 432x288 with 1 Axes>"
      ]
     },
     "metadata": {},
     "output_type": "display_data"
    }
   ],
   "source": [
    "#Number of customers with Bank Term Deposit Subscription\n",
    "print(df_cust['y'].value_counts())\n",
    "plt.pie(df_cust['y'].value_counts(), labels = ['No','Yes'], autopct='%.1f%%')\n",
    "plt.legend()\n",
    "plt.show()"
   ]
  },
  {
   "cell_type": "code",
   "execution_count": 12,
   "metadata": {},
   "outputs": [
    {
     "data": {
      "image/png": "[encoded data removed]",
      "text/plain": [
       "<Figure size 864x1152 with 10 Axes>"
      ]
     },
     "metadata": {
      "needs_background": "light"
     },
     "output_type": "display_data"
    }
   ],
   "source": [
    "#Categorical features impact on target variable y\n",
    "plt.figure(figsize = (12,16))\n",
    "for a, b in enumerate(df_cust.select_dtypes('object').columns.difference(['y'])):\n",
    "    plt.subplot(4, 3, a+1)\n",
    "    plt.subplots_adjust(hspace = 1, wspace = .5)\n",
    "    sns.countplot(x = b, data = df_cust, hue = 'y')\n",
    "    plt.xticks(rotation = 90)\n",
    "    plt.tight_layout()"
   ]
  },
  {
   "cell_type": "markdown",
   "metadata": {},
   "source": [
    "#### Observations\n",
    "\n",
    "- Customers who were contacted by cellular have more percentage of subscription\n",
    "- Customers without credit subscribed more\n",
    "- Customer education is also a deciding factor for subscription \n",
    "- Customer job title also impact the subscription decision of customers\n",
    "- High number of contacts are made in may, jun, july, aug resulting in more subscriptions\n",
    "- Previous markteing campaign also impact the subscription decision of customers\n"
   ]
  },
  {
   "cell_type": "code",
   "execution_count": 13,
   "metadata": {},
   "outputs": [
    {
     "name": "stdout",
     "output_type": "stream",
     "text": [
      "     y    age  duration  campaign   pdays  previous  emp.var.rate  \\\n",
      "0   no  39.90    219.41      2.61  982.76      0.14          0.24   \n",
      "1  yes  41.89    560.79      1.98  778.72      0.59         -1.18   \n",
      "\n",
      "   cons.price.idx  cons.conf.idx  euribor3m  nr.employed  \n",
      "0           93.60         -40.59       3.80      5175.50  \n",
      "1           93.42         -39.79       2.15      5093.12  \n"
     ]
    },
    {
     "data": {
      "image/png": "[encoded data removed]",
      "text/plain": [
       "<Figure size 864x1152 with 10 Axes>"
      ]
     },
     "metadata": {
      "needs_background": "light"
     },
     "output_type": "display_data"
    }
   ],
   "source": [
    "#Continuous features impact on target variable y\n",
    "print(df_cust.groupby('y').mean().round(2).reset_index())\n",
    "plt.figure(figsize = (12,16))\n",
    "for a, b in enumerate(df_cust.select_dtypes(['int64','float64']).columns.difference(['y'])):\n",
    "    plt.subplot(4, 3, a+1)\n",
    "    plt.subplots_adjust(hspace = 1, wspace = .5)\n",
    "    sns.barplot(x = 'y', y = b, data = df_cust.groupby('y').mean().round(2).reset_index())\n",
    "    plt.tight_layout()\n",
    "plt.show()    "
   ]
  },
  {
   "cell_type": "markdown",
   "metadata": {},
   "source": [
    "#### Observations \n",
    "\n",
    "- Customers with subscription have high average age than those of without subscription\n",
    "- Customers having subscription were contacted less number of times\n",
    "- Customers with subscription have long last contact durtion\n",
    "- Customers with subscription have low Euribor 3 month rate\n",
    "- Customers having subscription were more recently contacted\n",
    "- Customers with subscription were contacted more before current campaign"
   ]
  },
  {
   "cell_type": "markdown",
   "metadata": {},
   "source": [
    "#### Data Preparation"
   ]
  },
  {
   "cell_type": "code",
   "execution_count": 14,
   "metadata": {},
   "outputs": [],
   "source": [
    "#Changing 'yes' and 'no' to 1 and 0 in target variable\n",
    "df_cust['y'] = np.where(df_cust['y'] == 'yes', 1, 0)"
   ]
  },
  {
   "cell_type": "code",
   "execution_count": 15,
   "metadata": {},
   "outputs": [
    {
     "data": {
      "text/html": [
       "<div>\n",
       "<style scoped>\n",
       "    .dataframe tbody tr th:only-of-type {\n",
       "        vertical-align: middle;\n",
       "    }\n",
       "\n",
       "    .dataframe tbody tr th {\n",
       "        vertical-align: top;\n",
       "    }\n",
       "\n",
       "    .dataframe thead th {\n",
       "        text-align: right;\n",
       "    }\n",
       "</style>\n",
       "<table border=\"1\" class=\"dataframe\">\n",
       "  <thead>\n",
       "    <tr style=\"text-align: right;\">\n",
       "      <th></th>\n",
       "      <th>age</th>\n",
       "      <th>job</th>\n",
       "      <th>marital</th>\n",
       "      <th>education</th>\n",
       "      <th>default</th>\n",
       "      <th>housing</th>\n",
       "      <th>loan</th>\n",
       "      <th>contact</th>\n",
       "      <th>month</th>\n",
       "      <th>day_of_week</th>\n",
       "      <th>...</th>\n",
       "      <th>campaign</th>\n",
       "      <th>pdays</th>\n",
       "      <th>previous</th>\n",
       "      <th>poutcome</th>\n",
       "      <th>emp.var.rate</th>\n",
       "      <th>cons.price.idx</th>\n",
       "      <th>cons.conf.idx</th>\n",
       "      <th>euribor3m</th>\n",
       "      <th>nr.employed</th>\n",
       "      <th>y</th>\n",
       "    </tr>\n",
       "  </thead>\n",
       "  <tbody>\n",
       "    <tr>\n",
       "      <th>0</th>\n",
       "      <td>30</td>\n",
       "      <td>blue-collar</td>\n",
       "      <td>married</td>\n",
       "      <td>basic.9y</td>\n",
       "      <td>no</td>\n",
       "      <td>yes</td>\n",
       "      <td>no</td>\n",
       "      <td>cellular</td>\n",
       "      <td>may</td>\n",
       "      <td>fri</td>\n",
       "      <td>...</td>\n",
       "      <td>2</td>\n",
       "      <td>999</td>\n",
       "      <td>0</td>\n",
       "      <td>nonexistent</td>\n",
       "      <td>-1.8</td>\n",
       "      <td>92.893</td>\n",
       "      <td>-46.2</td>\n",
       "      <td>1.313</td>\n",
       "      <td>5099.1</td>\n",
       "      <td>0</td>\n",
       "    </tr>\n",
       "    <tr>\n",
       "      <th>1</th>\n",
       "      <td>39</td>\n",
       "      <td>services</td>\n",
       "      <td>single</td>\n",
       "      <td>high.school</td>\n",
       "      <td>no</td>\n",
       "      <td>no</td>\n",
       "      <td>no</td>\n",
       "      <td>telephone</td>\n",
       "      <td>may</td>\n",
       "      <td>fri</td>\n",
       "      <td>...</td>\n",
       "      <td>4</td>\n",
       "      <td>999</td>\n",
       "      <td>0</td>\n",
       "      <td>nonexistent</td>\n",
       "      <td>1.1</td>\n",
       "      <td>93.994</td>\n",
       "      <td>-36.4</td>\n",
       "      <td>4.855</td>\n",
       "      <td>5191.0</td>\n",
       "      <td>0</td>\n",
       "    </tr>\n",
       "    <tr>\n",
       "      <th>2</th>\n",
       "      <td>25</td>\n",
       "      <td>services</td>\n",
       "      <td>married</td>\n",
       "      <td>high.school</td>\n",
       "      <td>no</td>\n",
       "      <td>yes</td>\n",
       "      <td>no</td>\n",
       "      <td>telephone</td>\n",
       "      <td>jun</td>\n",
       "      <td>wed</td>\n",
       "      <td>...</td>\n",
       "      <td>1</td>\n",
       "      <td>999</td>\n",
       "      <td>0</td>\n",
       "      <td>nonexistent</td>\n",
       "      <td>1.4</td>\n",
       "      <td>94.465</td>\n",
       "      <td>-41.8</td>\n",
       "      <td>4.962</td>\n",
       "      <td>5228.1</td>\n",
       "      <td>0</td>\n",
       "    </tr>\n",
       "    <tr>\n",
       "      <th>3</th>\n",
       "      <td>38</td>\n",
       "      <td>services</td>\n",
       "      <td>married</td>\n",
       "      <td>basic.9y</td>\n",
       "      <td>no</td>\n",
       "      <td>unknown</td>\n",
       "      <td>unknown</td>\n",
       "      <td>telephone</td>\n",
       "      <td>jun</td>\n",
       "      <td>fri</td>\n",
       "      <td>...</td>\n",
       "      <td>3</td>\n",
       "      <td>999</td>\n",
       "      <td>0</td>\n",
       "      <td>nonexistent</td>\n",
       "      <td>1.4</td>\n",
       "      <td>94.465</td>\n",
       "      <td>-41.8</td>\n",
       "      <td>4.959</td>\n",
       "      <td>5228.1</td>\n",
       "      <td>0</td>\n",
       "    </tr>\n",
       "    <tr>\n",
       "      <th>4</th>\n",
       "      <td>47</td>\n",
       "      <td>admin.</td>\n",
       "      <td>married</td>\n",
       "      <td>university.degree</td>\n",
       "      <td>no</td>\n",
       "      <td>yes</td>\n",
       "      <td>no</td>\n",
       "      <td>cellular</td>\n",
       "      <td>nov</td>\n",
       "      <td>mon</td>\n",
       "      <td>...</td>\n",
       "      <td>1</td>\n",
       "      <td>999</td>\n",
       "      <td>0</td>\n",
       "      <td>nonexistent</td>\n",
       "      <td>-0.1</td>\n",
       "      <td>93.200</td>\n",
       "      <td>-42.0</td>\n",
       "      <td>4.191</td>\n",
       "      <td>5195.8</td>\n",
       "      <td>0</td>\n",
       "    </tr>\n",
       "  </tbody>\n",
       "</table>\n",
       "<p>5 rows × 21 columns</p>\n",
       "</div>"
      ],
      "text/plain": [
       "   age          job  marital          education default  housing     loan  \\\n",
       "0   30  blue-collar  married           basic.9y      no      yes       no   \n",
       "1   39     services   single        high.school      no       no       no   \n",
       "2   25     services  married        high.school      no      yes       no   \n",
       "3   38     services  married           basic.9y      no  unknown  unknown   \n",
       "4   47       admin.  married  university.degree      no      yes       no   \n",
       "\n",
       "     contact month day_of_week  ...  campaign  pdays  previous     poutcome  \\\n",
       "0   cellular   may         fri  ...         2    999         0  nonexistent   \n",
       "1  telephone   may         fri  ...         4    999         0  nonexistent   \n",
       "2  telephone   jun         wed  ...         1    999         0  nonexistent   \n",
       "3  telephone   jun         fri  ...         3    999         0  nonexistent   \n",
       "4   cellular   nov         mon  ...         1    999         0  nonexistent   \n",
       "\n",
       "  emp.var.rate  cons.price.idx  cons.conf.idx  euribor3m  nr.employed  y  \n",
       "0         -1.8          92.893          -46.2      1.313       5099.1  0  \n",
       "1          1.1          93.994          -36.4      4.855       5191.0  0  \n",
       "2          1.4          94.465          -41.8      4.962       5228.1  0  \n",
       "3          1.4          94.465          -41.8      4.959       5228.1  0  \n",
       "4         -0.1          93.200          -42.0      4.191       5195.8  0  \n",
       "\n",
       "[5 rows x 21 columns]"
      ]
     },
     "execution_count": 15,
     "metadata": {},
     "output_type": "execute_result"
    }
   ],
   "source": [
    "df_cust.head()"
   ]
  },
  {
   "cell_type": "code",
   "execution_count": 16,
   "metadata": {},
   "outputs": [],
   "source": [
    "#Changing categorical variables to numerical\n",
    "for col in df_cust.select_dtypes('object').columns:\n",
    "    df_cust = dummy_var(df_cust, col)"
   ]
  },
  {
   "cell_type": "code",
   "execution_count": 17,
   "metadata": {},
   "outputs": [
    {
     "data": {
      "text/html": [
       "<div>\n",
       "<style scoped>\n",
       "    .dataframe tbody tr th:only-of-type {\n",
       "        vertical-align: middle;\n",
       "    }\n",
       "\n",
       "    .dataframe tbody tr th {\n",
       "        vertical-align: top;\n",
       "    }\n",
       "\n",
       "    .dataframe thead th {\n",
       "        text-align: right;\n",
       "    }\n",
       "</style>\n",
       "<table border=\"1\" class=\"dataframe\">\n",
       "  <thead>\n",
       "    <tr style=\"text-align: right;\">\n",
       "      <th></th>\n",
       "      <th>age</th>\n",
       "      <th>duration</th>\n",
       "      <th>campaign</th>\n",
       "      <th>pdays</th>\n",
       "      <th>previous</th>\n",
       "      <th>emp.var.rate</th>\n",
       "      <th>cons.price.idx</th>\n",
       "      <th>cons.conf.idx</th>\n",
       "      <th>euribor3m</th>\n",
       "      <th>nr.employed</th>\n",
       "      <th>...</th>\n",
       "      <th>month_may</th>\n",
       "      <th>month_nov</th>\n",
       "      <th>month_oct</th>\n",
       "      <th>month_sep</th>\n",
       "      <th>day_of_week_mon</th>\n",
       "      <th>day_of_week_thu</th>\n",
       "      <th>day_of_week_tue</th>\n",
       "      <th>day_of_week_wed</th>\n",
       "      <th>poutcome_nonexistent</th>\n",
       "      <th>poutcome_success</th>\n",
       "    </tr>\n",
       "  </thead>\n",
       "  <tbody>\n",
       "    <tr>\n",
       "      <th>0</th>\n",
       "      <td>30</td>\n",
       "      <td>487</td>\n",
       "      <td>2</td>\n",
       "      <td>999</td>\n",
       "      <td>0</td>\n",
       "      <td>-1.8</td>\n",
       "      <td>92.893</td>\n",
       "      <td>-46.2</td>\n",
       "      <td>1.313</td>\n",
       "      <td>5099.1</td>\n",
       "      <td>...</td>\n",
       "      <td>1</td>\n",
       "      <td>0</td>\n",
       "      <td>0</td>\n",
       "      <td>0</td>\n",
       "      <td>0</td>\n",
       "      <td>0</td>\n",
       "      <td>0</td>\n",
       "      <td>0</td>\n",
       "      <td>1</td>\n",
       "      <td>0</td>\n",
       "    </tr>\n",
       "    <tr>\n",
       "      <th>1</th>\n",
       "      <td>39</td>\n",
       "      <td>346</td>\n",
       "      <td>4</td>\n",
       "      <td>999</td>\n",
       "      <td>0</td>\n",
       "      <td>1.1</td>\n",
       "      <td>93.994</td>\n",
       "      <td>-36.4</td>\n",
       "      <td>4.855</td>\n",
       "      <td>5191.0</td>\n",
       "      <td>...</td>\n",
       "      <td>1</td>\n",
       "      <td>0</td>\n",
       "      <td>0</td>\n",
       "      <td>0</td>\n",
       "      <td>0</td>\n",
       "      <td>0</td>\n",
       "      <td>0</td>\n",
       "      <td>0</td>\n",
       "      <td>1</td>\n",
       "      <td>0</td>\n",
       "    </tr>\n",
       "    <tr>\n",
       "      <th>2</th>\n",
       "      <td>25</td>\n",
       "      <td>227</td>\n",
       "      <td>1</td>\n",
       "      <td>999</td>\n",
       "      <td>0</td>\n",
       "      <td>1.4</td>\n",
       "      <td>94.465</td>\n",
       "      <td>-41.8</td>\n",
       "      <td>4.962</td>\n",
       "      <td>5228.1</td>\n",
       "      <td>...</td>\n",
       "      <td>0</td>\n",
       "      <td>0</td>\n",
       "      <td>0</td>\n",
       "      <td>0</td>\n",
       "      <td>0</td>\n",
       "      <td>0</td>\n",
       "      <td>0</td>\n",
       "      <td>1</td>\n",
       "      <td>1</td>\n",
       "      <td>0</td>\n",
       "    </tr>\n",
       "    <tr>\n",
       "      <th>3</th>\n",
       "      <td>38</td>\n",
       "      <td>17</td>\n",
       "      <td>3</td>\n",
       "      <td>999</td>\n",
       "      <td>0</td>\n",
       "      <td>1.4</td>\n",
       "      <td>94.465</td>\n",
       "      <td>-41.8</td>\n",
       "      <td>4.959</td>\n",
       "      <td>5228.1</td>\n",
       "      <td>...</td>\n",
       "      <td>0</td>\n",
       "      <td>0</td>\n",
       "      <td>0</td>\n",
       "      <td>0</td>\n",
       "      <td>0</td>\n",
       "      <td>0</td>\n",
       "      <td>0</td>\n",
       "      <td>0</td>\n",
       "      <td>1</td>\n",
       "      <td>0</td>\n",
       "    </tr>\n",
       "    <tr>\n",
       "      <th>4</th>\n",
       "      <td>47</td>\n",
       "      <td>58</td>\n",
       "      <td>1</td>\n",
       "      <td>999</td>\n",
       "      <td>0</td>\n",
       "      <td>-0.1</td>\n",
       "      <td>93.200</td>\n",
       "      <td>-42.0</td>\n",
       "      <td>4.191</td>\n",
       "      <td>5195.8</td>\n",
       "      <td>...</td>\n",
       "      <td>0</td>\n",
       "      <td>1</td>\n",
       "      <td>0</td>\n",
       "      <td>0</td>\n",
       "      <td>1</td>\n",
       "      <td>0</td>\n",
       "      <td>0</td>\n",
       "      <td>0</td>\n",
       "      <td>1</td>\n",
       "      <td>0</td>\n",
       "    </tr>\n",
       "  </tbody>\n",
       "</table>\n",
       "<p>5 rows × 54 columns</p>\n",
       "</div>"
      ],
      "text/plain": [
       "   age  duration  campaign  pdays  previous  emp.var.rate  cons.price.idx  \\\n",
       "0   30       487         2    999         0          -1.8          92.893   \n",
       "1   39       346         4    999         0           1.1          93.994   \n",
       "2   25       227         1    999         0           1.4          94.465   \n",
       "3   38        17         3    999         0           1.4          94.465   \n",
       "4   47        58         1    999         0          -0.1          93.200   \n",
       "\n",
       "   cons.conf.idx  euribor3m  nr.employed  ...  month_may  month_nov  \\\n",
       "0          -46.2      1.313       5099.1  ...          1          0   \n",
       "1          -36.4      4.855       5191.0  ...          1          0   \n",
       "2          -41.8      4.962       5228.1  ...          0          0   \n",
       "3          -41.8      4.959       5228.1  ...          0          0   \n",
       "4          -42.0      4.191       5195.8  ...          0          1   \n",
       "\n",
       "   month_oct  month_sep  day_of_week_mon  day_of_week_thu  day_of_week_tue  \\\n",
       "0          0          0                0                0                0   \n",
       "1          0          0                0                0                0   \n",
       "2          0          0                0                0                0   \n",
       "3          0          0                0                0                0   \n",
       "4          0          0                1                0                0   \n",
       "\n",
       "   day_of_week_wed  poutcome_nonexistent  poutcome_success  \n",
       "0                0                     1                 0  \n",
       "1                0                     1                 0  \n",
       "2                1                     1                 0  \n",
       "3                0                     1                 0  \n",
       "4                0                     1                 0  \n",
       "\n",
       "[5 rows x 54 columns]"
      ]
     },
     "execution_count": 17,
     "metadata": {},
     "output_type": "execute_result"
    }
   ],
   "source": [
    "df_cust.head()"
   ]
  },
  {
   "cell_type": "code",
   "execution_count": 18,
   "metadata": {},
   "outputs": [
    {
     "data": {
      "image/png": "[encoded data removed]",
      "text/plain": [
       "<Figure size 864x864 with 2 Axes>"
      ]
     },
     "metadata": {
      "needs_background": "light"
     },
     "output_type": "display_data"
    }
   ],
   "source": [
    "#Visualizing correlation between variables\n",
    "plt.figure(figsize = (12,12))\n",
    "sns.heatmap(df_cust.corr())\n",
    "plt.show()"
   ]
  },
  {
   "cell_type": "markdown",
   "metadata": {},
   "source": [
    "#### <a>Prediction Model - If a client will subscribe to Bank Term Deposit"
   ]
  },
  {
   "cell_type": "code",
   "execution_count": 19,
   "metadata": {},
   "outputs": [],
   "source": [
    "#Getting independent and target variables\n",
    "feat_col = df_cust.columns.difference(['y'])\n",
    "target = 'y'"
   ]
  },
  {
   "cell_type": "code",
   "execution_count": 20,
   "metadata": {},
   "outputs": [
    {
     "name": "stdout",
     "output_type": "stream",
     "text": [
      "[ True  True  True  True False False False False False False False  True\n",
      " False False False False False False False False  True False False False\n",
      " False False False False False False False False False False False False\n",
      " False False False False False False False False False False False False\n",
      "  True  True False  True  True]\n",
      "[ 1  1  1  1 14  8  7 11 13 16 44  1 34 18 10 43 15  5 26  2  1 40  3 17\n",
      " 36 37 21 20 29 22 31  6 30 41 38 12  4  9 42 32 39 28 25 23 27 33 24 35\n",
      "  1  1 19  1  1]\n"
     ]
    }
   ],
   "source": [
    "#Selecting important features by using RFE\n",
    "c_rf = RandomForestClassifier(random_state = 89)\n",
    "fe = RFE(estimator = c_rf, n_features_to_select = 10)\n",
    "fe.fit(df_cust[feat_col], df_cust[target])\n",
    "\n",
    "print(fe.support_)\n",
    "print(fe.ranking_)"
   ]
  },
  {
   "cell_type": "code",
   "execution_count": 21,
   "metadata": {},
   "outputs": [
    {
     "data": {
      "text/plain": [
       "Index(['age', 'campaign', 'cons.conf.idx', 'cons.price.idx', 'duration',\n",
       "       'euribor3m', 'nr.employed', 'pdays', 'poutcome_success', 'previous'],\n",
       "      dtype='object')"
      ]
     },
     "execution_count": 21,
     "metadata": {},
     "output_type": "execute_result"
    }
   ],
   "source": [
    "#Getting selected features for modelling\n",
    "feat_imp = feat_col[fe.support_]\n",
    "feat_imp"
   ]
  },
  {
   "cell_type": "code",
   "execution_count": 22,
   "metadata": {},
   "outputs": [
    {
     "data": {
      "text/html": [
       "<div>\n",
       "<style scoped>\n",
       "    .dataframe tbody tr th:only-of-type {\n",
       "        vertical-align: middle;\n",
       "    }\n",
       "\n",
       "    .dataframe tbody tr th {\n",
       "        vertical-align: top;\n",
       "    }\n",
       "\n",
       "    .dataframe thead th {\n",
       "        text-align: right;\n",
       "    }\n",
       "</style>\n",
       "<table border=\"1\" class=\"dataframe\">\n",
       "  <thead>\n",
       "    <tr style=\"text-align: right;\">\n",
       "      <th></th>\n",
       "      <th>0</th>\n",
       "      <th>1</th>\n",
       "      <th>2</th>\n",
       "      <th>3</th>\n",
       "      <th>4</th>\n",
       "      <th>5</th>\n",
       "      <th>6</th>\n",
       "      <th>7</th>\n",
       "      <th>8</th>\n",
       "      <th>9</th>\n",
       "    </tr>\n",
       "  </thead>\n",
       "  <tbody>\n",
       "    <tr>\n",
       "      <th>0</th>\n",
       "      <td>-0.980752</td>\n",
       "      <td>-0.209228</td>\n",
       "      <td>-1.240939</td>\n",
       "      <td>-1.185448</td>\n",
       "      <td>0.903952</td>\n",
       "      <td>-1.331707</td>\n",
       "      <td>-0.914779</td>\n",
       "      <td>0.201031</td>\n",
       "      <td>-0.188958</td>\n",
       "      <td>-0.351356</td>\n",
       "    </tr>\n",
       "    <tr>\n",
       "      <th>1</th>\n",
       "      <td>-0.107991</td>\n",
       "      <td>0.569634</td>\n",
       "      <td>0.892269</td>\n",
       "      <td>0.715193</td>\n",
       "      <td>0.350300</td>\n",
       "      <td>0.711698</td>\n",
       "      <td>0.332862</td>\n",
       "      <td>0.201031</td>\n",
       "      <td>-0.188958</td>\n",
       "      <td>-0.351356</td>\n",
       "    </tr>\n",
       "    <tr>\n",
       "      <th>2</th>\n",
       "      <td>-1.465619</td>\n",
       "      <td>-0.598660</td>\n",
       "      <td>-0.283172</td>\n",
       "      <td>1.528273</td>\n",
       "      <td>-0.116966</td>\n",
       "      <td>0.773427</td>\n",
       "      <td>0.836535</td>\n",
       "      <td>0.201031</td>\n",
       "      <td>-0.188958</td>\n",
       "      <td>-0.351356</td>\n",
       "    </tr>\n",
       "    <tr>\n",
       "      <th>3</th>\n",
       "      <td>-0.204965</td>\n",
       "      <td>0.180203</td>\n",
       "      <td>-0.283172</td>\n",
       "      <td>1.528273</td>\n",
       "      <td>-0.941553</td>\n",
       "      <td>0.771697</td>\n",
       "      <td>0.836535</td>\n",
       "      <td>0.201031</td>\n",
       "      <td>-0.188958</td>\n",
       "      <td>-0.351356</td>\n",
       "    </tr>\n",
       "    <tr>\n",
       "      <th>4</th>\n",
       "      <td>0.667795</td>\n",
       "      <td>-0.598660</td>\n",
       "      <td>-0.326707</td>\n",
       "      <td>-0.655478</td>\n",
       "      <td>-0.780563</td>\n",
       "      <td>0.328632</td>\n",
       "      <td>0.398028</td>\n",
       "      <td>0.201031</td>\n",
       "      <td>-0.188958</td>\n",
       "      <td>-0.351356</td>\n",
       "    </tr>\n",
       "  </tbody>\n",
       "</table>\n",
       "</div>"
      ],
      "text/plain": [
       "          0         1         2         3         4         5         6  \\\n",
       "0 -0.980752 -0.209228 -1.240939 -1.185448  0.903952 -1.331707 -0.914779   \n",
       "1 -0.107991  0.569634  0.892269  0.715193  0.350300  0.711698  0.332862   \n",
       "2 -1.465619 -0.598660 -0.283172  1.528273 -0.116966  0.773427  0.836535   \n",
       "3 -0.204965  0.180203 -0.283172  1.528273 -0.941553  0.771697  0.836535   \n",
       "4  0.667795 -0.598660 -0.326707 -0.655478 -0.780563  0.328632  0.398028   \n",
       "\n",
       "          7         8         9  \n",
       "0  0.201031 -0.188958 -0.351356  \n",
       "1  0.201031 -0.188958 -0.351356  \n",
       "2  0.201031 -0.188958 -0.351356  \n",
       "3  0.201031 -0.188958 -0.351356  \n",
       "4  0.201031 -0.188958 -0.351356  "
      ]
     },
     "execution_count": 22,
     "metadata": {},
     "output_type": "execute_result"
    }
   ],
   "source": [
    "#Standardizing the dataset\n",
    "sc = StandardScaler()\n",
    "sc_x = pd.DataFrame(sc.fit_transform(df_cust[feat_imp]))\n",
    "sc_x.head()"
   ]
  },
  {
   "cell_type": "code",
   "execution_count": 23,
   "metadata": {},
   "outputs": [],
   "source": [
    "#Getting train and test dataset\n",
    "x_train, x_test, y_train, y_test = train_test_split(sc_x, df_cust[target],\n",
    "                                                   test_size = 0.3, random_state = 89)"
   ]
  },
  {
   "cell_type": "code",
   "execution_count": 24,
   "metadata": {},
   "outputs": [
    {
     "data": {
      "text/plain": [
       "0    2561\n",
       "1     322\n",
       "Name: y, dtype: int64"
      ]
     },
     "execution_count": 24,
     "metadata": {},
     "output_type": "execute_result"
    }
   ],
   "source": [
    "#Checking for imbalanced data\n",
    "y_train.value_counts()"
   ]
  },
  {
   "cell_type": "markdown",
   "metadata": {},
   "source": [
    "As we have only 322 values for '1' i.e. yes - subscribed which is very less compared to 2561 values for '0' i.e. no - not subscribed. This makes the precision and recall of model prediction for predicting '1' very poor. We want have a good precision and good recall on both the classification labels. So, it is neccessary to have balanced data."
   ]
  },
  {
   "cell_type": "code",
   "execution_count": 25,
   "metadata": {},
   "outputs": [
    {
     "name": "stdout",
     "output_type": "stream",
     "text": [
      "Original dataset shape Counter({0: 2561, 1: 322})\n",
      "Oversampled dataset shape Counter({0: 1073, 1: 322})\n"
     ]
    }
   ],
   "source": [
    "#Rebalancing the data using under-sampling\n",
    "print('Original dataset shape {}'.format(Counter(y_train)))\n",
    "\n",
    "us = RandomUnderSampler(random_state = 89, sampling_strategy=0.3)\n",
    "x_train, y_train = us.fit_sample(x_train, y_train)\n",
    "\n",
    "print('Oversampled dataset shape {}'.format(Counter(y_train)))"
   ]
  },
  {
   "cell_type": "markdown",
   "metadata": {},
   "source": [
    "#### <a>Bagging Model"
   ]
  },
  {
   "cell_type": "code",
   "execution_count": 26,
   "metadata": {},
   "outputs": [
    {
     "name": "stdout",
     "output_type": "stream",
     "text": [
      "[13:54:09] WARNING: C:/Users/Administrator/workspace/xgboost-win64_release_1.3.0/src/learner.cc:1061: Starting in XGBoost 1.3.0, the default evaluation metric used with the objective 'binary:logistic' was changed from 'error' to 'logloss'. Explicitly set eval_metric if you'd like to restore the old behavior.\n"
     ]
    }
   ],
   "source": [
    "#Getting parameters for best fit using GridSeachCV\n",
    "\n",
    "pg = {'n_estimators' : range(10,100,20),\n",
    "          'learning_rate': [10 ** x for x in range(-2, 2)],\n",
    "          'max_depth'    : range(0,11,2)\n",
    "          \n",
    "              }\n",
    "\n",
    "gscv_xgb = GridSearchCV(estimator = XGBClassifier(objective='binary:logistic',\n",
    "                                                  random_state = 89,\n",
    "                                                  use_label_encoder = False), \n",
    "                     param_grid = pg,\n",
    "                     scoring = 'roc_auc',\n",
    "                     cv = 5,\n",
    "                     n_jobs = -1).fit(x_train, y_train)"
   ]
  },
  {
   "cell_type": "code",
   "execution_count": 27,
   "metadata": {},
   "outputs": [
    {
     "data": {
      "text/plain": [
       "{'learning_rate': 0.1, 'max_depth': 2, 'n_estimators': 90}"
      ]
     },
     "execution_count": 27,
     "metadata": {},
     "output_type": "execute_result"
    }
   ],
   "source": [
    "gscv_xgb.best_params_"
   ]
  },
  {
   "cell_type": "code",
   "execution_count": 28,
   "metadata": {},
   "outputs": [
    {
     "data": {
      "text/plain": [
       "0.9437875336465316"
      ]
     },
     "execution_count": 28,
     "metadata": {},
     "output_type": "execute_result"
    }
   ],
   "source": [
    "gscv_xgb.best_score_"
   ]
  },
  {
   "cell_type": "code",
   "execution_count": 29,
   "metadata": {},
   "outputs": [
    {
     "name": "stdout",
     "output_type": "stream",
     "text": [
      "[13:54:10] WARNING: C:/Users/Administrator/workspace/xgboost-win64_release_1.3.0/src/learner.cc:1061: Starting in XGBoost 1.3.0, the default evaluation metric used with the objective 'binary:logistic' was changed from 'error' to 'logloss'. Explicitly set eval_metric if you'd like to restore the old behavior.\n"
     ]
    }
   ],
   "source": [
    "#Rebuilding model with best fit parameters\n",
    "cl_xgb = gscv_xgb.best_estimator_\n",
    "cl_xgb.fit(x_train, y_train)\n",
    "\n",
    "#Making prediction on train and test data\n",
    "train_pred_xgb = cl_xgb.predict(x_train)\n",
    "test_pred_xgb = cl_xgb.predict(x_test)\n",
    "\n",
    "#Calculating log loss\n",
    "log_xgb = metrics.log_loss(y_test, cl_xgb.predict_proba(x_test))"
   ]
  },
  {
   "cell_type": "code",
   "execution_count": 30,
   "metadata": {},
   "outputs": [
    {
     "name": "stdout",
     "output_type": "stream",
     "text": [
      "Model Performance\n",
      "Train Dataset\n",
      "Accuracy :  0.9146953405017921\n",
      "AUC      :  0.9643595190821577\n",
      "\n",
      "Test Dataset\n",
      "Accuracy :  0.8948220064724919\n",
      "AUC      :  0.9303971205086727\n",
      "Log Loss :  0.22488195214663184\n"
     ]
    }
   ],
   "source": [
    "#Evaluating performance\n",
    "print(\"Model Performance\")\n",
    "print(\"Train Dataset\")\n",
    "print(\"Accuracy : \", metrics.accuracy_score(y_train, train_pred_xgb))\n",
    "print(\"AUC      : \", metrics.roc_auc_score(y_train, cl_xgb.predict_proba(x_train)[:,1]))\n",
    "print(\"\")\n",
    "print(\"Test Dataset\")\n",
    "acc_score_xgb = metrics.accuracy_score(y_test, test_pred_xgb)\n",
    "print(\"Accuracy : \", acc_score_xgb)\n",
    "print(\"AUC      : \", metrics.roc_auc_score(y_test, cl_xgb.predict_proba(x_test)[:,1]))\n",
    "print(\"Log Loss : \", log_xgb)"
   ]
  },
  {
   "cell_type": "code",
   "execution_count": 31,
   "metadata": {},
   "outputs": [
    {
     "data": {
      "image/png": "[encoded data removed]",
      "text/plain": [
       "<Figure size 432x288 with 2 Axes>"
      ]
     },
     "metadata": {
      "needs_background": "light"
     },
     "output_type": "display_data"
    }
   ],
   "source": [
    "#Confusion Matrix\n",
    "confusion_matrix = metrics.confusion_matrix(y_test, test_pred_xgb, labels = [1,0])\n",
    "sns.heatmap(confusion_matrix, annot = True, fmt = '.2f', xticklabels = ['Yes', 'No'], yticklabels = ['Yes', 'No'])\n",
    "plt.xlabel('Predicted Label')\n",
    "plt.ylabel('Actual Label')\n",
    "plt.show()"
   ]
  },
  {
   "cell_type": "code",
   "execution_count": 32,
   "metadata": {},
   "outputs": [
    {
     "name": "stdout",
     "output_type": "stream",
     "text": [
      "              precision    recall  f1-score   support\n",
      "\n",
      "           0       0.96      0.92      0.94      1107\n",
      "           1       0.50      0.71      0.59       129\n",
      "\n",
      "    accuracy                           0.89      1236\n",
      "   macro avg       0.73      0.81      0.76      1236\n",
      "weighted avg       0.92      0.89      0.90      1236\n",
      "\n"
     ]
    }
   ],
   "source": [
    "#Classification metrics scores of the model\n",
    "print(metrics.classification_report(y_test, test_pred_xgb))"
   ]
  },
  {
   "cell_type": "markdown",
   "metadata": {},
   "source": [
    "#### <a>K Neighbors Model"
   ]
  },
  {
   "cell_type": "code",
   "execution_count": 33,
   "metadata": {},
   "outputs": [],
   "source": [
    "#Getting parameters for best fit using GridSeachCV\n",
    "pg = {'n_neighbors' : range(1,11,1)\n",
    "              }\n",
    "\n",
    "gscv_knn = GridSearchCV(estimator = KNeighborsClassifier(), \n",
    "                     param_grid = pg,\n",
    "                     scoring = 'roc_auc',\n",
    "                     cv = 5,\n",
    "                     n_jobs = -1).fit(x_train, y_train)"
   ]
  },
  {
   "cell_type": "code",
   "execution_count": 34,
   "metadata": {},
   "outputs": [
    {
     "data": {
      "text/plain": [
       "{'n_neighbors': 10}"
      ]
     },
     "execution_count": 34,
     "metadata": {},
     "output_type": "execute_result"
    }
   ],
   "source": [
    "gscv_knn.best_params_"
   ]
  },
  {
   "cell_type": "code",
   "execution_count": 35,
   "metadata": {},
   "outputs": [
    {
     "data": {
      "text/plain": [
       "0.9221972177871031"
      ]
     },
     "execution_count": 35,
     "metadata": {},
     "output_type": "execute_result"
    }
   ],
   "source": [
    "gscv_knn.best_score_"
   ]
  },
  {
   "cell_type": "code",
   "execution_count": 36,
   "metadata": {},
   "outputs": [],
   "source": [
    "#Using best fit parameters to fit the model\n",
    "cl_knn = gscv_knn.best_estimator_\n",
    "cl_knn.fit(x_train, y_train)\n",
    "\n",
    "#Making prediction on train and test data\n",
    "train_pred_knn = cl_knn.predict(x_train)\n",
    "test_pred_knn = cl_knn.predict(x_test)\n",
    "\n",
    "#Calculating log loss\n",
    "log_knn = metrics.log_loss(y_test, cl_knn.predict_proba(x_test))"
   ]
  },
  {
   "cell_type": "code",
   "execution_count": 37,
   "metadata": {},
   "outputs": [
    {
     "name": "stdout",
     "output_type": "stream",
     "text": [
      "Model Performance\n",
      "Train Dataset\n",
      "Accuracy :  0.8831541218637993\n",
      "AUC      :  0.9539559370893704\n",
      "\n",
      "Test Dataset\n",
      "Accuracy :  0.8907766990291263\n",
      "AUC      :  0.8990357345433919\n",
      "Log Loss :  0.5123648091108095\n"
     ]
    }
   ],
   "source": [
    "#Evaluating performance\n",
    "print(\"Model Performance\")\n",
    "print(\"Train Dataset\")\n",
    "print(\"Accuracy : \", metrics.accuracy_score(y_train, train_pred_knn))\n",
    "print(\"AUC      : \", metrics.roc_auc_score(y_train, cl_knn.predict_proba(x_train)[:,1]))\n",
    "print(\"\")\n",
    "print(\"Test Dataset\")\n",
    "acc_score_knn = metrics.accuracy_score(y_test, test_pred_knn)\n",
    "print(\"Accuracy : \", acc_score_knn)\n",
    "print(\"AUC      : \", metrics.roc_auc_score(y_test, cl_knn.predict_proba(x_test)[:,1]))\n",
    "print(\"Log Loss : \", log_knn)"
   ]
  },
  {
   "cell_type": "code",
   "execution_count": 38,
   "metadata": {},
   "outputs": [
    {
     "data": {
      "image/png": "[encoded data removed]",
      "text/plain": [
       "<Figure size 432x288 with 2 Axes>"
      ]
     },
     "metadata": {
      "needs_background": "light"
     },
     "output_type": "display_data"
    }
   ],
   "source": [
    "#Confusion Matrix\n",
    "confusion_matrix = metrics.confusion_matrix(y_test, test_pred_knn, labels = [1,0])\n",
    "sns.heatmap(confusion_matrix, annot = True, fmt = '.2f', xticklabels = ['Yes', 'No'], yticklabels = ['Yes', 'No'])\n",
    "plt.xlabel('Predicted Label')\n",
    "plt.ylabel('Actual Label')\n",
    "plt.show()"
   ]
  },
  {
   "cell_type": "code",
   "execution_count": 39,
   "metadata": {},
   "outputs": [
    {
     "name": "stdout",
     "output_type": "stream",
     "text": [
      "              precision    recall  f1-score   support\n",
      "\n",
      "           0       0.95      0.93      0.94      1107\n",
      "           1       0.48      0.59      0.53       129\n",
      "\n",
      "    accuracy                           0.89      1236\n",
      "   macro avg       0.72      0.76      0.73      1236\n",
      "weighted avg       0.90      0.89      0.90      1236\n",
      "\n"
     ]
    }
   ],
   "source": [
    "#Classification metrics scores of the model\n",
    "print(metrics.classification_report(y_test, test_pred_knn))"
   ]
  },
  {
   "cell_type": "markdown",
   "metadata": {},
   "source": [
    "#### <a>Random Forest Model"
   ]
  },
  {
   "cell_type": "code",
   "execution_count": 40,
   "metadata": {},
   "outputs": [],
   "source": [
    "#Getting parameters for best fit using GridSeachCV\n",
    "pg = {'n_estimators' : [100,300,500]\n",
    "              }\n",
    "\n",
    "gscv_rf = GridSearchCV(estimator = RandomForestClassifier(random_state = 89), \n",
    "                     param_grid = pg,\n",
    "                     scoring = 'roc_auc',\n",
    "                     cv = 5,\n",
    "                     n_jobs = -1).fit(x_train, y_train)"
   ]
  },
  {
   "cell_type": "code",
   "execution_count": 41,
   "metadata": {},
   "outputs": [
    {
     "data": {
      "text/plain": [
       "{'n_estimators': 100}"
      ]
     },
     "execution_count": 41,
     "metadata": {},
     "output_type": "execute_result"
    }
   ],
   "source": [
    "gscv_rf.best_params_"
   ]
  },
  {
   "cell_type": "code",
   "execution_count": 42,
   "metadata": {},
   "outputs": [
    {
     "data": {
      "text/plain": [
       "0.9410172694481131"
      ]
     },
     "execution_count": 42,
     "metadata": {},
     "output_type": "execute_result"
    }
   ],
   "source": [
    "gscv_rf.best_score_"
   ]
  },
  {
   "cell_type": "code",
   "execution_count": 43,
   "metadata": {},
   "outputs": [],
   "source": [
    "#Using best fit parameters to fit the model\n",
    "cl_rf = gscv_rf.best_estimator_\n",
    "cl_rf.fit(x_train, y_train)\n",
    "\n",
    "#Making prediction on train and test data\n",
    "train_pred_rf = cl_rf.predict(x_train)\n",
    "test_pred_rf = cl_rf.predict(x_test)\n",
    "\n",
    "#Calculating log loss\n",
    "log_rf = metrics.log_loss(y_test, cl_rf.predict_proba(x_test))"
   ]
  },
  {
   "cell_type": "code",
   "execution_count": 44,
   "metadata": {},
   "outputs": [
    {
     "name": "stdout",
     "output_type": "stream",
     "text": [
      "Model Performance\n",
      "Train Dataset\n",
      "Accuracy :  1.0\n",
      "AUC      :  1.0\n",
      "\n",
      "Test Dataset\n",
      "Accuracy :  0.88915857605178\n",
      "AUC      :  0.9108562145052974\n",
      "Log Loss :  0.2920648412614465\n"
     ]
    }
   ],
   "source": [
    "#Evaluating performance\n",
    "print(\"Model Performance\")\n",
    "print(\"Train Dataset\")\n",
    "print(\"Accuracy : \", metrics.accuracy_score(y_train, train_pred_rf))\n",
    "print(\"AUC      : \", metrics.roc_auc_score(y_train, cl_rf.predict_proba(x_train)[:,1]))\n",
    "print(\"\")\n",
    "print(\"Test Dataset\")\n",
    "acc_score_rf = metrics.accuracy_score(y_test, test_pred_rf)\n",
    "print(\"Accuracy : \", acc_score_rf)\n",
    "print(\"AUC      : \", metrics.roc_auc_score(y_test, cl_rf.predict_proba(x_test)[:,1]))\n",
    "print(\"Log Loss : \", log_rf)"
   ]
  },
  {
   "cell_type": "code",
   "execution_count": 45,
   "metadata": {},
   "outputs": [
    {
     "data": {
      "image/png": "[encoded data removed]",
      "text/plain": [
       "<Figure size 432x288 with 2 Axes>"
      ]
     },
     "metadata": {
      "needs_background": "light"
     },
     "output_type": "display_data"
    }
   ],
   "source": [
    "#Confusion Matrix\n",
    "confusion_matrix = metrics.confusion_matrix(y_test, test_pred_rf, labels = [1,0])\n",
    "sns.heatmap(confusion_matrix, annot = True, fmt = '.2f', xticklabels = ['Yes', 'No'], yticklabels = ['Yes', 'No'])\n",
    "plt.xlabel('Predicted Label')\n",
    "plt.ylabel('Actual Label')\n",
    "plt.show()"
   ]
  },
  {
   "cell_type": "code",
   "execution_count": 46,
   "metadata": {},
   "outputs": [
    {
     "name": "stdout",
     "output_type": "stream",
     "text": [
      "              precision    recall  f1-score   support\n",
      "\n",
      "           0       0.96      0.92      0.94      1107\n",
      "           1       0.48      0.66      0.55       129\n",
      "\n",
      "    accuracy                           0.89      1236\n",
      "   macro avg       0.72      0.79      0.75      1236\n",
      "weighted avg       0.91      0.89      0.90      1236\n",
      "\n"
     ]
    }
   ],
   "source": [
    "#Classification metrics scores of the model\n",
    "print(metrics.classification_report(y_test, test_pred_rf))"
   ]
  },
  {
   "cell_type": "markdown",
   "metadata": {},
   "source": [
    "#### <a>Artificial Neural Network (ANN) Model"
   ]
  },
  {
   "cell_type": "code",
   "execution_count": 47,
   "metadata": {},
   "outputs": [
    {
     "data": {
      "text/plain": [
       "(1395, 10)"
      ]
     },
     "execution_count": 47,
     "metadata": {},
     "output_type": "execute_result"
    }
   ],
   "source": [
    "#Shape of Input Data\n",
    "x_train.shape"
   ]
  },
  {
   "cell_type": "code",
   "execution_count": 48,
   "metadata": {},
   "outputs": [],
   "source": [
    "#Initializing Neural Network\n",
    "se = Sequential()\n",
    "#Adding input layer\n",
    "se.add(Dense(10, activation = 'relu', input_dim = 10))\n",
    "#Adding hidden layer\n",
    "se.add(Dense(7, activation = 'relu'))\n",
    "#Adding one more hidden layer\n",
    "se.add(Dense(4, activation = 'relu'))\n",
    "#Adding output layer\n",
    "se.add(Dense(1, activation = 'sigmoid'))"
   ]
  },
  {
   "cell_type": "code",
   "execution_count": 49,
   "metadata": {},
   "outputs": [
    {
     "name": "stdout",
     "output_type": "stream",
     "text": [
      "Model: \"sequential\"\n",
      "_________________________________________________________________\n",
      "Layer (type)                 Output Shape              Param #   \n",
      "=================================================================\n",
      "dense (Dense)                (None, 10)                110       \n",
      "_________________________________________________________________\n",
      "dense_1 (Dense)              (None, 7)                 77        \n",
      "_________________________________________________________________\n",
      "dense_2 (Dense)              (None, 4)                 32        \n",
      "_________________________________________________________________\n",
      "dense_3 (Dense)              (None, 1)                 5         \n",
      "=================================================================\n",
      "Total params: 224\n",
      "Trainable params: 224\n",
      "Non-trainable params: 0\n",
      "_________________________________________________________________\n"
     ]
    }
   ],
   "source": [
    "#Getting model summary\n",
    "se.summary()"
   ]
  },
  {
   "cell_type": "code",
   "execution_count": 50,
   "metadata": {},
   "outputs": [
    {
     "data": {
      "text/plain": [
       "{'name': 'sequential',\n",
       " 'layers': [{'class_name': 'InputLayer',\n",
       "   'config': {'batch_input_shape': (None, 10),\n",
       "    'dtype': 'float32',\n",
       "    'sparse': False,\n",
       "    'ragged': False,\n",
       "    'name': 'dense_input'}},\n",
       "  {'class_name': 'Dense',\n",
       "   'config': {'name': 'dense',\n",
       "    'trainable': True,\n",
       "    'batch_input_shape': (None, 10),\n",
       "    'dtype': 'float32',\n",
       "    'units': 10,\n",
       "    'activation': 'relu',\n",
       "    'use_bias': True,\n",
       "    'kernel_initializer': {'class_name': 'GlorotUniform',\n",
       "     'config': {'seed': None}},\n",
       "    'bias_initializer': {'class_name': 'Zeros', 'config': {}},\n",
       "    'kernel_regularizer': None,\n",
       "    'bias_regularizer': None,\n",
       "    'activity_regularizer': None,\n",
       "    'kernel_constraint': None,\n",
       "    'bias_constraint': None}},\n",
       "  {'class_name': 'Dense',\n",
       "   'config': {'name': 'dense_1',\n",
       "    'trainable': True,\n",
       "    'dtype': 'float32',\n",
       "    'units': 7,\n",
       "    'activation': 'relu',\n",
       "    'use_bias': True,\n",
       "    'kernel_initializer': {'class_name': 'GlorotUniform',\n",
       "     'config': {'seed': None}},\n",
       "    'bias_initializer': {'class_name': 'Zeros', 'config': {}},\n",
       "    'kernel_regularizer': None,\n",
       "    'bias_regularizer': None,\n",
       "    'activity_regularizer': None,\n",
       "    'kernel_constraint': None,\n",
       "    'bias_constraint': None}},\n",
       "  {'class_name': 'Dense',\n",
       "   'config': {'name': 'dense_2',\n",
       "    'trainable': True,\n",
       "    'dtype': 'float32',\n",
       "    'units': 4,\n",
       "    'activation': 'relu',\n",
       "    'use_bias': True,\n",
       "    'kernel_initializer': {'class_name': 'GlorotUniform',\n",
       "     'config': {'seed': None}},\n",
       "    'bias_initializer': {'class_name': 'Zeros', 'config': {}},\n",
       "    'kernel_regularizer': None,\n",
       "    'bias_regularizer': None,\n",
       "    'activity_regularizer': None,\n",
       "    'kernel_constraint': None,\n",
       "    'bias_constraint': None}},\n",
       "  {'class_name': 'Dense',\n",
       "   'config': {'name': 'dense_3',\n",
       "    'trainable': True,\n",
       "    'dtype': 'float32',\n",
       "    'units': 1,\n",
       "    'activation': 'sigmoid',\n",
       "    'use_bias': True,\n",
       "    'kernel_initializer': {'class_name': 'GlorotUniform',\n",
       "     'config': {'seed': None}},\n",
       "    'bias_initializer': {'class_name': 'Zeros', 'config': {}},\n",
       "    'kernel_regularizer': None,\n",
       "    'bias_regularizer': None,\n",
       "    'activity_regularizer': None,\n",
       "    'kernel_constraint': None,\n",
       "    'bias_constraint': None}}]}"
      ]
     },
     "execution_count": 50,
     "metadata": {},
     "output_type": "execute_result"
    }
   ],
   "source": [
    "#Configuration of the model\n",
    "se.get_config()"
   ]
  },
  {
   "cell_type": "code",
   "execution_count": 51,
   "metadata": {},
   "outputs": [
    {
     "name": "stdout",
     "output_type": "stream",
     "text": [
      "Epoch 1/20\n",
      "279/279 [==============================] - 2s 4ms/step - loss: 0.6315 - accuracy: 0.7361 - val_loss: 0.3226 - val_accuracy: 0.9037\n",
      "Epoch 2/20\n",
      "279/279 [==============================] - 1s 2ms/step - loss: 0.3606 - accuracy: 0.8468 - val_loss: 0.2544 - val_accuracy: 0.9005\n",
      "Epoch 3/20\n",
      "279/279 [==============================] - 1s 2ms/step - loss: 0.3018 - accuracy: 0.8554 - val_loss: 0.2539 - val_accuracy: 0.8892\n",
      "Epoch 4/20\n",
      "279/279 [==============================] - 1s 2ms/step - loss: 0.2748 - accuracy: 0.8641 - val_loss: 0.2459 - val_accuracy: 0.8819\n",
      "Epoch 5/20\n",
      "279/279 [==============================] - 1s 2ms/step - loss: 0.2811 - accuracy: 0.8673 - val_loss: 0.2399 - val_accuracy: 0.8819\n",
      "Epoch 6/20\n",
      "279/279 [==============================] - 1s 2ms/step - loss: 0.2914 - accuracy: 0.8676 - val_loss: 0.2413 - val_accuracy: 0.8754\n",
      "Epoch 7/20\n",
      "279/279 [==============================] - 0s 2ms/step - loss: 0.2430 - accuracy: 0.8897 - val_loss: 0.2330 - val_accuracy: 0.8738\n",
      "Epoch 8/20\n",
      "279/279 [==============================] - 1s 2ms/step - loss: 0.2638 - accuracy: 0.8792 - val_loss: 0.2479 - val_accuracy: 0.8657\n",
      "Epoch 9/20\n",
      "279/279 [==============================] - 0s 2ms/step - loss: 0.2903 - accuracy: 0.8745 - val_loss: 0.2390 - val_accuracy: 0.8641\n",
      "Epoch 10/20\n",
      "279/279 [==============================] - 0s 2ms/step - loss: 0.2516 - accuracy: 0.8821 - val_loss: 0.2460 - val_accuracy: 0.8592\n",
      "Epoch 11/20\n",
      "279/279 [==============================] - 1s 2ms/step - loss: 0.2705 - accuracy: 0.8854 - val_loss: 0.2532 - val_accuracy: 0.8576\n",
      "Epoch 12/20\n",
      "279/279 [==============================] - 1s 2ms/step - loss: 0.2507 - accuracy: 0.8947 - val_loss: 0.2558 - val_accuracy: 0.8544\n",
      "Epoch 13/20\n",
      "279/279 [==============================] - 1s 2ms/step - loss: 0.2307 - accuracy: 0.9082 - val_loss: 0.2484 - val_accuracy: 0.8617\n",
      "Epoch 14/20\n",
      "279/279 [==============================] - 1s 2ms/step - loss: 0.2475 - accuracy: 0.8873 - val_loss: 0.2427 - val_accuracy: 0.8592\n",
      "Epoch 15/20\n",
      "279/279 [==============================] - 1s 2ms/step - loss: 0.2275 - accuracy: 0.8907 - val_loss: 0.2465 - val_accuracy: 0.8617\n",
      "Epoch 16/20\n",
      "279/279 [==============================] - 1s 2ms/step - loss: 0.2750 - accuracy: 0.8798 - val_loss: 0.2447 - val_accuracy: 0.8673\n",
      "Epoch 17/20\n",
      "279/279 [==============================] - 1s 2ms/step - loss: 0.2446 - accuracy: 0.8965 - val_loss: 0.2392 - val_accuracy: 0.8657\n",
      "Epoch 18/20\n",
      "279/279 [==============================] - 1s 2ms/step - loss: 0.2363 - accuracy: 0.9003 - val_loss: 0.2441 - val_accuracy: 0.8649\n",
      "Epoch 19/20\n",
      "279/279 [==============================] - 1s 2ms/step - loss: 0.2157 - accuracy: 0.9124 - val_loss: 0.2433 - val_accuracy: 0.8625\n",
      "Epoch 20/20\n",
      "279/279 [==============================] - 1s 2ms/step - loss: 0.2639 - accuracy: 0.8758 - val_loss: 0.2385 - val_accuracy: 0.8673\n"
     ]
    },
    {
     "data": {
      "text/plain": [
       "<tensorflow.python.keras.callbacks.History at 0x3a37beedc8>"
      ]
     },
     "execution_count": 51,
     "metadata": {},
     "output_type": "execute_result"
    }
   ],
   "source": [
    "#Compiling and fitting the model\n",
    "se.compile(optimizer = 'adam', loss = 'binary_crossentropy', metrics = ['accuracy'])\n",
    "se.fit(x_train, y_train, epochs = 20, batch_size = 5, validation_data = (x_test, y_test))"
   ]
  },
  {
   "cell_type": "code",
   "execution_count": 52,
   "metadata": {},
   "outputs": [
    {
     "name": "stdout",
     "output_type": "stream",
     "text": [
      "Model Performance\n",
      "Train Dataset -\n",
      "Accuracy :  0.8903225806451613\n",
      "AUC      :  0.9473381070082718\n",
      "\n",
      "Test Dataset -\n",
      "Accuracy :  0.8673139158576052\n",
      "AUC      :  0.9158070908874463\n",
      "Log Loss :  4.58289844404033\n"
     ]
    }
   ],
   "source": [
    "#Predicted values for train and test data\n",
    "se_train_pred = (se.predict(x_train)>0.5).astype('int64')[:,0]\n",
    "se_test_pred = (se.predict(x_test)>0.5).astype('int64')[:,0]\n",
    "\n",
    "#Log Loss of the model\n",
    "log_se = metrics.log_loss(y_test, se_test_pred)\n",
    "\n",
    "#Evaluating model performance\n",
    "print(\"Model Performance\")\n",
    "print(\"Train Dataset -\")\n",
    "print('Accuracy : ', metrics.accuracy_score(y_train, se_train_pred))\n",
    "print('AUC      : ', metrics.roc_auc_score(y_train, se.predict(x_train)[:,0]))\n",
    "print(\"\")\n",
    "print('Test Dataset -')\n",
    "acc_se = metrics.accuracy_score(y_test, se_test_pred)\n",
    "print('Accuracy : ', acc_se)\n",
    "print('AUC      : ', metrics.roc_auc_score(y_test, se.predict(x_test)[:,0]))\n",
    "print('Log Loss : ', log_se)"
   ]
  },
  {
   "cell_type": "code",
   "execution_count": 53,
   "metadata": {},
   "outputs": [
    {
     "data": {
      "image/png": "[encoded data removed]",
      "text/plain": [
       "<Figure size 432x288 with 2 Axes>"
      ]
     },
     "metadata": {
      "needs_background": "light"
     },
     "output_type": "display_data"
    }
   ],
   "source": [
    "#Confusion Matrix\n",
    "confusion_matrix = metrics.confusion_matrix(y_test, se_test_pred, labels = [1,0])\n",
    "sns.heatmap(confusion_matrix, annot = True, fmt = '.2f', xticklabels = ['Yes', 'No'], yticklabels = ['Yes', 'No'])\n",
    "plt.xlabel('Predicted Label')\n",
    "plt.ylabel('Actual Label')\n",
    "plt.show()"
   ]
  },
  {
   "cell_type": "code",
   "execution_count": 54,
   "metadata": {},
   "outputs": [
    {
     "name": "stdout",
     "output_type": "stream",
     "text": [
      "              precision    recall  f1-score   support\n",
      "\n",
      "           0       0.97      0.88      0.92      1107\n",
      "           1       0.42      0.73      0.53       129\n",
      "\n",
      "    accuracy                           0.87      1236\n",
      "   macro avg       0.69      0.81      0.73      1236\n",
      "weighted avg       0.91      0.87      0.88      1236\n",
      "\n"
     ]
    }
   ],
   "source": [
    "#classification metrics scores of the model\n",
    "print(metrics.classification_report(y_test, se_test_pred))"
   ]
  },
  {
   "cell_type": "markdown",
   "metadata": {},
   "source": [
    "#### <a>Comparing accuracy and log loss metrics of each model"
   ]
  },
  {
   "cell_type": "code",
   "execution_count": 55,
   "metadata": {},
   "outputs": [],
   "source": [
    "#Getting accuracy and log loss for each model\n",
    "metric_data = pd.DataFrame({'Classifiers' : ['XGBClassifier', 'KNeighborsClassifier', 'RandomForestClassifier', 'ArtificialNeuralNetwork'],\n",
    "                        'Accuracy %' : [acc_score_xgb, acc_score_knn, acc_score_rf, acc_se],\n",
    "                        'Log_Loss' : [log_xgb, log_knn, log_rf, log_se]})"
   ]
  },
  {
   "cell_type": "code",
   "execution_count": 56,
   "metadata": {},
   "outputs": [],
   "source": [
    "metric_data['Accuracy %'] = metric_data['Accuracy %'].apply(lambda x : round((x*100),2))"
   ]
  },
  {
   "cell_type": "code",
   "execution_count": 57,
   "metadata": {},
   "outputs": [
    {
     "data": {
      "text/html": [
       "<div>\n",
       "<style scoped>\n",
       "    .dataframe tbody tr th:only-of-type {\n",
       "        vertical-align: middle;\n",
       "    }\n",
       "\n",
       "    .dataframe tbody tr th {\n",
       "        vertical-align: top;\n",
       "    }\n",
       "\n",
       "    .dataframe thead th {\n",
       "        text-align: right;\n",
       "    }\n",
       "</style>\n",
       "<table border=\"1\" class=\"dataframe\">\n",
       "  <thead>\n",
       "    <tr style=\"text-align: right;\">\n",
       "      <th></th>\n",
       "      <th>Classifiers</th>\n",
       "      <th>Accuracy %</th>\n",
       "      <th>Log_Loss</th>\n",
       "    </tr>\n",
       "  </thead>\n",
       "  <tbody>\n",
       "    <tr>\n",
       "      <th>0</th>\n",
       "      <td>XGBClassifier</td>\n",
       "      <td>89.48</td>\n",
       "      <td>0.224882</td>\n",
       "    </tr>\n",
       "    <tr>\n",
       "      <th>1</th>\n",
       "      <td>KNeighborsClassifier</td>\n",
       "      <td>89.08</td>\n",
       "      <td>0.512365</td>\n",
       "    </tr>\n",
       "    <tr>\n",
       "      <th>2</th>\n",
       "      <td>RandomForestClassifier</td>\n",
       "      <td>88.92</td>\n",
       "      <td>0.292065</td>\n",
       "    </tr>\n",
       "    <tr>\n",
       "      <th>3</th>\n",
       "      <td>ArtificialNeuralNetwork</td>\n",
       "      <td>86.73</td>\n",
       "      <td>4.582898</td>\n",
       "    </tr>\n",
       "  </tbody>\n",
       "</table>\n",
       "</div>"
      ],
      "text/plain": [
       "               Classifiers  Accuracy %  Log_Loss\n",
       "0            XGBClassifier       89.48  0.224882\n",
       "1     KNeighborsClassifier       89.08  0.512365\n",
       "2   RandomForestClassifier       88.92  0.292065\n",
       "3  ArtificialNeuralNetwork       86.73  4.582898"
      ]
     },
     "execution_count": 57,
     "metadata": {},
     "output_type": "execute_result"
    }
   ],
   "source": [
    "metric_data"
   ]
  },
  {
   "cell_type": "code",
   "execution_count": 58,
   "metadata": {},
   "outputs": [
    {
     "data": {
      "image/png": "[encoded data removed]",
      "text/plain": [
       "<Figure size 432x288 with 1 Axes>"
      ]
     },
     "metadata": {
      "needs_background": "light"
     },
     "output_type": "display_data"
    },
    {
     "data": {
      "image/png": "[encoded data removed]",
      "text/plain": [
       "<Figure size 432x288 with 1 Axes>"
      ]
     },
     "metadata": {
      "needs_background": "light"
     },
     "output_type": "display_data"
    }
   ],
   "source": [
    "#Visualizing each model's accuracy and log loss metric\n",
    "sns.barplot(data = metric_data, x = metric_data['Accuracy %'], y = metric_data.Classifiers)\n",
    "plt.title('Model Accuracy')\n",
    "plt.show()\n",
    "\n",
    "sns.barplot(data = metric_data, x = metric_data['Log_Loss'], y = metric_data.Classifiers)\n",
    "plt.title('Model Log Loss')\n",
    "plt.show()"
   ]
  },
  {
   "cell_type": "markdown",
   "metadata": {},
   "source": [
    "ANN model has the highest log loss of 3.96 following K Neighbors Model has log loss of 0.51. As the model predicted probability diverges more from the true label, the entropy loss increases and greater is the log loss. So, we want lower log loss indicating the prediction of the model is more accurate. From the above graph, we can say that XGBoost Model and Random Forest Model provides better prediction for the subscription of the Bank Term Deposit."
   ]
  }
 ],
 "metadata": {
  "kernelspec": {
   "display_name": "Python 3",
   "language": "python",
   "name": "python3"
  },
  "language_info": {
   "codemirror_mode": {
    "name": "ipython",
    "version": 3
   },
   "file_extension": ".py",
   "mimetype": "text/x-python",
   "name": "python",
   "nbconvert_exporter": "python",
   "pygments_lexer": "ipython3",
   "version": "3.7.10"
  }
 },
 "nbformat": 4,
 "nbformat_minor": 4
}
