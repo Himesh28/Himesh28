{
 "cells": [
  {
   "cell_type": "markdown",
   "metadata": {},
   "source": [
    "#### <a>Objective: To predict the department-wide sales for each Walmart store."
   ]
  },
  {
   "cell_type": "markdown",
   "metadata": {},
   "source": [
    "#### <a>Business Context:\n",
    "\n",
    "The objective is predicting store sales using historical markdown data. One challenge of modeling retail data is the need to make decisions based on limited history. If Christmas comes but once a year, so does the chance to see how strategic decisions impacted the bottom line.\n",
    "\n",
    "#### <a>Data Description\n",
    "\n",
    "We are provided with historical sales data for 45 Walmart stores located in different regions. Each store contains a number of departments, and we are tasked with predicting the department-wide sales for each store.\n",
    "\n",
    "In addition, Walmart runs several promotional markdown events throughout the year. These markdowns precede prominent holidays, the four largest of which are the Super Bowl, Labor Day, Thanksgiving, and Christmas. The weeks including these holidays are weighted five times higher in the evaluation than non-holiday weeks. Part of the problem is modeling the effects of markdowns on these holiday weeks in the absence of complete/ideal historical data.\n",
    "\n",
    "stores.csv\n",
    "\n",
    "This file contains anonymized information about the 45 stores, indicating the type and size of store.\n",
    "\n",
    "train.csv\n",
    "\n",
    "This is the historical training data, which covers to 2010-02-05 to 2012-11-01. Within this file we will find the following fields:\n",
    "\n",
    "    Store - the store number\n",
    "    Dept - the department number\n",
    "    Date - the week\n",
    "    Weekly_Sales -  sales for the given department in the given store\n",
    "    IsHoliday - whether the week is a special holiday week\n",
    "\n",
    "test.csv\n",
    "\n",
    "This file is identical to train.csv, except we have withheld the weekly sales. We must predict the sales for each triplet of store, department, and date in this file.\n",
    "\n",
    "features.csv\n",
    "\n",
    "This file contains additional data related to the store, department, and regional activity for the given dates. It contains the following fields:\n",
    "\n",
    "    Store - the store number\n",
    "    Date - the week\n",
    "    Temperature - average temperature in the region\n",
    "    Fuel_Price - cost of fuel in the region\n",
    "    MarkDown1-5 - anonymized data related to promotional markdowns that Walmart is running. MarkDown data is only available after Nov 2011, and is not available for all stores all the time. Any missing value is marked with an NA.\n",
    "    CPI - the consumer price index\n",
    "    Unemployment - the unemployment rate\n",
    "    IsHoliday - whether the week is a special holiday week\n",
    "\n",
    "For convenience, the four holidays fall within the following weeks in the dataset (not all holidays are in the data):\n",
    "\n",
    "Super Bowl: 12-Feb-10, 11-Feb-11, 10-Feb-12, 8-Feb-13\n",
    "Labor Day: 10-Sep-10, 9-Sep-11, 7-Sep-12, 6-Sep-13\n",
    "Thanksgiving: 26-Nov-10, 25-Nov-11, 23-Nov-12, 29-Nov-13\n",
    "Christmas: 31-Dec-10, 30-Dec-11, 28-Dec-12, 27-Dec-13\n",
    "\n",
    "<b><a>Data Source:</a></b> https://www.kaggle.com/c/walmart-recruiting-store-sales-forecasting/data"
   ]
  },
  {
   "cell_type": "markdown",
   "metadata": {},
   "source": [
    "#### <a>Approach to problem solving:\n",
    "\n",
    "The problem is solved by converting the problem into Regression problem. Weekly_Sales can be considered as dependent(Y) variable and other variables can be considered as independent(X) variables. The important thing is the data preparation."
   ]
  },
  {
   "cell_type": "markdown",
   "metadata": {},
   "source": [
    "#### <a>Importing Modules"
   ]
  },
  {
   "cell_type": "code",
   "execution_count": 1,
   "metadata": {},
   "outputs": [],
   "source": [
    "import numpy as np\n",
    "import pandas as pd\n",
    "from datetime import datetime\n",
    "\n",
    "import matplotlib.pyplot as plt\n",
    "import seaborn as sns\n",
    "%matplotlib inline\n",
    "\n",
    "from pandas_profiling import ProfileReport\n",
    "\n",
    "from sklearn.feature_selection import f_regression, RFE, VarianceThreshold\n",
    "from statsmodels.stats.outliers_influence import variance_inflation_factor\n",
    "from patsy import dmatrices\n",
    "\n",
    "import statsmodels.formula.api as smf\n",
    "\n",
    "from sklearn.preprocessing import StandardScaler, MinMaxScaler, LabelEncoder, RobustScaler\n",
    "from sklearn.model_selection import train_test_split, GridSearchCV\n",
    "from sklearn.ensemble import RandomForestRegressor, ExtraTreesRegressor, GradientBoostingRegressor\n",
    "from sklearn import metrics\n",
    "\n",
    "from scipy import stats\n",
    "import pylab\n",
    "\n",
    "# Ignore warnings\n",
    "import warnings\n",
    "warnings.filterwarnings('ignore')"
   ]
  },
  {
   "cell_type": "code",
   "execution_count": 2,
   "metadata": {},
   "outputs": [],
   "source": [
    "#Writing output data into excel\n",
    "output = pd.ExcelWriter('Walmart_output.xlsx')"
   ]
  },
  {
   "cell_type": "markdown",
   "metadata": {},
   "source": [
    "#### <a>Creating UDFs"
   ]
  },
  {
   "cell_type": "code",
   "execution_count": 3,
   "metadata": {},
   "outputs": [],
   "source": [
    "# Create Statistical Summary for continuous variables\n",
    "def continuous_var_summary(x):\n",
    "    return pd.Series([x.count(), len(x.value_counts()), x.isnull().sum(), x.sum(), x.mean(), x.median(),  \n",
    "                      x.std(), x.var(), x.min(), x.quantile(0.01), x.quantile(0.50),\n",
    "                      x.quantile(0.99), x.max()], \n",
    "                      index = ['Count', 'Unique', 'NMISS', 'SUM', 'MEAN','MEDIAN', 'STD', 'VAR', 'MIN',\n",
    "                               'P1', 'P50', 'P99', 'MAX'])"
   ]
  },
  {
   "cell_type": "code",
   "execution_count": 4,
   "metadata": {},
   "outputs": [],
   "source": [
    "# Create Statistical Summary for categorical variables\n",
    "def categorical_var_summary(a):\n",
    "    Mode = a.value_counts().sort_values(ascending = False)[0:1].reset_index()\n",
    "    return pd.Series([a.count(), a.isnull().sum(), len(a.value_counts()), Mode.iloc[0, 0], Mode.iloc[0, 1], \n",
    "                      round(((Mode.iloc[0, 1] * 100)/a.count()), 2)], \n",
    "                      index = ['COUNT', 'MISS', 'UNIQUE', 'MODE', 'FREQ', 'PERCENT'])"
   ]
  },
  {
   "cell_type": "code",
   "execution_count": 5,
   "metadata": {},
   "outputs": [],
   "source": [
    "#Outlier treatment function\n",
    "def outlier_capping(x):\n",
    "    x = x.clip(lower = x.quantile(0.01),upper = x.quantile(0.99))\n",
    "    return x"
   ]
  },
  {
   "cell_type": "code",
   "execution_count": 6,
   "metadata": {},
   "outputs": [],
   "source": [
    "# Downcast function for int and float to save memory\n",
    "def downcast(df):\n",
    "    cols = df.dtypes.index.tolist()\n",
    "    types = df.dtypes.values.tolist()\n",
    "    \n",
    "    for i,j in enumerate(types):\n",
    "        if 'int' in str(j):\n",
    "            if (df[cols[i]].min()>np.iinfo('int8').min) and (df[cols[i]].max()<np.iinfo('int8').max):\n",
    "                df[cols[i]] = df[cols[i]].astype('int8')\n",
    "                \n",
    "            elif (df[cols[i]].min()>np.iinfo('int16').min) and (df[cols[i]].max()<np.iinfo('int16').max):\n",
    "                df[cols[i]] = df[cols[i]].astype('int16')\n",
    "                \n",
    "            elif (df[cols[i]].min()>np.iinfo('int32').min) and (df[cols[i]].max()<np.iinfo('int32').max):\n",
    "                df[cols[i]] = df[cols[i]].astype('int32')\n",
    "                \n",
    "            else: df[cols[i]] = df[cols[i]].astype('int64')\n",
    "                \n",
    "        elif 'float' in str(j):\n",
    "            if (df[cols[i]].min()>np.finfo('float16').min) and (df[cols[i]].max()<np.finfo('float16').max):\n",
    "                df[cols[i]] = df[cols[i]].astype('float16')\n",
    "                \n",
    "            elif (df[cols[i]].min()>np.finfo('float32').min) and (df[cols[i]].max()<np.finfo('float32').max):\n",
    "                df[cols[i]] = df[cols[i]].astype('float32')\n",
    "                \n",
    "            else: df[cols[i]] = df[cols[i]].astype('float64')\n",
    "    return df                 "
   ]
  },
  {
   "cell_type": "markdown",
   "metadata": {},
   "source": [
    "#### <a>Loading Dataset"
   ]
  },
  {
   "cell_type": "code",
   "execution_count": 7,
   "metadata": {},
   "outputs": [],
   "source": [
    "train_df = pd.read_csv('train.csv')\n",
    "test_df = pd.read_csv('test.csv')\n",
    "stores = pd.read_csv('stores.csv')\n",
    "features = pd.read_csv('features.csv')"
   ]
  },
  {
   "cell_type": "markdown",
   "metadata": {},
   "source": [
    "#### <a>Understanding Data"
   ]
  },
  {
   "cell_type": "code",
   "execution_count": 8,
   "metadata": {},
   "outputs": [],
   "source": [
    "#Merging Datasets\n",
    "t1 = train_df.merge(features, on = ['Store', 'Date', 'IsHoliday'])\n",
    "train = t1.merge(stores, on = 'Store')\n",
    "\n",
    "#Downcasting train dataset\n",
    "#train = downcast(train)\n",
    "\n",
    "t2 = test_df.merge(features, on = ['Store', 'Date', 'IsHoliday'])\n",
    "test= t2.merge(stores, on = 'Store')\n",
    "\n",
    "#Downcasting test dataset\n",
    "#test = downcast(test)"
   ]
  },
  {
   "cell_type": "code",
   "execution_count": 9,
   "metadata": {},
   "outputs": [
    {
     "data": {
      "text/html": [
       "<div>\n",
       "<style scoped>\n",
       "    .dataframe tbody tr th:only-of-type {\n",
       "        vertical-align: middle;\n",
       "    }\n",
       "\n",
       "    .dataframe tbody tr th {\n",
       "        vertical-align: top;\n",
       "    }\n",
       "\n",
       "    .dataframe thead th {\n",
       "        text-align: right;\n",
       "    }\n",
       "</style>\n",
       "<table border=\"1\" class=\"dataframe\">\n",
       "  <thead>\n",
       "    <tr style=\"text-align: right;\">\n",
       "      <th></th>\n",
       "      <th>Store</th>\n",
       "      <th>Dept</th>\n",
       "      <th>Date</th>\n",
       "      <th>Weekly_Sales</th>\n",
       "      <th>IsHoliday</th>\n",
       "      <th>Temperature</th>\n",
       "      <th>Fuel_Price</th>\n",
       "      <th>MarkDown1</th>\n",
       "      <th>MarkDown2</th>\n",
       "      <th>MarkDown3</th>\n",
       "      <th>MarkDown4</th>\n",
       "      <th>MarkDown5</th>\n",
       "      <th>CPI</th>\n",
       "      <th>Unemployment</th>\n",
       "      <th>Type</th>\n",
       "      <th>Size</th>\n",
       "    </tr>\n",
       "  </thead>\n",
       "  <tbody>\n",
       "    <tr>\n",
       "      <th>0</th>\n",
       "      <td>1</td>\n",
       "      <td>1</td>\n",
       "      <td>2010-02-05</td>\n",
       "      <td>24924.50</td>\n",
       "      <td>False</td>\n",
       "      <td>42.31</td>\n",
       "      <td>2.572</td>\n",
       "      <td>NaN</td>\n",
       "      <td>NaN</td>\n",
       "      <td>NaN</td>\n",
       "      <td>NaN</td>\n",
       "      <td>NaN</td>\n",
       "      <td>211.096358</td>\n",
       "      <td>8.106</td>\n",
       "      <td>A</td>\n",
       "      <td>151315</td>\n",
       "    </tr>\n",
       "    <tr>\n",
       "      <th>1</th>\n",
       "      <td>1</td>\n",
       "      <td>2</td>\n",
       "      <td>2010-02-05</td>\n",
       "      <td>50605.27</td>\n",
       "      <td>False</td>\n",
       "      <td>42.31</td>\n",
       "      <td>2.572</td>\n",
       "      <td>NaN</td>\n",
       "      <td>NaN</td>\n",
       "      <td>NaN</td>\n",
       "      <td>NaN</td>\n",
       "      <td>NaN</td>\n",
       "      <td>211.096358</td>\n",
       "      <td>8.106</td>\n",
       "      <td>A</td>\n",
       "      <td>151315</td>\n",
       "    </tr>\n",
       "    <tr>\n",
       "      <th>2</th>\n",
       "      <td>1</td>\n",
       "      <td>3</td>\n",
       "      <td>2010-02-05</td>\n",
       "      <td>13740.12</td>\n",
       "      <td>False</td>\n",
       "      <td>42.31</td>\n",
       "      <td>2.572</td>\n",
       "      <td>NaN</td>\n",
       "      <td>NaN</td>\n",
       "      <td>NaN</td>\n",
       "      <td>NaN</td>\n",
       "      <td>NaN</td>\n",
       "      <td>211.096358</td>\n",
       "      <td>8.106</td>\n",
       "      <td>A</td>\n",
       "      <td>151315</td>\n",
       "    </tr>\n",
       "    <tr>\n",
       "      <th>3</th>\n",
       "      <td>1</td>\n",
       "      <td>4</td>\n",
       "      <td>2010-02-05</td>\n",
       "      <td>39954.04</td>\n",
       "      <td>False</td>\n",
       "      <td>42.31</td>\n",
       "      <td>2.572</td>\n",
       "      <td>NaN</td>\n",
       "      <td>NaN</td>\n",
       "      <td>NaN</td>\n",
       "      <td>NaN</td>\n",
       "      <td>NaN</td>\n",
       "      <td>211.096358</td>\n",
       "      <td>8.106</td>\n",
       "      <td>A</td>\n",
       "      <td>151315</td>\n",
       "    </tr>\n",
       "    <tr>\n",
       "      <th>4</th>\n",
       "      <td>1</td>\n",
       "      <td>5</td>\n",
       "      <td>2010-02-05</td>\n",
       "      <td>32229.38</td>\n",
       "      <td>False</td>\n",
       "      <td>42.31</td>\n",
       "      <td>2.572</td>\n",
       "      <td>NaN</td>\n",
       "      <td>NaN</td>\n",
       "      <td>NaN</td>\n",
       "      <td>NaN</td>\n",
       "      <td>NaN</td>\n",
       "      <td>211.096358</td>\n",
       "      <td>8.106</td>\n",
       "      <td>A</td>\n",
       "      <td>151315</td>\n",
       "    </tr>\n",
       "  </tbody>\n",
       "</table>\n",
       "</div>"
      ],
      "text/plain": [
       "   Store  Dept        Date  Weekly_Sales  IsHoliday  Temperature  Fuel_Price  \\\n",
       "0      1     1  2010-02-05      24924.50      False        42.31       2.572   \n",
       "1      1     2  2010-02-05      50605.27      False        42.31       2.572   \n",
       "2      1     3  2010-02-05      13740.12      False        42.31       2.572   \n",
       "3      1     4  2010-02-05      39954.04      False        42.31       2.572   \n",
       "4      1     5  2010-02-05      32229.38      False        42.31       2.572   \n",
       "\n",
       "   MarkDown1  MarkDown2  MarkDown3  MarkDown4  MarkDown5         CPI  \\\n",
       "0        NaN        NaN        NaN        NaN        NaN  211.096358   \n",
       "1        NaN        NaN        NaN        NaN        NaN  211.096358   \n",
       "2        NaN        NaN        NaN        NaN        NaN  211.096358   \n",
       "3        NaN        NaN        NaN        NaN        NaN  211.096358   \n",
       "4        NaN        NaN        NaN        NaN        NaN  211.096358   \n",
       "\n",
       "   Unemployment Type    Size  \n",
       "0         8.106    A  151315  \n",
       "1         8.106    A  151315  \n",
       "2         8.106    A  151315  \n",
       "3         8.106    A  151315  \n",
       "4         8.106    A  151315  "
      ]
     },
     "execution_count": 9,
     "metadata": {},
     "output_type": "execute_result"
    }
   ],
   "source": [
    "#View of the Data\n",
    "train.head()"
   ]
  },
  {
   "cell_type": "code",
   "execution_count": 10,
   "metadata": {},
   "outputs": [
    {
     "name": "stdout",
     "output_type": "stream",
     "text": [
      "<class 'pandas.core.frame.DataFrame'>\n",
      "Int64Index: 421570 entries, 0 to 421569\n",
      "Data columns (total 16 columns):\n",
      " #   Column        Non-Null Count   Dtype  \n",
      "---  ------        --------------   -----  \n",
      " 0   Store         421570 non-null  int64  \n",
      " 1   Dept          421570 non-null  int64  \n",
      " 2   Date          421570 non-null  object \n",
      " 3   Weekly_Sales  421570 non-null  float64\n",
      " 4   IsHoliday     421570 non-null  bool   \n",
      " 5   Temperature   421570 non-null  float64\n",
      " 6   Fuel_Price    421570 non-null  float64\n",
      " 7   MarkDown1     150681 non-null  float64\n",
      " 8   MarkDown2     111248 non-null  float64\n",
      " 9   MarkDown3     137091 non-null  float64\n",
      " 10  MarkDown4     134967 non-null  float64\n",
      " 11  MarkDown5     151432 non-null  float64\n",
      " 12  CPI           421570 non-null  float64\n",
      " 13  Unemployment  421570 non-null  float64\n",
      " 14  Type          421570 non-null  object \n",
      " 15  Size          421570 non-null  int64  \n",
      "dtypes: bool(1), float64(10), int64(3), object(2)\n",
      "memory usage: 51.9+ MB\n"
     ]
    }
   ],
   "source": [
    "#Data Information\n",
    "train.info()"
   ]
  },
  {
   "cell_type": "code",
   "execution_count": 11,
   "metadata": {},
   "outputs": [
    {
     "data": {
      "text/html": [
       "<div>\n",
       "<style scoped>\n",
       "    .dataframe tbody tr th:only-of-type {\n",
       "        vertical-align: middle;\n",
       "    }\n",
       "\n",
       "    .dataframe tbody tr th {\n",
       "        vertical-align: top;\n",
       "    }\n",
       "\n",
       "    .dataframe thead th {\n",
       "        text-align: right;\n",
       "    }\n",
       "</style>\n",
       "<table border=\"1\" class=\"dataframe\">\n",
       "  <thead>\n",
       "    <tr style=\"text-align: right;\">\n",
       "      <th></th>\n",
       "      <th>Store</th>\n",
       "      <th>Dept</th>\n",
       "      <th>Date</th>\n",
       "      <th>IsHoliday</th>\n",
       "      <th>Temperature</th>\n",
       "      <th>Fuel_Price</th>\n",
       "      <th>MarkDown1</th>\n",
       "      <th>MarkDown2</th>\n",
       "      <th>MarkDown3</th>\n",
       "      <th>MarkDown4</th>\n",
       "      <th>MarkDown5</th>\n",
       "      <th>CPI</th>\n",
       "      <th>Unemployment</th>\n",
       "      <th>Type</th>\n",
       "      <th>Size</th>\n",
       "    </tr>\n",
       "  </thead>\n",
       "  <tbody>\n",
       "    <tr>\n",
       "      <th>0</th>\n",
       "      <td>1</td>\n",
       "      <td>1</td>\n",
       "      <td>2012-11-02</td>\n",
       "      <td>False</td>\n",
       "      <td>55.32</td>\n",
       "      <td>3.386</td>\n",
       "      <td>6766.44</td>\n",
       "      <td>5147.7</td>\n",
       "      <td>50.82</td>\n",
       "      <td>3639.9</td>\n",
       "      <td>2737.42</td>\n",
       "      <td>223.462779</td>\n",
       "      <td>6.573</td>\n",
       "      <td>A</td>\n",
       "      <td>151315</td>\n",
       "    </tr>\n",
       "    <tr>\n",
       "      <th>1</th>\n",
       "      <td>1</td>\n",
       "      <td>2</td>\n",
       "      <td>2012-11-02</td>\n",
       "      <td>False</td>\n",
       "      <td>55.32</td>\n",
       "      <td>3.386</td>\n",
       "      <td>6766.44</td>\n",
       "      <td>5147.7</td>\n",
       "      <td>50.82</td>\n",
       "      <td>3639.9</td>\n",
       "      <td>2737.42</td>\n",
       "      <td>223.462779</td>\n",
       "      <td>6.573</td>\n",
       "      <td>A</td>\n",
       "      <td>151315</td>\n",
       "    </tr>\n",
       "    <tr>\n",
       "      <th>2</th>\n",
       "      <td>1</td>\n",
       "      <td>3</td>\n",
       "      <td>2012-11-02</td>\n",
       "      <td>False</td>\n",
       "      <td>55.32</td>\n",
       "      <td>3.386</td>\n",
       "      <td>6766.44</td>\n",
       "      <td>5147.7</td>\n",
       "      <td>50.82</td>\n",
       "      <td>3639.9</td>\n",
       "      <td>2737.42</td>\n",
       "      <td>223.462779</td>\n",
       "      <td>6.573</td>\n",
       "      <td>A</td>\n",
       "      <td>151315</td>\n",
       "    </tr>\n",
       "    <tr>\n",
       "      <th>3</th>\n",
       "      <td>1</td>\n",
       "      <td>4</td>\n",
       "      <td>2012-11-02</td>\n",
       "      <td>False</td>\n",
       "      <td>55.32</td>\n",
       "      <td>3.386</td>\n",
       "      <td>6766.44</td>\n",
       "      <td>5147.7</td>\n",
       "      <td>50.82</td>\n",
       "      <td>3639.9</td>\n",
       "      <td>2737.42</td>\n",
       "      <td>223.462779</td>\n",
       "      <td>6.573</td>\n",
       "      <td>A</td>\n",
       "      <td>151315</td>\n",
       "    </tr>\n",
       "    <tr>\n",
       "      <th>4</th>\n",
       "      <td>1</td>\n",
       "      <td>5</td>\n",
       "      <td>2012-11-02</td>\n",
       "      <td>False</td>\n",
       "      <td>55.32</td>\n",
       "      <td>3.386</td>\n",
       "      <td>6766.44</td>\n",
       "      <td>5147.7</td>\n",
       "      <td>50.82</td>\n",
       "      <td>3639.9</td>\n",
       "      <td>2737.42</td>\n",
       "      <td>223.462779</td>\n",
       "      <td>6.573</td>\n",
       "      <td>A</td>\n",
       "      <td>151315</td>\n",
       "    </tr>\n",
       "  </tbody>\n",
       "</table>\n",
       "</div>"
      ],
      "text/plain": [
       "   Store  Dept        Date  IsHoliday  Temperature  Fuel_Price  MarkDown1  \\\n",
       "0      1     1  2012-11-02      False        55.32       3.386    6766.44   \n",
       "1      1     2  2012-11-02      False        55.32       3.386    6766.44   \n",
       "2      1     3  2012-11-02      False        55.32       3.386    6766.44   \n",
       "3      1     4  2012-11-02      False        55.32       3.386    6766.44   \n",
       "4      1     5  2012-11-02      False        55.32       3.386    6766.44   \n",
       "\n",
       "   MarkDown2  MarkDown3  MarkDown4  MarkDown5         CPI  Unemployment Type  \\\n",
       "0     5147.7      50.82     3639.9    2737.42  223.462779         6.573    A   \n",
       "1     5147.7      50.82     3639.9    2737.42  223.462779         6.573    A   \n",
       "2     5147.7      50.82     3639.9    2737.42  223.462779         6.573    A   \n",
       "3     5147.7      50.82     3639.9    2737.42  223.462779         6.573    A   \n",
       "4     5147.7      50.82     3639.9    2737.42  223.462779         6.573    A   \n",
       "\n",
       "     Size  \n",
       "0  151315  \n",
       "1  151315  \n",
       "2  151315  \n",
       "3  151315  \n",
       "4  151315  "
      ]
     },
     "execution_count": 11,
     "metadata": {},
     "output_type": "execute_result"
    }
   ],
   "source": [
    "#View of the Data\n",
    "test.head()"
   ]
  },
  {
   "cell_type": "code",
   "execution_count": 12,
   "metadata": {},
   "outputs": [
    {
     "name": "stdout",
     "output_type": "stream",
     "text": [
      "<class 'pandas.core.frame.DataFrame'>\n",
      "Int64Index: 115064 entries, 0 to 115063\n",
      "Data columns (total 15 columns):\n",
      " #   Column        Non-Null Count   Dtype  \n",
      "---  ------        --------------   -----  \n",
      " 0   Store         115064 non-null  int64  \n",
      " 1   Dept          115064 non-null  int64  \n",
      " 2   Date          115064 non-null  object \n",
      " 3   IsHoliday     115064 non-null  bool   \n",
      " 4   Temperature   115064 non-null  float64\n",
      " 5   Fuel_Price    115064 non-null  float64\n",
      " 6   MarkDown1     114915 non-null  float64\n",
      " 7   MarkDown2     86437 non-null   float64\n",
      " 8   MarkDown3     105235 non-null  float64\n",
      " 9   MarkDown4     102176 non-null  float64\n",
      " 10  MarkDown5     115064 non-null  float64\n",
      " 11  CPI           76902 non-null   float64\n",
      " 12  Unemployment  76902 non-null   float64\n",
      " 13  Type          115064 non-null  object \n",
      " 14  Size          115064 non-null  int64  \n",
      "dtypes: bool(1), float64(9), int64(3), object(2)\n",
      "memory usage: 13.3+ MB\n"
     ]
    }
   ],
   "source": [
    "#Data Information\n",
    "test.info()"
   ]
  },
  {
   "cell_type": "code",
   "execution_count": 13,
   "metadata": {},
   "outputs": [],
   "source": [
    "#Changing Date column to DateTime type\n",
    "train['Date'] = pd.to_datetime(train['Date'], format = '%Y-%m-%d')\n",
    "test['Date'] = pd.to_datetime(test['Date'], format = '%Y-%m-%d')"
   ]
  },
  {
   "cell_type": "code",
   "execution_count": 14,
   "metadata": {},
   "outputs": [],
   "source": [
    "#Extracting Date Features\n",
    "train['Year'] = train['Date'].dt.year\n",
    "train['Month'] = train['Date'].dt.month\n",
    "train['Week'] = train['Date'].dt.week\n",
    "train['Day'] = train['Date'].dt.day\n",
    "\n",
    "test['Year'] = test['Date'].dt.year\n",
    "test['Month'] = test['Date'].dt.month\n",
    "test['Week'] = test['Date'].dt.week\n",
    "test['Day'] = test['Date'].dt.day"
   ]
  },
  {
   "cell_type": "markdown",
   "metadata": {},
   "source": [
    "#### <a>Exploratory Data Analysis"
   ]
  },
  {
   "cell_type": "code",
   "execution_count": 15,
   "metadata": {},
   "outputs": [
    {
     "data": {
      "image/png": "[encoded data removed]",
      "text/plain": [
       "<Figure size 864x1728 with 4 Axes>"
      ]
     },
     "metadata": {
      "needs_background": "light"
     },
     "output_type": "display_data"
    }
   ],
   "source": [
    "#Visualizing Weekly Sales across different categorical features\n",
    "plt_cols = ['Store', 'Dept', 'IsHoliday', 'Type']\n",
    "\n",
    "plt.figure(figsize = (12,24))\n",
    "for i, col in enumerate(plt_cols):\n",
    "    plt.subplot(4, 1, i+1)\n",
    "    plt.subplots_adjust(hspace = 1, wspace = .5)\n",
    "    sns.barplot(x = train[col], y = train.Weekly_Sales)\n",
    "    plt.xticks(rotation = 90)\n",
    "    plt.tight_layout()"
   ]
  },
  {
   "cell_type": "markdown",
   "metadata": {},
   "source": [
    "Observations:\n",
    "\n",
    "- Store 20 has the highest Sales and Store 5 has the lowest sales\n",
    "- Department 92 has the highest sales, followed by 95 and 38\n",
    "- There is high Sales on Holidays\n",
    "- Type A Stores have very high sales compared to Type B and C Stores"
   ]
  },
  {
   "cell_type": "code",
   "execution_count": 16,
   "metadata": {},
   "outputs": [
    {
     "data": {
      "image/png": "[encoded data removed]",
      "text/plain": [
       "<Figure size 864x1152 with 9 Axes>"
      ]
     },
     "metadata": {
      "needs_background": "light"
     },
     "output_type": "display_data"
    }
   ],
   "source": [
    "#Visualizing Weekly Sales across different continuous features\n",
    "plt_cols = ['Temperature','Fuel_Price','MarkDown1','MarkDown2','MarkDown3',\n",
    "            'MarkDown4','MarkDown5','CPI','Unemployment']\n",
    "\n",
    "plt.figure(figsize = (12,16))\n",
    "for i, col in enumerate(plt_cols):\n",
    "    plt.subplot(5, 2, i+1)\n",
    "    plt.subplots_adjust(hspace = 1, wspace = .5)\n",
    "    sns.scatterplot(x = train[col], y = train.Weekly_Sales)\n",
    "    plt.tight_layout() "
   ]
  },
  {
   "cell_type": "code",
   "execution_count": 17,
   "metadata": {},
   "outputs": [
    {
     "data": {
      "image/png": "[encoded data removed]",
      "text/plain": [
       "<Figure size 864x432 with 4 Axes>"
      ]
     },
     "metadata": {
      "needs_background": "light"
     },
     "output_type": "display_data"
    }
   ],
   "source": [
    "#Visualizing Weekly Sales across different date features\n",
    "plt_cols = ['Year', 'Month', 'Week', 'Day']\n",
    "\n",
    "plt.figure(figsize = (12,6))\n",
    "for i, col in enumerate(plt_cols):\n",
    "    plt.subplot(2, 2, i+1)\n",
    "    plt.subplots_adjust(hspace = 1, wspace = .5)\n",
    "    sns.barplot(x = train[col], y = train.Weekly_Sales)\n",
    "    plt.xticks(rotation = 90)\n",
    "    plt.tight_layout() "
   ]
  },
  {
   "cell_type": "markdown",
   "metadata": {},
   "source": [
    "Observations:\n",
    "\n",
    "- Weekly Sales was high in Year 2010\n",
    "- Weekly Sales are high in November and December\n",
    "- Weekly Sales are 51 and 47 Week\n",
    "- Weekly Sales are low during the end of the of the month"
   ]
  },
  {
   "cell_type": "markdown",
   "metadata": {},
   "source": [
    "#### <a>Statistical Summary"
   ]
  },
  {
   "cell_type": "code",
   "execution_count": 18,
   "metadata": {},
   "outputs": [],
   "source": [
    "#Getting Categorical and continuous variables\n",
    "cat_cols = ['Store','Dept','IsHoliday','Type','Year','Month','Week','Day']\n",
    "cont_cols = ['Weekly_Sales','Temperature','Fuel_Price','CPI','Unemployment','Size','MarkDown1','MarkDown2','MarkDown3',\n",
    "             'MarkDown4','MarkDown5']"
   ]
  },
  {
   "cell_type": "code",
   "execution_count": 19,
   "metadata": {},
   "outputs": [
    {
     "data": {
      "text/html": [
       "<div>\n",
       "<style scoped>\n",
       "    .dataframe tbody tr th:only-of-type {\n",
       "        vertical-align: middle;\n",
       "    }\n",
       "\n",
       "    .dataframe tbody tr th {\n",
       "        vertical-align: top;\n",
       "    }\n",
       "\n",
       "    .dataframe thead th {\n",
       "        text-align: right;\n",
       "    }\n",
       "</style>\n",
       "<table border=\"1\" class=\"dataframe\">\n",
       "  <thead>\n",
       "    <tr style=\"text-align: right;\">\n",
       "      <th></th>\n",
       "      <th>Store</th>\n",
       "      <th>Dept</th>\n",
       "      <th>IsHoliday</th>\n",
       "      <th>Type</th>\n",
       "      <th>Year</th>\n",
       "      <th>Month</th>\n",
       "      <th>Week</th>\n",
       "      <th>Day</th>\n",
       "    </tr>\n",
       "  </thead>\n",
       "  <tbody>\n",
       "    <tr>\n",
       "      <th>COUNT</th>\n",
       "      <td>421570.00</td>\n",
       "      <td>421570.00</td>\n",
       "      <td>421570</td>\n",
       "      <td>421570</td>\n",
       "      <td>421570.0</td>\n",
       "      <td>421570.0</td>\n",
       "      <td>421570.00</td>\n",
       "      <td>421570.00</td>\n",
       "    </tr>\n",
       "    <tr>\n",
       "      <th>MISS</th>\n",
       "      <td>0.00</td>\n",
       "      <td>0.00</td>\n",
       "      <td>0</td>\n",
       "      <td>0</td>\n",
       "      <td>0.0</td>\n",
       "      <td>0.0</td>\n",
       "      <td>0.00</td>\n",
       "      <td>0.00</td>\n",
       "    </tr>\n",
       "    <tr>\n",
       "      <th>UNIQUE</th>\n",
       "      <td>45.00</td>\n",
       "      <td>81.00</td>\n",
       "      <td>2</td>\n",
       "      <td>3</td>\n",
       "      <td>3.0</td>\n",
       "      <td>12.0</td>\n",
       "      <td>52.00</td>\n",
       "      <td>31.00</td>\n",
       "    </tr>\n",
       "    <tr>\n",
       "      <th>MODE</th>\n",
       "      <td>13.00</td>\n",
       "      <td>1.00</td>\n",
       "      <td>False</td>\n",
       "      <td>A</td>\n",
       "      <td>2011.0</td>\n",
       "      <td>4.0</td>\n",
       "      <td>7.00</td>\n",
       "      <td>23.00</td>\n",
       "    </tr>\n",
       "    <tr>\n",
       "      <th>FREQ</th>\n",
       "      <td>10474.00</td>\n",
       "      <td>6435.00</td>\n",
       "      <td>391909</td>\n",
       "      <td>215478</td>\n",
       "      <td>153453.0</td>\n",
       "      <td>41332.0</td>\n",
       "      <td>8929.00</td>\n",
       "      <td>14801.00</td>\n",
       "    </tr>\n",
       "    <tr>\n",
       "      <th>PERCENT</th>\n",
       "      <td>2.48</td>\n",
       "      <td>1.53</td>\n",
       "      <td>92.96</td>\n",
       "      <td>51.11</td>\n",
       "      <td>36.4</td>\n",
       "      <td>9.8</td>\n",
       "      <td>2.12</td>\n",
       "      <td>3.51</td>\n",
       "    </tr>\n",
       "  </tbody>\n",
       "</table>\n",
       "</div>"
      ],
      "text/plain": [
       "             Store       Dept IsHoliday    Type      Year     Month  \\\n",
       "COUNT    421570.00  421570.00    421570  421570  421570.0  421570.0   \n",
       "MISS          0.00       0.00         0       0       0.0       0.0   \n",
       "UNIQUE       45.00      81.00         2       3       3.0      12.0   \n",
       "MODE         13.00       1.00     False       A    2011.0       4.0   \n",
       "FREQ      10474.00    6435.00    391909  215478  153453.0   41332.0   \n",
       "PERCENT       2.48       1.53     92.96   51.11      36.4       9.8   \n",
       "\n",
       "              Week        Day  \n",
       "COUNT    421570.00  421570.00  \n",
       "MISS          0.00       0.00  \n",
       "UNIQUE       52.00      31.00  \n",
       "MODE          7.00      23.00  \n",
       "FREQ       8929.00   14801.00  \n",
       "PERCENT       2.12       3.51  "
      ]
     },
     "execution_count": 19,
     "metadata": {},
     "output_type": "execute_result"
    }
   ],
   "source": [
    "#Summary of train Categorical Variables\n",
    "cat_summary = train[cat_cols].apply(categorical_var_summary)\n",
    "cat_summary.to_excel(output, 'Train Statistical Summary', startrow = 3)\n",
    "cat_summary"
   ]
  },
  {
   "cell_type": "code",
   "execution_count": 20,
   "metadata": {
    "scrolled": false
   },
   "outputs": [
    {
     "data": {
      "text/html": [
       "<div>\n",
       "<style scoped>\n",
       "    .dataframe tbody tr th:only-of-type {\n",
       "        vertical-align: middle;\n",
       "    }\n",
       "\n",
       "    .dataframe tbody tr th {\n",
       "        vertical-align: top;\n",
       "    }\n",
       "\n",
       "    .dataframe thead th {\n",
       "        text-align: right;\n",
       "    }\n",
       "</style>\n",
       "<table border=\"1\" class=\"dataframe\">\n",
       "  <thead>\n",
       "    <tr style=\"text-align: right;\">\n",
       "      <th></th>\n",
       "      <th>Weekly_Sales</th>\n",
       "      <th>Temperature</th>\n",
       "      <th>Fuel_Price</th>\n",
       "      <th>CPI</th>\n",
       "      <th>Unemployment</th>\n",
       "      <th>Size</th>\n",
       "      <th>MarkDown1</th>\n",
       "      <th>MarkDown2</th>\n",
       "      <th>MarkDown3</th>\n",
       "      <th>MarkDown4</th>\n",
       "      <th>MarkDown5</th>\n",
       "    </tr>\n",
       "  </thead>\n",
       "  <tbody>\n",
       "    <tr>\n",
       "      <th>Count</th>\n",
       "      <td>4.215700e+05</td>\n",
       "      <td>4.215700e+05</td>\n",
       "      <td>4.215700e+05</td>\n",
       "      <td>4.215700e+05</td>\n",
       "      <td>4.215700e+05</td>\n",
       "      <td>4.215700e+05</td>\n",
       "      <td>1.506810e+05</td>\n",
       "      <td>1.112480e+05</td>\n",
       "      <td>1.370910e+05</td>\n",
       "      <td>1.349670e+05</td>\n",
       "      <td>1.514320e+05</td>\n",
       "    </tr>\n",
       "    <tr>\n",
       "      <th>Unique</th>\n",
       "      <td>3.594640e+05</td>\n",
       "      <td>3.528000e+03</td>\n",
       "      <td>8.920000e+02</td>\n",
       "      <td>2.145000e+03</td>\n",
       "      <td>3.490000e+02</td>\n",
       "      <td>4.000000e+01</td>\n",
       "      <td>2.277000e+03</td>\n",
       "      <td>1.499000e+03</td>\n",
       "      <td>1.662000e+03</td>\n",
       "      <td>1.944000e+03</td>\n",
       "      <td>2.293000e+03</td>\n",
       "    </tr>\n",
       "    <tr>\n",
       "      <th>NMISS</th>\n",
       "      <td>0.000000e+00</td>\n",
       "      <td>0.000000e+00</td>\n",
       "      <td>0.000000e+00</td>\n",
       "      <td>0.000000e+00</td>\n",
       "      <td>0.000000e+00</td>\n",
       "      <td>0.000000e+00</td>\n",
       "      <td>2.708890e+05</td>\n",
       "      <td>3.103220e+05</td>\n",
       "      <td>2.844790e+05</td>\n",
       "      <td>2.866030e+05</td>\n",
       "      <td>2.701380e+05</td>\n",
       "    </tr>\n",
       "    <tr>\n",
       "      <th>SUM</th>\n",
       "      <td>6.737219e+09</td>\n",
       "      <td>2.533217e+07</td>\n",
       "      <td>1.416908e+06</td>\n",
       "      <td>7.217360e+07</td>\n",
       "      <td>3.355819e+06</td>\n",
       "      <td>5.764039e+10</td>\n",
       "      <td>1.091898e+09</td>\n",
       "      <td>3.709708e+08</td>\n",
       "      <td>1.973317e+08</td>\n",
       "      <td>4.566161e+08</td>\n",
       "      <td>7.009750e+08</td>\n",
       "    </tr>\n",
       "    <tr>\n",
       "      <th>MEAN</th>\n",
       "      <td>1.598126e+04</td>\n",
       "      <td>6.009006e+01</td>\n",
       "      <td>3.361027e+00</td>\n",
       "      <td>1.712019e+02</td>\n",
       "      <td>7.960289e+00</td>\n",
       "      <td>1.367279e+05</td>\n",
       "      <td>7.246420e+03</td>\n",
       "      <td>3.334629e+03</td>\n",
       "      <td>1.439421e+03</td>\n",
       "      <td>3.383168e+03</td>\n",
       "      <td>4.628975e+03</td>\n",
       "    </tr>\n",
       "    <tr>\n",
       "      <th>MEDIAN</th>\n",
       "      <td>7.612030e+03</td>\n",
       "      <td>6.209000e+01</td>\n",
       "      <td>3.452000e+00</td>\n",
       "      <td>1.823188e+02</td>\n",
       "      <td>7.866000e+00</td>\n",
       "      <td>1.401670e+05</td>\n",
       "      <td>5.347450e+03</td>\n",
       "      <td>1.920000e+02</td>\n",
       "      <td>2.460000e+01</td>\n",
       "      <td>1.481310e+03</td>\n",
       "      <td>3.359450e+03</td>\n",
       "    </tr>\n",
       "    <tr>\n",
       "      <th>STD</th>\n",
       "      <td>2.271118e+04</td>\n",
       "      <td>1.844793e+01</td>\n",
       "      <td>4.585145e-01</td>\n",
       "      <td>3.915928e+01</td>\n",
       "      <td>1.863296e+00</td>\n",
       "      <td>6.098058e+04</td>\n",
       "      <td>8.291221e+03</td>\n",
       "      <td>9.475357e+03</td>\n",
       "      <td>9.623078e+03</td>\n",
       "      <td>6.292384e+03</td>\n",
       "      <td>5.962887e+03</td>\n",
       "    </tr>\n",
       "    <tr>\n",
       "      <th>VAR</th>\n",
       "      <td>5.157979e+08</td>\n",
       "      <td>3.403262e+02</td>\n",
       "      <td>2.102356e-01</td>\n",
       "      <td>1.533449e+03</td>\n",
       "      <td>3.471872e+00</td>\n",
       "      <td>3.718632e+09</td>\n",
       "      <td>6.874435e+07</td>\n",
       "      <td>8.978240e+07</td>\n",
       "      <td>9.260364e+07</td>\n",
       "      <td>3.959410e+07</td>\n",
       "      <td>3.555603e+07</td>\n",
       "    </tr>\n",
       "    <tr>\n",
       "      <th>MIN</th>\n",
       "      <td>-4.988940e+03</td>\n",
       "      <td>-2.060000e+00</td>\n",
       "      <td>2.472000e+00</td>\n",
       "      <td>1.260640e+02</td>\n",
       "      <td>3.879000e+00</td>\n",
       "      <td>3.487500e+04</td>\n",
       "      <td>2.700000e-01</td>\n",
       "      <td>-2.657600e+02</td>\n",
       "      <td>-2.910000e+01</td>\n",
       "      <td>2.200000e-01</td>\n",
       "      <td>1.351600e+02</td>\n",
       "    </tr>\n",
       "    <tr>\n",
       "      <th>P1</th>\n",
       "      <td>5.000000e+00</td>\n",
       "      <td>1.830000e+01</td>\n",
       "      <td>2.565000e+00</td>\n",
       "      <td>1.261119e+02</td>\n",
       "      <td>4.156000e+00</td>\n",
       "      <td>3.487500e+04</td>\n",
       "      <td>1.776000e+01</td>\n",
       "      <td>-9.900000e-01</td>\n",
       "      <td>6.000000e-02</td>\n",
       "      <td>3.970000e+00</td>\n",
       "      <td>3.519700e+02</td>\n",
       "    </tr>\n",
       "    <tr>\n",
       "      <th>P50</th>\n",
       "      <td>7.612030e+03</td>\n",
       "      <td>6.209000e+01</td>\n",
       "      <td>3.452000e+00</td>\n",
       "      <td>1.823188e+02</td>\n",
       "      <td>7.866000e+00</td>\n",
       "      <td>1.401670e+05</td>\n",
       "      <td>5.347450e+03</td>\n",
       "      <td>1.920000e+02</td>\n",
       "      <td>2.460000e+01</td>\n",
       "      <td>1.481310e+03</td>\n",
       "      <td>3.359450e+03</td>\n",
       "    </tr>\n",
       "    <tr>\n",
       "      <th>P99</th>\n",
       "      <td>1.064796e+05</td>\n",
       "      <td>9.281000e+01</td>\n",
       "      <td>4.202000e+00</td>\n",
       "      <td>2.254735e+02</td>\n",
       "      <td>1.418000e+01</td>\n",
       "      <td>2.196220e+05</td>\n",
       "      <td>4.152403e+04</td>\n",
       "      <td>5.036660e+04</td>\n",
       "      <td>6.314329e+04</td>\n",
       "      <td>3.578526e+04</td>\n",
       "      <td>2.775423e+04</td>\n",
       "    </tr>\n",
       "    <tr>\n",
       "      <th>MAX</th>\n",
       "      <td>6.930994e+05</td>\n",
       "      <td>1.001400e+02</td>\n",
       "      <td>4.468000e+00</td>\n",
       "      <td>2.272328e+02</td>\n",
       "      <td>1.431300e+01</td>\n",
       "      <td>2.196220e+05</td>\n",
       "      <td>8.864676e+04</td>\n",
       "      <td>1.045195e+05</td>\n",
       "      <td>1.416306e+05</td>\n",
       "      <td>6.747485e+04</td>\n",
       "      <td>1.085193e+05</td>\n",
       "    </tr>\n",
       "  </tbody>\n",
       "</table>\n",
       "</div>"
      ],
      "text/plain": [
       "        Weekly_Sales   Temperature    Fuel_Price           CPI  Unemployment  \\\n",
       "Count   4.215700e+05  4.215700e+05  4.215700e+05  4.215700e+05  4.215700e+05   \n",
       "Unique  3.594640e+05  3.528000e+03  8.920000e+02  2.145000e+03  3.490000e+02   \n",
       "NMISS   0.000000e+00  0.000000e+00  0.000000e+00  0.000000e+00  0.000000e+00   \n",
       "SUM     6.737219e+09  2.533217e+07  1.416908e+06  7.217360e+07  3.355819e+06   \n",
       "MEAN    1.598126e+04  6.009006e+01  3.361027e+00  1.712019e+02  7.960289e+00   \n",
       "MEDIAN  7.612030e+03  6.209000e+01  3.452000e+00  1.823188e+02  7.866000e+00   \n",
       "STD     2.271118e+04  1.844793e+01  4.585145e-01  3.915928e+01  1.863296e+00   \n",
       "VAR     5.157979e+08  3.403262e+02  2.102356e-01  1.533449e+03  3.471872e+00   \n",
       "MIN    -4.988940e+03 -2.060000e+00  2.472000e+00  1.260640e+02  3.879000e+00   \n",
       "P1      5.000000e+00  1.830000e+01  2.565000e+00  1.261119e+02  4.156000e+00   \n",
       "P50     7.612030e+03  6.209000e+01  3.452000e+00  1.823188e+02  7.866000e+00   \n",
       "P99     1.064796e+05  9.281000e+01  4.202000e+00  2.254735e+02  1.418000e+01   \n",
       "MAX     6.930994e+05  1.001400e+02  4.468000e+00  2.272328e+02  1.431300e+01   \n",
       "\n",
       "                Size     MarkDown1     MarkDown2     MarkDown3     MarkDown4  \\\n",
       "Count   4.215700e+05  1.506810e+05  1.112480e+05  1.370910e+05  1.349670e+05   \n",
       "Unique  4.000000e+01  2.277000e+03  1.499000e+03  1.662000e+03  1.944000e+03   \n",
       "NMISS   0.000000e+00  2.708890e+05  3.103220e+05  2.844790e+05  2.866030e+05   \n",
       "SUM     5.764039e+10  1.091898e+09  3.709708e+08  1.973317e+08  4.566161e+08   \n",
       "MEAN    1.367279e+05  7.246420e+03  3.334629e+03  1.439421e+03  3.383168e+03   \n",
       "MEDIAN  1.401670e+05  5.347450e+03  1.920000e+02  2.460000e+01  1.481310e+03   \n",
       "STD     6.098058e+04  8.291221e+03  9.475357e+03  9.623078e+03  6.292384e+03   \n",
       "VAR     3.718632e+09  6.874435e+07  8.978240e+07  9.260364e+07  3.959410e+07   \n",
       "MIN     3.487500e+04  2.700000e-01 -2.657600e+02 -2.910000e+01  2.200000e-01   \n",
       "P1      3.487500e+04  1.776000e+01 -9.900000e-01  6.000000e-02  3.970000e+00   \n",
       "P50     1.401670e+05  5.347450e+03  1.920000e+02  2.460000e+01  1.481310e+03   \n",
       "P99     2.196220e+05  4.152403e+04  5.036660e+04  6.314329e+04  3.578526e+04   \n",
       "MAX     2.196220e+05  8.864676e+04  1.045195e+05  1.416306e+05  6.747485e+04   \n",
       "\n",
       "           MarkDown5  \n",
       "Count   1.514320e+05  \n",
       "Unique  2.293000e+03  \n",
       "NMISS   2.701380e+05  \n",
       "SUM     7.009750e+08  \n",
       "MEAN    4.628975e+03  \n",
       "MEDIAN  3.359450e+03  \n",
       "STD     5.962887e+03  \n",
       "VAR     3.555603e+07  \n",
       "MIN     1.351600e+02  \n",
       "P1      3.519700e+02  \n",
       "P50     3.359450e+03  \n",
       "P99     2.775423e+04  \n",
       "MAX     1.085193e+05  "
      ]
     },
     "execution_count": 20,
     "metadata": {},
     "output_type": "execute_result"
    }
   ],
   "source": [
    "#Summary of train Continuous Variables\n",
    "cont_summary = train[cont_cols].apply(continuous_var_summary)\n",
    "cont_summary.to_excel(output, 'Train Statistical Summary', startrow = 13)\n",
    "cont_summary"
   ]
  },
  {
   "cell_type": "code",
   "execution_count": 21,
   "metadata": {},
   "outputs": [
    {
     "data": {
      "text/html": [
       "<div>\n",
       "<style scoped>\n",
       "    .dataframe tbody tr th:only-of-type {\n",
       "        vertical-align: middle;\n",
       "    }\n",
       "\n",
       "    .dataframe tbody tr th {\n",
       "        vertical-align: top;\n",
       "    }\n",
       "\n",
       "    .dataframe thead th {\n",
       "        text-align: right;\n",
       "    }\n",
       "</style>\n",
       "<table border=\"1\" class=\"dataframe\">\n",
       "  <thead>\n",
       "    <tr style=\"text-align: right;\">\n",
       "      <th></th>\n",
       "      <th>Store</th>\n",
       "      <th>Dept</th>\n",
       "      <th>IsHoliday</th>\n",
       "      <th>Type</th>\n",
       "      <th>Year</th>\n",
       "      <th>Month</th>\n",
       "      <th>Week</th>\n",
       "      <th>Day</th>\n",
       "    </tr>\n",
       "  </thead>\n",
       "  <tbody>\n",
       "    <tr>\n",
       "      <th>COUNT</th>\n",
       "      <td>115064.00</td>\n",
       "      <td>115064.00</td>\n",
       "      <td>115064</td>\n",
       "      <td>115064</td>\n",
       "      <td>115064.00</td>\n",
       "      <td>115064.00</td>\n",
       "      <td>115064.00</td>\n",
       "      <td>115064.00</td>\n",
       "    </tr>\n",
       "    <tr>\n",
       "      <th>MISS</th>\n",
       "      <td>0.00</td>\n",
       "      <td>0.00</td>\n",
       "      <td>0</td>\n",
       "      <td>0</td>\n",
       "      <td>0.00</td>\n",
       "      <td>0.00</td>\n",
       "      <td>0.00</td>\n",
       "      <td>0.00</td>\n",
       "    </tr>\n",
       "    <tr>\n",
       "      <th>UNIQUE</th>\n",
       "      <td>45.00</td>\n",
       "      <td>81.00</td>\n",
       "      <td>2</td>\n",
       "      <td>3</td>\n",
       "      <td>2.00</td>\n",
       "      <td>9.00</td>\n",
       "      <td>39.00</td>\n",
       "      <td>27.00</td>\n",
       "    </tr>\n",
       "    <tr>\n",
       "      <th>MODE</th>\n",
       "      <td>13.00</td>\n",
       "      <td>1.00</td>\n",
       "      <td>False</td>\n",
       "      <td>A</td>\n",
       "      <td>2013.00</td>\n",
       "      <td>11.00</td>\n",
       "      <td>51.00</td>\n",
       "      <td>7.00</td>\n",
       "    </tr>\n",
       "    <tr>\n",
       "      <th>FREQ</th>\n",
       "      <td>2836.00</td>\n",
       "      <td>1755.00</td>\n",
       "      <td>106136</td>\n",
       "      <td>58713</td>\n",
       "      <td>88275.00</td>\n",
       "      <td>14824.00</td>\n",
       "      <td>3002.00</td>\n",
       "      <td>5926.00</td>\n",
       "    </tr>\n",
       "    <tr>\n",
       "      <th>PERCENT</th>\n",
       "      <td>2.46</td>\n",
       "      <td>1.53</td>\n",
       "      <td>92.24</td>\n",
       "      <td>51.03</td>\n",
       "      <td>76.72</td>\n",
       "      <td>12.88</td>\n",
       "      <td>2.61</td>\n",
       "      <td>5.15</td>\n",
       "    </tr>\n",
       "  </tbody>\n",
       "</table>\n",
       "</div>"
      ],
      "text/plain": [
       "             Store       Dept IsHoliday    Type       Year      Month  \\\n",
       "COUNT    115064.00  115064.00    115064  115064  115064.00  115064.00   \n",
       "MISS          0.00       0.00         0       0       0.00       0.00   \n",
       "UNIQUE       45.00      81.00         2       3       2.00       9.00   \n",
       "MODE         13.00       1.00     False       A    2013.00      11.00   \n",
       "FREQ       2836.00    1755.00    106136   58713   88275.00   14824.00   \n",
       "PERCENT       2.46       1.53     92.24   51.03      76.72      12.88   \n",
       "\n",
       "              Week        Day  \n",
       "COUNT    115064.00  115064.00  \n",
       "MISS          0.00       0.00  \n",
       "UNIQUE       39.00      27.00  \n",
       "MODE         51.00       7.00  \n",
       "FREQ       3002.00    5926.00  \n",
       "PERCENT       2.61       5.15  "
      ]
     },
     "execution_count": 21,
     "metadata": {},
     "output_type": "execute_result"
    }
   ],
   "source": [
    "#Summary of test Categorical Variables\n",
    "cat_summ = test[cat_cols].apply(categorical_var_summary)\n",
    "cat_summ.to_excel(output, 'Test Statistical Summary', startrow = 3)\n",
    "cat_summ"
   ]
  },
  {
   "cell_type": "code",
   "execution_count": 22,
   "metadata": {},
   "outputs": [
    {
     "data": {
      "text/html": [
       "<div>\n",
       "<style scoped>\n",
       "    .dataframe tbody tr th:only-of-type {\n",
       "        vertical-align: middle;\n",
       "    }\n",
       "\n",
       "    .dataframe tbody tr th {\n",
       "        vertical-align: top;\n",
       "    }\n",
       "\n",
       "    .dataframe thead th {\n",
       "        text-align: right;\n",
       "    }\n",
       "</style>\n",
       "<table border=\"1\" class=\"dataframe\">\n",
       "  <thead>\n",
       "    <tr style=\"text-align: right;\">\n",
       "      <th></th>\n",
       "      <th>Temperature</th>\n",
       "      <th>Fuel_Price</th>\n",
       "      <th>CPI</th>\n",
       "      <th>Unemployment</th>\n",
       "      <th>Size</th>\n",
       "      <th>MarkDown1</th>\n",
       "      <th>MarkDown2</th>\n",
       "      <th>MarkDown3</th>\n",
       "      <th>MarkDown4</th>\n",
       "      <th>MarkDown5</th>\n",
       "    </tr>\n",
       "  </thead>\n",
       "  <tbody>\n",
       "    <tr>\n",
       "      <th>Count</th>\n",
       "      <td>1.150640e+05</td>\n",
       "      <td>115064.000000</td>\n",
       "      <td>7.690200e+04</td>\n",
       "      <td>76902.000000</td>\n",
       "      <td>1.150640e+05</td>\n",
       "      <td>1.149150e+05</td>\n",
       "      <td>8.643700e+04</td>\n",
       "      <td>1.052350e+05</td>\n",
       "      <td>1.021760e+05</td>\n",
       "      <td>1.150640e+05</td>\n",
       "    </tr>\n",
       "    <tr>\n",
       "      <th>Unique</th>\n",
       "      <td>1.236000e+03</td>\n",
       "      <td>297.000000</td>\n",
       "      <td>3.600000e+02</td>\n",
       "      <td>89.000000</td>\n",
       "      <td>4.000000e+01</td>\n",
       "      <td>1.752000e+03</td>\n",
       "      <td>1.257000e+03</td>\n",
       "      <td>1.421000e+03</td>\n",
       "      <td>1.483000e+03</td>\n",
       "      <td>1.754000e+03</td>\n",
       "    </tr>\n",
       "    <tr>\n",
       "      <th>NMISS</th>\n",
       "      <td>0.000000e+00</td>\n",
       "      <td>0.000000</td>\n",
       "      <td>3.816200e+04</td>\n",
       "      <td>38162.000000</td>\n",
       "      <td>0.000000e+00</td>\n",
       "      <td>1.490000e+02</td>\n",
       "      <td>2.862700e+04</td>\n",
       "      <td>9.829000e+03</td>\n",
       "      <td>1.288800e+04</td>\n",
       "      <td>0.000000e+00</td>\n",
       "    </tr>\n",
       "    <tr>\n",
       "      <th>SUM</th>\n",
       "      <td>6.206760e+06</td>\n",
       "      <td>412107.046000</td>\n",
       "      <td>1.360868e+07</td>\n",
       "      <td>528219.318000</td>\n",
       "      <td>1.570597e+10</td>\n",
       "      <td>8.836063e+08</td>\n",
       "      <td>3.227602e+08</td>\n",
       "      <td>2.528890e+08</td>\n",
       "      <td>3.429250e+08</td>\n",
       "      <td>4.513594e+08</td>\n",
       "    </tr>\n",
       "    <tr>\n",
       "      <th>MEAN</th>\n",
       "      <td>5.394180e+01</td>\n",
       "      <td>3.581546</td>\n",
       "      <td>1.769613e+02</td>\n",
       "      <td>6.868733</td>\n",
       "      <td>1.364977e+05</td>\n",
       "      <td>7.689216e+03</td>\n",
       "      <td>3.734052e+03</td>\n",
       "      <td>2.403089e+03</td>\n",
       "      <td>3.356219e+03</td>\n",
       "      <td>3.922681e+03</td>\n",
       "    </tr>\n",
       "    <tr>\n",
       "      <th>MEDIAN</th>\n",
       "      <td>5.447000e+01</td>\n",
       "      <td>3.606000</td>\n",
       "      <td>1.923044e+02</td>\n",
       "      <td>6.806000</td>\n",
       "      <td>1.401670e+05</td>\n",
       "      <td>4.842290e+03</td>\n",
       "      <td>7.425900e+02</td>\n",
       "      <td>7.826000e+01</td>\n",
       "      <td>8.409400e+02</td>\n",
       "      <td>2.390430e+03</td>\n",
       "    </tr>\n",
       "    <tr>\n",
       "      <th>STD</th>\n",
       "      <td>1.872415e+01</td>\n",
       "      <td>0.239442</td>\n",
       "      <td>4.123997e+01</td>\n",
       "      <td>1.583427</td>\n",
       "      <td>6.110693e+04</td>\n",
       "      <td>1.069876e+04</td>\n",
       "      <td>8.323495e+03</td>\n",
       "      <td>1.376794e+04</td>\n",
       "      <td>7.570502e+03</td>\n",
       "      <td>1.944515e+04</td>\n",
       "    </tr>\n",
       "    <tr>\n",
       "      <th>VAR</th>\n",
       "      <td>3.505939e+02</td>\n",
       "      <td>0.057332</td>\n",
       "      <td>1.700735e+03</td>\n",
       "      <td>2.507242</td>\n",
       "      <td>3.734056e+09</td>\n",
       "      <td>1.144635e+08</td>\n",
       "      <td>6.928057e+07</td>\n",
       "      <td>1.895562e+08</td>\n",
       "      <td>5.731249e+07</td>\n",
       "      <td>3.781139e+08</td>\n",
       "    </tr>\n",
       "    <tr>\n",
       "      <th>MIN</th>\n",
       "      <td>-7.290000e+00</td>\n",
       "      <td>2.872000</td>\n",
       "      <td>1.312362e+02</td>\n",
       "      <td>3.684000</td>\n",
       "      <td>3.487500e+04</td>\n",
       "      <td>-2.781450e+03</td>\n",
       "      <td>-3.574000e+01</td>\n",
       "      <td>-1.792600e+02</td>\n",
       "      <td>2.200000e-01</td>\n",
       "      <td>-1.851700e+02</td>\n",
       "    </tr>\n",
       "    <tr>\n",
       "      <th>P1</th>\n",
       "      <td>1.144000e+01</td>\n",
       "      <td>2.957000</td>\n",
       "      <td>1.312794e+02</td>\n",
       "      <td>3.879000</td>\n",
       "      <td>3.487500e+04</td>\n",
       "      <td>2.084000e+01</td>\n",
       "      <td>2.000000e-02</td>\n",
       "      <td>1.500000e-01</td>\n",
       "      <td>2.610000e+00</td>\n",
       "      <td>2.693000e+02</td>\n",
       "    </tr>\n",
       "    <tr>\n",
       "      <th>P50</th>\n",
       "      <td>5.447000e+01</td>\n",
       "      <td>3.606000</td>\n",
       "      <td>1.923044e+02</td>\n",
       "      <td>6.806000</td>\n",
       "      <td>1.401670e+05</td>\n",
       "      <td>4.842290e+03</td>\n",
       "      <td>7.425900e+02</td>\n",
       "      <td>7.826000e+01</td>\n",
       "      <td>8.409400e+02</td>\n",
       "      <td>2.390430e+03</td>\n",
       "    </tr>\n",
       "    <tr>\n",
       "      <th>P99</th>\n",
       "      <td>9.214000e+01</td>\n",
       "      <td>4.079000</td>\n",
       "      <td>2.287299e+02</td>\n",
       "      <td>10.199000</td>\n",
       "      <td>2.196220e+05</td>\n",
       "      <td>6.575757e+04</td>\n",
       "      <td>4.292021e+04</td>\n",
       "      <td>8.647666e+04</td>\n",
       "      <td>4.473928e+04</td>\n",
       "      <td>1.859930e+04</td>\n",
       "    </tr>\n",
       "    <tr>\n",
       "      <th>MAX</th>\n",
       "      <td>1.019500e+02</td>\n",
       "      <td>4.125000</td>\n",
       "      <td>2.289765e+02</td>\n",
       "      <td>10.199000</td>\n",
       "      <td>2.196220e+05</td>\n",
       "      <td>1.031850e+05</td>\n",
       "      <td>7.107417e+04</td>\n",
       "      <td>1.494833e+05</td>\n",
       "      <td>6.534464e+04</td>\n",
       "      <td>7.714481e+05</td>\n",
       "    </tr>\n",
       "  </tbody>\n",
       "</table>\n",
       "</div>"
      ],
      "text/plain": [
       "         Temperature     Fuel_Price           CPI   Unemployment  \\\n",
       "Count   1.150640e+05  115064.000000  7.690200e+04   76902.000000   \n",
       "Unique  1.236000e+03     297.000000  3.600000e+02      89.000000   \n",
       "NMISS   0.000000e+00       0.000000  3.816200e+04   38162.000000   \n",
       "SUM     6.206760e+06  412107.046000  1.360868e+07  528219.318000   \n",
       "MEAN    5.394180e+01       3.581546  1.769613e+02       6.868733   \n",
       "MEDIAN  5.447000e+01       3.606000  1.923044e+02       6.806000   \n",
       "STD     1.872415e+01       0.239442  4.123997e+01       1.583427   \n",
       "VAR     3.505939e+02       0.057332  1.700735e+03       2.507242   \n",
       "MIN    -7.290000e+00       2.872000  1.312362e+02       3.684000   \n",
       "P1      1.144000e+01       2.957000  1.312794e+02       3.879000   \n",
       "P50     5.447000e+01       3.606000  1.923044e+02       6.806000   \n",
       "P99     9.214000e+01       4.079000  2.287299e+02      10.199000   \n",
       "MAX     1.019500e+02       4.125000  2.289765e+02      10.199000   \n",
       "\n",
       "                Size     MarkDown1     MarkDown2     MarkDown3     MarkDown4  \\\n",
       "Count   1.150640e+05  1.149150e+05  8.643700e+04  1.052350e+05  1.021760e+05   \n",
       "Unique  4.000000e+01  1.752000e+03  1.257000e+03  1.421000e+03  1.483000e+03   \n",
       "NMISS   0.000000e+00  1.490000e+02  2.862700e+04  9.829000e+03  1.288800e+04   \n",
       "SUM     1.570597e+10  8.836063e+08  3.227602e+08  2.528890e+08  3.429250e+08   \n",
       "MEAN    1.364977e+05  7.689216e+03  3.734052e+03  2.403089e+03  3.356219e+03   \n",
       "MEDIAN  1.401670e+05  4.842290e+03  7.425900e+02  7.826000e+01  8.409400e+02   \n",
       "STD     6.110693e+04  1.069876e+04  8.323495e+03  1.376794e+04  7.570502e+03   \n",
       "VAR     3.734056e+09  1.144635e+08  6.928057e+07  1.895562e+08  5.731249e+07   \n",
       "MIN     3.487500e+04 -2.781450e+03 -3.574000e+01 -1.792600e+02  2.200000e-01   \n",
       "P1      3.487500e+04  2.084000e+01  2.000000e-02  1.500000e-01  2.610000e+00   \n",
       "P50     1.401670e+05  4.842290e+03  7.425900e+02  7.826000e+01  8.409400e+02   \n",
       "P99     2.196220e+05  6.575757e+04  4.292021e+04  8.647666e+04  4.473928e+04   \n",
       "MAX     2.196220e+05  1.031850e+05  7.107417e+04  1.494833e+05  6.534464e+04   \n",
       "\n",
       "           MarkDown5  \n",
       "Count   1.150640e+05  \n",
       "Unique  1.754000e+03  \n",
       "NMISS   0.000000e+00  \n",
       "SUM     4.513594e+08  \n",
       "MEAN    3.922681e+03  \n",
       "MEDIAN  2.390430e+03  \n",
       "STD     1.944515e+04  \n",
       "VAR     3.781139e+08  \n",
       "MIN    -1.851700e+02  \n",
       "P1      2.693000e+02  \n",
       "P50     2.390430e+03  \n",
       "P99     1.859930e+04  \n",
       "MAX     7.714481e+05  "
      ]
     },
     "execution_count": 22,
     "metadata": {},
     "output_type": "execute_result"
    }
   ],
   "source": [
    "#Summary of test Continuous Variables\n",
    "cont_summ = test[cont_cols[1:]].apply(continuous_var_summary)\n",
    "cont_summ.to_excel(output, 'Test Statistical Summary', startrow = 13)\n",
    "cont_summ"
   ]
  },
  {
   "cell_type": "markdown",
   "metadata": {},
   "source": [
    "From Statistical Summary of the data, we can see that there are outliers and missing values in the data."
   ]
  },
  {
   "cell_type": "markdown",
   "metadata": {},
   "source": [
    "#### <a>Data Preparation"
   ]
  },
  {
   "cell_type": "code",
   "execution_count": 23,
   "metadata": {},
   "outputs": [],
   "source": [
    "#Handling Outliers\n",
    "train[cont_cols] = train[cont_cols].apply(outlier_capping)\n",
    "\n",
    "#Saving to excel\n",
    "train[cont_cols].to_excel(output, 'Train Oulier Treatment')\n",
    "\n",
    "test[cont_cols[1:]] = test[cont_cols[1:]].apply(outlier_capping)\n",
    "\n",
    "#Saving to excel\n",
    "test[cont_cols[1:]].to_excel(output, 'Test Oulier Treatment')"
   ]
  },
  {
   "cell_type": "code",
   "execution_count": 24,
   "metadata": {},
   "outputs": [
    {
     "data": {
      "text/plain": [
       "Store                0\n",
       "Dept                 0\n",
       "Date                 0\n",
       "Weekly_Sales         0\n",
       "IsHoliday            0\n",
       "Temperature          0\n",
       "Fuel_Price           0\n",
       "MarkDown1       270889\n",
       "MarkDown2       310322\n",
       "MarkDown3       284479\n",
       "MarkDown4       286603\n",
       "MarkDown5       270138\n",
       "CPI                  0\n",
       "Unemployment         0\n",
       "Type                 0\n",
       "Size                 0\n",
       "Year                 0\n",
       "Month                0\n",
       "Week                 0\n",
       "Day                  0\n",
       "dtype: int64"
      ]
     },
     "execution_count": 24,
     "metadata": {},
     "output_type": "execute_result"
    }
   ],
   "source": [
    "#Missing Values in train dataset\n",
    "train.isna().sum()"
   ]
  },
  {
   "cell_type": "code",
   "execution_count": 25,
   "metadata": {},
   "outputs": [],
   "source": [
    "#Treating missing values in train dataset\n",
    "train = train.fillna(0)"
   ]
  },
  {
   "cell_type": "code",
   "execution_count": 26,
   "metadata": {},
   "outputs": [
    {
     "data": {
      "text/plain": [
       "Store               0\n",
       "Dept                0\n",
       "Date                0\n",
       "IsHoliday           0\n",
       "Temperature         0\n",
       "Fuel_Price          0\n",
       "MarkDown1         149\n",
       "MarkDown2       28627\n",
       "MarkDown3        9829\n",
       "MarkDown4       12888\n",
       "MarkDown5           0\n",
       "CPI             38162\n",
       "Unemployment    38162\n",
       "Type                0\n",
       "Size                0\n",
       "Year                0\n",
       "Month               0\n",
       "Week                0\n",
       "Day                 0\n",
       "dtype: int64"
      ]
     },
     "execution_count": 26,
     "metadata": {},
     "output_type": "execute_result"
    }
   ],
   "source": [
    "#Missing values in test dataset\n",
    "test.isna().sum()"
   ]
  },
  {
   "cell_type": "code",
   "execution_count": 27,
   "metadata": {},
   "outputs": [],
   "source": [
    "#Treating Missing values in CPI and Unemployment with mean by Department wise for test dataset\n",
    "test['CPI'] = test[['Store','Dept','CPI']].groupby(['Store','Dept'])['CPI'].transform(lambda x: x.interpolate())\n",
    "test['Unemployment'] = test[['Store','Dept','Unemployment']].groupby(['Store','Dept'])['Unemployment'].transform(lambda x: x.interpolate())"
   ]
  },
  {
   "cell_type": "code",
   "execution_count": 28,
   "metadata": {},
   "outputs": [],
   "source": [
    "#Imputing missing vaues in MarkDown with zeros for test dataset\n",
    "test = test.fillna(0) "
   ]
  },
  {
   "cell_type": "code",
   "execution_count": 29,
   "metadata": {},
   "outputs": [
    {
     "data": {
      "text/plain": [
       "Store           0\n",
       "Dept            0\n",
       "Date            0\n",
       "Weekly_Sales    0\n",
       "IsHoliday       0\n",
       "Temperature     0\n",
       "Fuel_Price      0\n",
       "MarkDown1       0\n",
       "MarkDown2       0\n",
       "MarkDown3       0\n",
       "MarkDown4       0\n",
       "MarkDown5       0\n",
       "CPI             0\n",
       "Unemployment    0\n",
       "Type            0\n",
       "Size            0\n",
       "Year            0\n",
       "Month           0\n",
       "Week            0\n",
       "Day             0\n",
       "dtype: int64"
      ]
     },
     "execution_count": 29,
     "metadata": {},
     "output_type": "execute_result"
    }
   ],
   "source": [
    "#Checking for missing values\n",
    "train.isna().sum()"
   ]
  },
  {
   "cell_type": "code",
   "execution_count": 30,
   "metadata": {},
   "outputs": [
    {
     "data": {
      "text/plain": [
       "Store           0\n",
       "Dept            0\n",
       "Date            0\n",
       "IsHoliday       0\n",
       "Temperature     0\n",
       "Fuel_Price      0\n",
       "MarkDown1       0\n",
       "MarkDown2       0\n",
       "MarkDown3       0\n",
       "MarkDown4       0\n",
       "MarkDown5       0\n",
       "CPI             0\n",
       "Unemployment    0\n",
       "Type            0\n",
       "Size            0\n",
       "Year            0\n",
       "Month           0\n",
       "Week            0\n",
       "Day             0\n",
       "dtype: int64"
      ]
     },
     "execution_count": 30,
     "metadata": {},
     "output_type": "execute_result"
    }
   ],
   "source": [
    "test.isna().sum()"
   ]
  },
  {
   "cell_type": "code",
   "execution_count": 31,
   "metadata": {},
   "outputs": [],
   "source": [
    "#Saving to excel\n",
    "train.to_excel(output, 'Train Missing Treatment')\n",
    "test.to_excel(output, 'Test Missing Treatment')"
   ]
  },
  {
   "cell_type": "code",
   "execution_count": 32,
   "metadata": {},
   "outputs": [],
   "source": [
    "#Changing categorical to numerical using Label Encoder\n",
    "le = LabelEncoder()\n",
    "\n",
    "train['IsHoliday'] = le.fit_transform(train.IsHoliday)\n",
    "train['Type'] = le.fit_transform(train.Type)\n",
    "\n",
    "#Saving to excel\n",
    "train[['IsHoliday', 'Type']].to_excel(output, 'Train Encoded Variables')\n",
    "\n",
    "test['IsHoliday'] = le.fit_transform(test.IsHoliday)\n",
    "test['Type'] = le.fit_transform(test.Type)\n",
    "\n",
    "#Saving to excel\n",
    "test[['IsHoliday', 'Type']].to_excel(output, 'Test Encoded Variables')"
   ]
  },
  {
   "cell_type": "markdown",
   "metadata": {},
   "source": [
    "#### <a>Creating new Holiday variable based on given data"
   ]
  },
  {
   "cell_type": "code",
   "execution_count": 33,
   "metadata": {},
   "outputs": [],
   "source": [
    "#Getting dates of Super Bowl, Labor\n",
    "new_hdays = ['2010-02-12','2011-02-11','2012-02-10','2013-02-08',\n",
    "             '2010-09-10','2011-09-09','2012-09-07','2013-09-06',\n",
    "            '2010-11-26','2011-11-25','2012-11-23','2013-11-29',\n",
    "            '2010-12-31','2011-12-30','2012-12-28','2013-12-27',]"
   ]
  },
  {
   "cell_type": "code",
   "execution_count": 34,
   "metadata": {},
   "outputs": [],
   "source": [
    "#Adding new holidays to train and test dataset\n",
    "train.loc[train.Date.isin(new_hdays), 'IsHoliday'] = 1\n",
    "test.loc[test.Date.isin(new_hdays), 'IsHoliday'] = 1"
   ]
  },
  {
   "cell_type": "code",
   "execution_count": 35,
   "metadata": {},
   "outputs": [
    {
     "data": {
      "text/plain": [
       "Store           False\n",
       "Dept            False\n",
       "Weekly_Sales    False\n",
       "IsHoliday       False\n",
       "Temperature     False\n",
       "Fuel_Price      False\n",
       "MarkDown1       False\n",
       "MarkDown2        True\n",
       "MarkDown3       False\n",
       "MarkDown4       False\n",
       "MarkDown5       False\n",
       "CPI             False\n",
       "Unemployment    False\n",
       "Type            False\n",
       "Size            False\n",
       "Year            False\n",
       "Month           False\n",
       "Week            False\n",
       "Day             False\n",
       "dtype: bool"
      ]
     },
     "execution_count": 35,
     "metadata": {},
     "output_type": "execute_result"
    }
   ],
   "source": [
    "#Checking for negative values\n",
    "(train.drop(['Date'], axis =1)<0).any(0)"
   ]
  },
  {
   "cell_type": "code",
   "execution_count": 36,
   "metadata": {},
   "outputs": [],
   "source": [
    "#Replacing negative values in MarkDown2 with zeros\n",
    "train.loc[train.MarkDown2<0,'MarkDown2'] = 0"
   ]
  },
  {
   "cell_type": "code",
   "execution_count": 37,
   "metadata": {},
   "outputs": [
    {
     "data": {
      "text/plain": [
       "Store           False\n",
       "Dept            False\n",
       "Weekly_Sales    False\n",
       "IsHoliday       False\n",
       "Temperature     False\n",
       "Fuel_Price      False\n",
       "MarkDown1       False\n",
       "MarkDown2       False\n",
       "MarkDown3       False\n",
       "MarkDown4       False\n",
       "MarkDown5       False\n",
       "CPI             False\n",
       "Unemployment    False\n",
       "Type            False\n",
       "Size            False\n",
       "Year            False\n",
       "Month           False\n",
       "Week            False\n",
       "Day             False\n",
       "dtype: bool"
      ]
     },
     "execution_count": 37,
     "metadata": {},
     "output_type": "execute_result"
    }
   ],
   "source": [
    "#Checking again for negative values\n",
    "(train.drop(['Date'], axis =1)<0).any(0)"
   ]
  },
  {
   "cell_type": "code",
   "execution_count": 38,
   "metadata": {},
   "outputs": [],
   "source": [
    "#Dropping Date as it has no significance for our prediction model\n",
    "train.drop('Date', axis = 1, inplace = True)\n",
    "test_final = test.drop('Date', axis = 1)"
   ]
  },
  {
   "cell_type": "code",
   "execution_count": 39,
   "metadata": {},
   "outputs": [],
   "source": [
    "#Droping Year and Month from train and test dataset to group the data at week level\n",
    "train.drop(['Year', 'Month', 'Day'], axis = 1, inplace = True)\n",
    "test_final.drop(['Year', 'Month', 'Day'], axis = 1, inplace = True)"
   ]
  },
  {
   "cell_type": "code",
   "execution_count": 40,
   "metadata": {},
   "outputs": [
    {
     "data": {
      "text/plain": [
       "Index(['Store', 'Dept', 'Weekly_Sales', 'IsHoliday', 'Temperature',\n",
       "       'Fuel_Price', 'MarkDown1', 'MarkDown2', 'MarkDown3', 'MarkDown4',\n",
       "       'MarkDown5', 'CPI', 'Unemployment', 'Type', 'Size', 'Week'],\n",
       "      dtype='object')"
      ]
     },
     "execution_count": 40,
     "metadata": {},
     "output_type": "execute_result"
    }
   ],
   "source": [
    "train.columns"
   ]
  },
  {
   "cell_type": "code",
   "execution_count": 41,
   "metadata": {},
   "outputs": [],
   "source": [
    "#Grouping train data at Store, Department and Week level\n",
    "train = train.groupby(['Store','Dept','Week']).agg({'Weekly_Sales': 'mean','IsHoliday' : 'max',\n",
    "              'Temperature' : 'mean', 'Fuel_Price' : 'mean', 'MarkDown1' : 'mean',\n",
    "              'MarkDown2' : 'mean', 'MarkDown3' : 'mean', 'MarkDown4' : 'mean',\n",
    "              'MarkDown5' : 'mean', 'CPI' : 'mean', 'Unemployment' : 'mean',\n",
    "              'Type' : lambda x: x.mode(), 'Size' : 'mean'}).reset_index()"
   ]
  },
  {
   "cell_type": "code",
   "execution_count": 42,
   "metadata": {},
   "outputs": [],
   "source": [
    "#Saving final train and test dataset to excel\n",
    "train.to_excel(output, 'Final Train Data')\n",
    "test_final.to_excel(output, 'Final Test Data')"
   ]
  },
  {
   "cell_type": "markdown",
   "metadata": {},
   "source": [
    "#### <a>Correlation Matrix"
   ]
  },
  {
   "cell_type": "code",
   "execution_count": 43,
   "metadata": {},
   "outputs": [
    {
     "data": {
      "text/plain": [
       "Weekly_Sales    1.000000\n",
       "Size            0.257136\n",
       "Dept            0.131083\n",
       "MarkDown5       0.098070\n",
       "MarkDown1       0.093515\n",
       "MarkDown4       0.067740\n",
       "MarkDown3       0.041568\n",
       "Week            0.034751\n",
       "MarkDown2       0.023422\n",
       "IsHoliday       0.009146\n",
       "Temperature    -0.006673\n",
       "Fuel_Price     -0.007896\n",
       "Unemployment   -0.023173\n",
       "CPI            -0.023429\n",
       "Store          -0.088365\n",
       "Type           -0.190930\n",
       "dtype: float64"
      ]
     },
     "execution_count": 43,
     "metadata": {},
     "output_type": "execute_result"
    }
   ],
   "source": [
    "#Checking correlation with the dependant variable - Weekly_Sales\n",
    "corr_target = train.corrwith(train['Weekly_Sales']).sort_values(ascending = False)\n",
    "corr_target.to_excel(output, 'Correlation with Target')\n",
    "corr_target"
   ]
  },
  {
   "cell_type": "code",
   "execution_count": 44,
   "metadata": {
    "scrolled": false
   },
   "outputs": [
    {
     "data": {
      "image/png": "[encoded data removed]",
      "text/plain": [
       "<Figure size 720x576 with 2 Axes>"
      ]
     },
     "metadata": {
      "needs_background": "light"
     },
     "output_type": "display_data"
    }
   ],
   "source": [
    "#Correlation matrix heatmap of train dataset\n",
    "cm = train.corr()\n",
    "cm.to_excel(output, 'Train Correlation Matrix')\n",
    "\n",
    "plt.figure(figsize = (10,8))\n",
    "sns.heatmap(cm, linewidths = 1)\n",
    "plt.show()"
   ]
  },
  {
   "cell_type": "code",
   "execution_count": 45,
   "metadata": {},
   "outputs": [
    {
     "data": {
      "image/png": "[encoded data removed]",
      "text/plain": [
       "<Figure size 720x576 with 2 Axes>"
      ]
     },
     "metadata": {
      "needs_background": "light"
     },
     "output_type": "display_data"
    }
   ],
   "source": [
    "#Correlation matrix heatmap of test dataset\n",
    "cm1 = test_final.corr()\n",
    "cm1.to_excel(output, 'Test Correlation Matrix')\n",
    "\n",
    "plt.figure(figsize = (10,8))\n",
    "sns.heatmap(cm1, linewidths = 1)\n",
    "plt.show()"
   ]
  },
  {
   "cell_type": "markdown",
   "metadata": {},
   "source": [
    "#### <a>Feature Selection"
   ]
  },
  {
   "cell_type": "code",
   "execution_count": 46,
   "metadata": {},
   "outputs": [],
   "source": [
    "#Defining Target variable and Independent variables\n",
    "Y = train['Weekly_Sales']\n",
    "X = train.drop(['Weekly_Sales'], axis = 1)"
   ]
  },
  {
   "cell_type": "code",
   "execution_count": 47,
   "metadata": {},
   "outputs": [],
   "source": [
    "#Getting Model Formula\n",
    "model_fm = '''Weekly_Sales ~ Store + Dept + Week + IsHoliday + Temperature + Fuel_Price +\n",
    "              MarkDown1 + MarkDown2 + MarkDown3 + MarkDown4 + MarkDown5 + CPI + Unemployment\n",
    "              + Type + Size'''"
   ]
  },
  {
   "cell_type": "code",
   "execution_count": 48,
   "metadata": {},
   "outputs": [
    {
     "data": {
      "text/html": [
       "<div>\n",
       "<style scoped>\n",
       "    .dataframe tbody tr th:only-of-type {\n",
       "        vertical-align: middle;\n",
       "    }\n",
       "\n",
       "    .dataframe tbody tr th {\n",
       "        vertical-align: top;\n",
       "    }\n",
       "\n",
       "    .dataframe thead th {\n",
       "        text-align: right;\n",
       "    }\n",
       "</style>\n",
       "<table border=\"1\" class=\"dataframe\">\n",
       "  <thead>\n",
       "    <tr style=\"text-align: right;\">\n",
       "      <th></th>\n",
       "      <th>Features</th>\n",
       "      <th>VIF Factor</th>\n",
       "    </tr>\n",
       "  </thead>\n",
       "  <tbody>\n",
       "    <tr>\n",
       "      <th>0</th>\n",
       "      <td>Intercept</td>\n",
       "      <td>481.0</td>\n",
       "    </tr>\n",
       "    <tr>\n",
       "      <th>1</th>\n",
       "      <td>Store</td>\n",
       "      <td>1.1</td>\n",
       "    </tr>\n",
       "    <tr>\n",
       "      <th>2</th>\n",
       "      <td>Dept</td>\n",
       "      <td>1.0</td>\n",
       "    </tr>\n",
       "    <tr>\n",
       "      <th>3</th>\n",
       "      <td>Week</td>\n",
       "      <td>1.2</td>\n",
       "    </tr>\n",
       "    <tr>\n",
       "      <th>4</th>\n",
       "      <td>IsHoliday</td>\n",
       "      <td>1.5</td>\n",
       "    </tr>\n",
       "    <tr>\n",
       "      <th>5</th>\n",
       "      <td>Temperature</td>\n",
       "      <td>1.5</td>\n",
       "    </tr>\n",
       "    <tr>\n",
       "      <th>6</th>\n",
       "      <td>Fuel_Price</td>\n",
       "      <td>1.6</td>\n",
       "    </tr>\n",
       "    <tr>\n",
       "      <th>7</th>\n",
       "      <td>MarkDown1</td>\n",
       "      <td>3.1</td>\n",
       "    </tr>\n",
       "    <tr>\n",
       "      <th>8</th>\n",
       "      <td>MarkDown2</td>\n",
       "      <td>1.3</td>\n",
       "    </tr>\n",
       "    <tr>\n",
       "      <th>9</th>\n",
       "      <td>MarkDown3</td>\n",
       "      <td>1.3</td>\n",
       "    </tr>\n",
       "    <tr>\n",
       "      <th>10</th>\n",
       "      <td>MarkDown4</td>\n",
       "      <td>2.9</td>\n",
       "    </tr>\n",
       "    <tr>\n",
       "      <th>11</th>\n",
       "      <td>MarkDown5</td>\n",
       "      <td>1.3</td>\n",
       "    </tr>\n",
       "    <tr>\n",
       "      <th>12</th>\n",
       "      <td>CPI</td>\n",
       "      <td>1.6</td>\n",
       "    </tr>\n",
       "    <tr>\n",
       "      <th>13</th>\n",
       "      <td>Unemployment</td>\n",
       "      <td>1.2</td>\n",
       "    </tr>\n",
       "    <tr>\n",
       "      <th>14</th>\n",
       "      <td>Type</td>\n",
       "      <td>3.0</td>\n",
       "    </tr>\n",
       "    <tr>\n",
       "      <th>15</th>\n",
       "      <td>Size</td>\n",
       "      <td>3.2</td>\n",
       "    </tr>\n",
       "  </tbody>\n",
       "</table>\n",
       "</div>"
      ],
      "text/plain": [
       "        Features  VIF Factor\n",
       "0      Intercept       481.0\n",
       "1          Store         1.1\n",
       "2           Dept         1.0\n",
       "3           Week         1.2\n",
       "4      IsHoliday         1.5\n",
       "5    Temperature         1.5\n",
       "6     Fuel_Price         1.6\n",
       "7      MarkDown1         3.1\n",
       "8      MarkDown2         1.3\n",
       "9      MarkDown3         1.3\n",
       "10     MarkDown4         2.9\n",
       "11     MarkDown5         1.3\n",
       "12           CPI         1.6\n",
       "13  Unemployment         1.2\n",
       "14          Type         3.0\n",
       "15          Size         3.2"
      ]
     },
     "execution_count": 48,
     "metadata": {},
     "output_type": "execute_result"
    }
   ],
   "source": [
    "## Separating the X and Y variables\n",
    "target, predictor  = dmatrices(model_fm, train, return_type = 'dataframe')\n",
    "\n",
    "#Calculating VIF for each X and saving in DataFrame\n",
    "vif = pd.DataFrame()\n",
    "vif['Features'] = predictor.columns\n",
    "vif['VIF Factor'] = [variance_inflation_factor(predictor.values, i) for i in range(predictor.shape[1])]\n",
    "\n",
    "vif.round(1).to_excel(output, 'VIF Result', index = True)\n",
    "\n",
    "#Getting features\n",
    "vif_cols = list(set(vif.Features).difference(['Intercept']))\n",
    "\n",
    "#VIF output\n",
    "vif.round(1)"
   ]
  },
  {
   "cell_type": "markdown",
   "metadata": {},
   "source": [
    "All the features have less than 4 VIF Factor means low multicollinearity. We can proceed with these features for building model."
   ]
  },
  {
   "cell_type": "markdown",
   "metadata": {},
   "source": [
    "#### <a>Building Prediction Model - To predict the Weekly Sales"
   ]
  },
  {
   "cell_type": "code",
   "execution_count": 49,
   "metadata": {},
   "outputs": [],
   "source": [
    "#Getting Train and Test dataset\n",
    "train_x, test_x, train_y, test_y = train_test_split(X, Y, test_size = 0.3, random_state = 123)"
   ]
  },
  {
   "cell_type": "markdown",
   "metadata": {},
   "source": [
    "#### <a>Random Forest Model"
   ]
  },
  {
   "cell_type": "code",
   "execution_count": 50,
   "metadata": {},
   "outputs": [],
   "source": [
    "#Setting Random Forest parameters\n",
    "rf = RandomForestRegressor(n_estimators = 200, random_state = 123,\n",
    "                           n_jobs = -1).fit(train_x, train_y)"
   ]
  },
  {
   "cell_type": "code",
   "execution_count": 51,
   "metadata": {},
   "outputs": [],
   "source": [
    "#Making dataframes to store train and test predicted values \n",
    "tr = pd.DataFrame(train_y)\n",
    "ts = pd.DataFrame(test_y)\n",
    "\n",
    "#Predicting total spent on train and test dataset\n",
    "tr.loc[:, 'rf_pred_sales'] = rf.predict(train_x)\n",
    "ts.loc[:, 'rf_pred_sales'] = rf.predict(test_x)"
   ]
  },
  {
   "cell_type": "code",
   "execution_count": 52,
   "metadata": {},
   "outputs": [
    {
     "name": "stdout",
     "output_type": "stream",
     "text": [
      "R-square Score: 0.98063403020793\n",
      "\n",
      "Training MSE: 1209311.7203834539  |  Testing MSE: 8199182.973933623\n",
      "Training RMSE:  1099.6871011262494  |  Testing RMSE: 2863.421550162257\n",
      "\n",
      "Training MAE: 481.15957886973433 | Testing MAE: 1287.0711221693114\n",
      "\n",
      "Training MAPE: 0.4473239650236133 | Testing MAPE: 0.9313411880980241\n",
      "\n",
      "Training RMSPE: 23.911125534081293  |  Testing RMSPE: 23.105761855345637\n"
     ]
    }
   ],
   "source": [
    "#R-square Score\n",
    "rf_r2 = metrics.r2_score(test_y, ts.rf_pred_sales)\n",
    "\n",
    "print('R-square Score:', rf_r2)\n",
    "\n",
    "#Getting Mean Squared Error Metric - MSE\n",
    "rf_MSE_train = metrics.mean_squared_error(train_y, tr.rf_pred_sales)\n",
    "rf_MSE_test = metrics.mean_squared_error(test_y, ts.rf_pred_sales)\n",
    "\n",
    "print('\\nTraining MSE:', rf_MSE_train,' | ','Testing MSE:', rf_MSE_test)\n",
    "\n",
    "#Getting Root Mean Squared Error - RMSE\n",
    "rf_RMSE_train = np.sqrt(rf_MSE_train)\n",
    "rf_RMSE_test = np.sqrt(rf_MSE_test)\n",
    "\n",
    "print('Training RMSE: ',rf_RMSE_train,' | ','Testing RMSE:',rf_RMSE_test)\n",
    "\n",
    "#Getting Mean Absolute Error Metric - MAE\n",
    "rf_MAE_train = metrics.mean_absolute_error(train_y, tr.rf_pred_sales)\n",
    "rf_MAE_test = metrics.mean_absolute_error(test_y, ts.rf_pred_sales)\n",
    "\n",
    "print('\\nTraining MAE:', rf_MAE_train, '|', 'Testing MAE:', rf_MAE_test)\n",
    "\n",
    "#Getting Mean Absolute Percentage Error - MAPE\n",
    "rf_MAPE_train = np.mean(np.abs(train_y - tr['rf_pred_sales'])/train_y)\n",
    "rf_MAPE_test = np.mean(np.abs(test_y - ts['rf_pred_sales'])/test_y)\n",
    "                    \n",
    "print('\\nTraining MAPE:', rf_MAPE_train, '|', 'Testing MAPE:',rf_MAPE_test)\n",
    "\n",
    "#Getting Root Mean Squared Percentage Error - RMSPE\n",
    "rf_RMSPE_train = np.sqrt(np.mean(((train_y - tr['rf_pred_sales'])/train_y)**2))\n",
    "rf_RMSPE_test = np.sqrt(np.mean(((test_y - ts['rf_pred_sales'])/test_y)**2))\n",
    "\n",
    "print('\\nTraining RMSPE:', rf_RMSPE_train,' | ','Testing RMSPE:', rf_RMSPE_test)"
   ]
  },
  {
   "cell_type": "code",
   "execution_count": 53,
   "metadata": {},
   "outputs": [
    {
     "name": "stdout",
     "output_type": "stream",
     "text": [
      "Correlation - Train Data:  (0.9985992533373687, 0.0) | Test Data:  (0.990292379252906, 0.0)\n"
     ]
    }
   ],
   "source": [
    "#Correlation between actual and predicted values\n",
    "Corr_train = stats.stats.pearsonr(train_y, tr.rf_pred_sales)\n",
    "Corr_test = stats.stats.pearsonr(test_y, ts.rf_pred_sales)\n",
    "\n",
    "print('Correlation - Train Data: ', Corr_train, '|', 'Test Data: ', Corr_test)"
   ]
  },
  {
   "cell_type": "code",
   "execution_count": 54,
   "metadata": {},
   "outputs": [],
   "source": [
    "#Decile Analysis\n",
    "#Creating Deciles\n",
    "tr.loc[:, 'rf_Deciles'] = pd.qcut(tr.rf_pred_sales, 10, labels = False)\n",
    "ts.loc[:, 'rf_Deciles'] = pd.qcut(ts.rf_pred_sales, 10, labels = False)\n",
    "\n",
    "#Summarizing the data by deciles on train and test dataset\n",
    "rf_decile_train = tr.groupby(['rf_Deciles'])[['Weekly_Sales','rf_pred_sales']].mean().reset_index().sort_values(by = 'rf_Deciles', ascending = False)\n",
    "rf_decile_test = ts.groupby(['rf_Deciles'])[['Weekly_Sales','rf_pred_sales']].mean().reset_index().sort_values(by = 'rf_Deciles', ascending = False)"
   ]
  },
  {
   "cell_type": "code",
   "execution_count": 55,
   "metadata": {},
   "outputs": [
    {
     "data": {
      "text/html": [
       "<div>\n",
       "<style scoped>\n",
       "    .dataframe tbody tr th:only-of-type {\n",
       "        vertical-align: middle;\n",
       "    }\n",
       "\n",
       "    .dataframe tbody tr th {\n",
       "        vertical-align: top;\n",
       "    }\n",
       "\n",
       "    .dataframe thead th {\n",
       "        text-align: right;\n",
       "    }\n",
       "</style>\n",
       "<table border=\"1\" class=\"dataframe\">\n",
       "  <thead>\n",
       "    <tr style=\"text-align: right;\">\n",
       "      <th></th>\n",
       "      <th>rf_Deciles</th>\n",
       "      <th>Weekly_Sales</th>\n",
       "      <th>rf_pred_sales</th>\n",
       "    </tr>\n",
       "  </thead>\n",
       "  <tbody>\n",
       "    <tr>\n",
       "      <th>9</th>\n",
       "      <td>9</td>\n",
       "      <td>66212.194038</td>\n",
       "      <td>65812.983098</td>\n",
       "    </tr>\n",
       "    <tr>\n",
       "      <th>8</th>\n",
       "      <td>8</td>\n",
       "      <td>32258.849442</td>\n",
       "      <td>32304.056761</td>\n",
       "    </tr>\n",
       "    <tr>\n",
       "      <th>7</th>\n",
       "      <td>7</td>\n",
       "      <td>19815.416319</td>\n",
       "      <td>19907.924481</td>\n",
       "    </tr>\n",
       "    <tr>\n",
       "      <th>6</th>\n",
       "      <td>6</td>\n",
       "      <td>13217.912932</td>\n",
       "      <td>13341.764004</td>\n",
       "    </tr>\n",
       "    <tr>\n",
       "      <th>5</th>\n",
       "      <td>5</td>\n",
       "      <td>8815.327183</td>\n",
       "      <td>8899.915396</td>\n",
       "    </tr>\n",
       "    <tr>\n",
       "      <th>4</th>\n",
       "      <td>4</td>\n",
       "      <td>5687.331054</td>\n",
       "      <td>5764.446726</td>\n",
       "    </tr>\n",
       "    <tr>\n",
       "      <th>3</th>\n",
       "      <td>3</td>\n",
       "      <td>3435.838559</td>\n",
       "      <td>3494.533946</td>\n",
       "    </tr>\n",
       "    <tr>\n",
       "      <th>2</th>\n",
       "      <td>2</td>\n",
       "      <td>1748.262118</td>\n",
       "      <td>1798.277337</td>\n",
       "    </tr>\n",
       "    <tr>\n",
       "      <th>1</th>\n",
       "      <td>1</td>\n",
       "      <td>541.624870</td>\n",
       "      <td>577.091040</td>\n",
       "    </tr>\n",
       "    <tr>\n",
       "      <th>0</th>\n",
       "      <td>0</td>\n",
       "      <td>56.270681</td>\n",
       "      <td>64.004708</td>\n",
       "    </tr>\n",
       "  </tbody>\n",
       "</table>\n",
       "</div>"
      ],
      "text/plain": [
       "   rf_Deciles  Weekly_Sales  rf_pred_sales\n",
       "9           9  66212.194038   65812.983098\n",
       "8           8  32258.849442   32304.056761\n",
       "7           7  19815.416319   19907.924481\n",
       "6           6  13217.912932   13341.764004\n",
       "5           5   8815.327183    8899.915396\n",
       "4           4   5687.331054    5764.446726\n",
       "3           3   3435.838559    3494.533946\n",
       "2           2   1748.262118    1798.277337\n",
       "1           1    541.624870     577.091040\n",
       "0           0     56.270681      64.004708"
      ]
     },
     "execution_count": 55,
     "metadata": {},
     "output_type": "execute_result"
    }
   ],
   "source": [
    "rf_decile_train.to_excel(output, 'Decile Analysis', startrow=4 , startcol=2, index = False)\n",
    "rf_decile_train"
   ]
  },
  {
   "cell_type": "code",
   "execution_count": 56,
   "metadata": {},
   "outputs": [
    {
     "data": {
      "text/html": [
       "<div>\n",
       "<style scoped>\n",
       "    .dataframe tbody tr th:only-of-type {\n",
       "        vertical-align: middle;\n",
       "    }\n",
       "\n",
       "    .dataframe tbody tr th {\n",
       "        vertical-align: top;\n",
       "    }\n",
       "\n",
       "    .dataframe thead th {\n",
       "        text-align: right;\n",
       "    }\n",
       "</style>\n",
       "<table border=\"1\" class=\"dataframe\">\n",
       "  <thead>\n",
       "    <tr style=\"text-align: right;\">\n",
       "      <th></th>\n",
       "      <th>rf_Deciles</th>\n",
       "      <th>Weekly_Sales</th>\n",
       "      <th>rf_pred_sales</th>\n",
       "    </tr>\n",
       "  </thead>\n",
       "  <tbody>\n",
       "    <tr>\n",
       "      <th>9</th>\n",
       "      <td>9</td>\n",
       "      <td>65545.212356</td>\n",
       "      <td>65120.864084</td>\n",
       "    </tr>\n",
       "    <tr>\n",
       "      <th>8</th>\n",
       "      <td>8</td>\n",
       "      <td>32075.838566</td>\n",
       "      <td>32044.086954</td>\n",
       "    </tr>\n",
       "    <tr>\n",
       "      <th>7</th>\n",
       "      <td>7</td>\n",
       "      <td>19744.935838</td>\n",
       "      <td>19940.300002</td>\n",
       "    </tr>\n",
       "    <tr>\n",
       "      <th>6</th>\n",
       "      <td>6</td>\n",
       "      <td>13265.383578</td>\n",
       "      <td>13421.384936</td>\n",
       "    </tr>\n",
       "    <tr>\n",
       "      <th>5</th>\n",
       "      <td>5</td>\n",
       "      <td>8914.278381</td>\n",
       "      <td>9028.768605</td>\n",
       "    </tr>\n",
       "    <tr>\n",
       "      <th>4</th>\n",
       "      <td>4</td>\n",
       "      <td>5758.266644</td>\n",
       "      <td>5868.784814</td>\n",
       "    </tr>\n",
       "    <tr>\n",
       "      <th>3</th>\n",
       "      <td>3</td>\n",
       "      <td>3474.500880</td>\n",
       "      <td>3567.657919</td>\n",
       "    </tr>\n",
       "    <tr>\n",
       "      <th>2</th>\n",
       "      <td>2</td>\n",
       "      <td>1783.823209</td>\n",
       "      <td>1850.998023</td>\n",
       "    </tr>\n",
       "    <tr>\n",
       "      <th>1</th>\n",
       "      <td>1</td>\n",
       "      <td>559.712529</td>\n",
       "      <td>602.531388</td>\n",
       "    </tr>\n",
       "    <tr>\n",
       "      <th>0</th>\n",
       "      <td>0</td>\n",
       "      <td>67.405946</td>\n",
       "      <td>73.887474</td>\n",
       "    </tr>\n",
       "  </tbody>\n",
       "</table>\n",
       "</div>"
      ],
      "text/plain": [
       "   rf_Deciles  Weekly_Sales  rf_pred_sales\n",
       "9           9  65545.212356   65120.864084\n",
       "8           8  32075.838566   32044.086954\n",
       "7           7  19744.935838   19940.300002\n",
       "6           6  13265.383578   13421.384936\n",
       "5           5   8914.278381    9028.768605\n",
       "4           4   5758.266644    5868.784814\n",
       "3           3   3474.500880    3567.657919\n",
       "2           2   1783.823209    1850.998023\n",
       "1           1    559.712529     602.531388\n",
       "0           0     67.405946      73.887474"
      ]
     },
     "execution_count": 56,
     "metadata": {},
     "output_type": "execute_result"
    }
   ],
   "source": [
    "rf_decile_test.to_excel(output, 'Decile Analysis', startrow=4 , startcol=6, index = False)\n",
    "rf_decile_test"
   ]
  },
  {
   "cell_type": "code",
   "execution_count": 57,
   "metadata": {},
   "outputs": [
    {
     "data": {
      "text/plain": [
       "<BarContainer object of 15 artists>"
      ]
     },
     "execution_count": 57,
     "metadata": {},
     "output_type": "execute_result"
    },
    {
     "data": {
      "image/png": "[encoded data removed]",
      "text/plain": [
       "<Figure size 432x288 with 1 Axes>"
      ]
     },
     "metadata": {
      "needs_background": "light"
     },
     "output_type": "display_data"
    }
   ],
   "source": [
    "#Feature Impotance for Random Forest Model\n",
    "rf_fi = pd.DataFrame({'Features' : train_x.columns ,\n",
    "                      'Importance' : rf.feature_importances_\n",
    "                     }).sort_values(by = 'Importance').reset_index(drop = True)\n",
    "\n",
    "rf_fi.to_excel(output, 'Drivers', startrow=5, startcol=1, index = False)\n",
    "\n",
    "plt.barh(width = rf_fi.Importance, y = rf_fi.Features)"
   ]
  },
  {
   "cell_type": "markdown",
   "metadata": {},
   "source": [
    "#### <a>Gradient Boost Model"
   ]
  },
  {
   "cell_type": "code",
   "execution_count": 58,
   "metadata": {},
   "outputs": [],
   "source": [
    "#Setting Random Forest parameters\n",
    "gb = GradientBoostingRegressor(n_estimators = 300, random_state = 123).fit(train_x, train_y)"
   ]
  },
  {
   "cell_type": "code",
   "execution_count": 59,
   "metadata": {},
   "outputs": [],
   "source": [
    "#Predicting total spent on train and test dataset\n",
    "tr.loc[:, 'gb_pred_sales'] = gb.predict(train_x)\n",
    "ts.loc[:, 'gb_pred_sales'] = gb.predict(test_x)"
   ]
  },
  {
   "cell_type": "code",
   "execution_count": 60,
   "metadata": {},
   "outputs": [
    {
     "name": "stdout",
     "output_type": "stream",
     "text": [
      "R-square Score: 0.8549313927346014\n",
      "\n",
      "Training MSE: 61012527.03254419  |  Testing MSE: 61419286.899320394\n",
      "Training RMSE:  7811.051595818849  |  Testing RMSE: 7837.045801787839\n",
      "\n",
      "Training MAE: 4968.387935758425 | Testing MAE: 5005.651016371407\n",
      "\n",
      "Training MAPE: 21.761483870531812 | Testing MAPE: 20.606920106234863\n",
      "\n",
      "Training RMSPE: 151.15234961900953  |  Testing RMSPE: 135.70501528393987\n"
     ]
    }
   ],
   "source": [
    "#R-square Score\n",
    "gb_r2 = metrics.r2_score(test_y, ts.gb_pred_sales)\n",
    "\n",
    "print('R-square Score:', gb_r2)\n",
    "\n",
    "#Getting Mean Squared Error Metric - MSE\n",
    "gb_MSE_train = metrics.mean_squared_error(train_y, tr.gb_pred_sales)\n",
    "gb_MSE_test = metrics.mean_squared_error(test_y, ts.gb_pred_sales)\n",
    "\n",
    "print('\\nTraining MSE:', gb_MSE_train,' | ','Testing MSE:', gb_MSE_test)\n",
    "\n",
    "#Getting Root Mean Squared Error - RMSE\n",
    "gb_RMSE_train = np.sqrt(gb_MSE_train)\n",
    "gb_RMSE_test = np.sqrt(gb_MSE_test)\n",
    "\n",
    "print('Training RMSE: ',gb_RMSE_train,' | ','Testing RMSE:',gb_RMSE_test)\n",
    "\n",
    "#Getting Mean Absolute Error Metric - MAE\n",
    "gb_MAE_train = metrics.mean_absolute_error(train_y, tr.gb_pred_sales)\n",
    "gb_MAE_test = metrics.mean_absolute_error(test_y, ts.gb_pred_sales)\n",
    "\n",
    "print('\\nTraining MAE:', gb_MAE_train, '|', 'Testing MAE:', gb_MAE_test)\n",
    "\n",
    "#Getting Mean Absolute Percentage Error - MAPE\n",
    "gb_MAPE_train = np.mean(np.abs(train_y - tr['gb_pred_sales'])/train_y)\n",
    "gb_MAPE_test = np.mean(np.abs(test_y - ts['gb_pred_sales'])/test_y)\n",
    "                    \n",
    "print('\\nTraining MAPE:', gb_MAPE_train, '|', 'Testing MAPE:', gb_MAPE_test)\n",
    "\n",
    "#Getting Root Mean Squared Percentage Error - RMSPE\n",
    "gb_RMSPE_train = np.sqrt(np.mean(((train_y - tr['gb_pred_sales'])/train_y)**2))\n",
    "gb_RMSPE_test = np.sqrt(np.mean(((test_y - ts['gb_pred_sales'])/test_y)**2))\n",
    "\n",
    "print('\\nTraining RMSPE:', gb_RMSPE_train,' | ','Testing RMSPE:', gb_RMSPE_test)"
   ]
  },
  {
   "cell_type": "code",
   "execution_count": 61,
   "metadata": {},
   "outputs": [
    {
     "name": "stdout",
     "output_type": "stream",
     "text": [
      "Correlation - Train Data:  (0.9280338456176207, 0.0) | Test Data:  (0.9271267892880981, 0.0)\n"
     ]
    }
   ],
   "source": [
    "#Correlation between actual and predicted values\n",
    "Corr_train = stats.stats.pearsonr(train_y, tr.gb_pred_sales)\n",
    "Corr_test = stats.stats.pearsonr(test_y, ts.gb_pred_sales)\n",
    "\n",
    "print('Correlation - Train Data: ', Corr_train, '|', 'Test Data: ', Corr_test)"
   ]
  },
  {
   "cell_type": "code",
   "execution_count": 62,
   "metadata": {},
   "outputs": [],
   "source": [
    "#Decile Analysis\n",
    "#Creating Deciles\n",
    "tr.loc[:, 'gb_Deciles'] = pd.qcut(tr.gb_pred_sales, 10, labels = False)\n",
    "ts.loc[:, 'gb_Deciles'] = pd.qcut(ts.gb_pred_sales, 10, labels = False)\n",
    "\n",
    "#Summarizing the data by deciles on train and test dataset\n",
    "gb_decile_train = tr.groupby(['gb_Deciles'])[['Weekly_Sales','gb_pred_sales']].mean().reset_index().sort_values(by = 'gb_Deciles', ascending = False)\n",
    "gb_decile_test = ts.groupby(['gb_Deciles'])[['Weekly_Sales','gb_pred_sales']].mean().reset_index().sort_values(by = 'gb_Deciles', ascending = False)"
   ]
  },
  {
   "cell_type": "code",
   "execution_count": 63,
   "metadata": {},
   "outputs": [
    {
     "data": {
      "text/html": [
       "<div>\n",
       "<style scoped>\n",
       "    .dataframe tbody tr th:only-of-type {\n",
       "        vertical-align: middle;\n",
       "    }\n",
       "\n",
       "    .dataframe tbody tr th {\n",
       "        vertical-align: top;\n",
       "    }\n",
       "\n",
       "    .dataframe thead th {\n",
       "        text-align: right;\n",
       "    }\n",
       "</style>\n",
       "<table border=\"1\" class=\"dataframe\">\n",
       "  <thead>\n",
       "    <tr style=\"text-align: right;\">\n",
       "      <th></th>\n",
       "      <th>gb_Deciles</th>\n",
       "      <th>Weekly_Sales</th>\n",
       "      <th>gb_pred_sales</th>\n",
       "    </tr>\n",
       "  </thead>\n",
       "  <tbody>\n",
       "    <tr>\n",
       "      <th>9</th>\n",
       "      <td>9</td>\n",
       "      <td>63046.480530</td>\n",
       "      <td>58305.899727</td>\n",
       "    </tr>\n",
       "    <tr>\n",
       "      <th>8</th>\n",
       "      <td>8</td>\n",
       "      <td>30755.563535</td>\n",
       "      <td>30431.847535</td>\n",
       "    </tr>\n",
       "    <tr>\n",
       "      <th>7</th>\n",
       "      <td>7</td>\n",
       "      <td>19872.306389</td>\n",
       "      <td>19972.046942</td>\n",
       "    </tr>\n",
       "    <tr>\n",
       "      <th>6</th>\n",
       "      <td>6</td>\n",
       "      <td>13358.869150</td>\n",
       "      <td>14368.326324</td>\n",
       "    </tr>\n",
       "    <tr>\n",
       "      <th>5</th>\n",
       "      <td>5</td>\n",
       "      <td>8819.448990</td>\n",
       "      <td>10637.870461</td>\n",
       "    </tr>\n",
       "    <tr>\n",
       "      <th>4</th>\n",
       "      <td>4</td>\n",
       "      <td>6515.264953</td>\n",
       "      <td>7948.992611</td>\n",
       "    </tr>\n",
       "    <tr>\n",
       "      <th>3</th>\n",
       "      <td>3</td>\n",
       "      <td>4324.470939</td>\n",
       "      <td>5776.322899</td>\n",
       "    </tr>\n",
       "    <tr>\n",
       "      <th>2</th>\n",
       "      <td>2</td>\n",
       "      <td>2854.411107</td>\n",
       "      <td>3801.932947</td>\n",
       "    </tr>\n",
       "    <tr>\n",
       "      <th>1</th>\n",
       "      <td>1</td>\n",
       "      <td>1645.106010</td>\n",
       "      <td>1787.549679</td>\n",
       "    </tr>\n",
       "    <tr>\n",
       "      <th>0</th>\n",
       "      <td>0</td>\n",
       "      <td>598.553284</td>\n",
       "      <td>-1239.868044</td>\n",
       "    </tr>\n",
       "  </tbody>\n",
       "</table>\n",
       "</div>"
      ],
      "text/plain": [
       "   gb_Deciles  Weekly_Sales  gb_pred_sales\n",
       "9           9  63046.480530   58305.899727\n",
       "8           8  30755.563535   30431.847535\n",
       "7           7  19872.306389   19972.046942\n",
       "6           6  13358.869150   14368.326324\n",
       "5           5   8819.448990   10637.870461\n",
       "4           4   6515.264953    7948.992611\n",
       "3           3   4324.470939    5776.322899\n",
       "2           2   2854.411107    3801.932947\n",
       "1           1   1645.106010    1787.549679\n",
       "0           0    598.553284   -1239.868044"
      ]
     },
     "execution_count": 63,
     "metadata": {},
     "output_type": "execute_result"
    }
   ],
   "source": [
    "gb_decile_train.to_excel(output, 'Decile Analysis', startrow=4 , startcol=10, index = False)\n",
    "gb_decile_train"
   ]
  },
  {
   "cell_type": "code",
   "execution_count": 64,
   "metadata": {},
   "outputs": [
    {
     "data": {
      "text/html": [
       "<div>\n",
       "<style scoped>\n",
       "    .dataframe tbody tr th:only-of-type {\n",
       "        vertical-align: middle;\n",
       "    }\n",
       "\n",
       "    .dataframe tbody tr th {\n",
       "        vertical-align: top;\n",
       "    }\n",
       "\n",
       "    .dataframe thead th {\n",
       "        text-align: right;\n",
       "    }\n",
       "</style>\n",
       "<table border=\"1\" class=\"dataframe\">\n",
       "  <thead>\n",
       "    <tr style=\"text-align: right;\">\n",
       "      <th></th>\n",
       "      <th>gb_Deciles</th>\n",
       "      <th>Weekly_Sales</th>\n",
       "      <th>gb_pred_sales</th>\n",
       "    </tr>\n",
       "  </thead>\n",
       "  <tbody>\n",
       "    <tr>\n",
       "      <th>9</th>\n",
       "      <td>9</td>\n",
       "      <td>62846.108824</td>\n",
       "      <td>58173.889420</td>\n",
       "    </tr>\n",
       "    <tr>\n",
       "      <th>8</th>\n",
       "      <td>8</td>\n",
       "      <td>30607.491022</td>\n",
       "      <td>30142.634224</td>\n",
       "    </tr>\n",
       "    <tr>\n",
       "      <th>7</th>\n",
       "      <td>7</td>\n",
       "      <td>19601.799007</td>\n",
       "      <td>19881.265942</td>\n",
       "    </tr>\n",
       "    <tr>\n",
       "      <th>6</th>\n",
       "      <td>6</td>\n",
       "      <td>13275.912510</td>\n",
       "      <td>14387.046217</td>\n",
       "    </tr>\n",
       "    <tr>\n",
       "      <th>5</th>\n",
       "      <td>5</td>\n",
       "      <td>8852.304372</td>\n",
       "      <td>10643.033773</td>\n",
       "    </tr>\n",
       "    <tr>\n",
       "      <th>4</th>\n",
       "      <td>4</td>\n",
       "      <td>6637.150161</td>\n",
       "      <td>7970.038442</td>\n",
       "    </tr>\n",
       "    <tr>\n",
       "      <th>3</th>\n",
       "      <td>3</td>\n",
       "      <td>4311.914619</td>\n",
       "      <td>5794.035350</td>\n",
       "    </tr>\n",
       "    <tr>\n",
       "      <th>2</th>\n",
       "      <td>2</td>\n",
       "      <td>2835.019438</td>\n",
       "      <td>3804.758776</td>\n",
       "    </tr>\n",
       "    <tr>\n",
       "      <th>1</th>\n",
       "      <td>1</td>\n",
       "      <td>1628.426662</td>\n",
       "      <td>1754.270825</td>\n",
       "    </tr>\n",
       "    <tr>\n",
       "      <th>0</th>\n",
       "      <td>0</td>\n",
       "      <td>593.554579</td>\n",
       "      <td>-1231.938545</td>\n",
       "    </tr>\n",
       "  </tbody>\n",
       "</table>\n",
       "</div>"
      ],
      "text/plain": [
       "   gb_Deciles  Weekly_Sales  gb_pred_sales\n",
       "9           9  62846.108824   58173.889420\n",
       "8           8  30607.491022   30142.634224\n",
       "7           7  19601.799007   19881.265942\n",
       "6           6  13275.912510   14387.046217\n",
       "5           5   8852.304372   10643.033773\n",
       "4           4   6637.150161    7970.038442\n",
       "3           3   4311.914619    5794.035350\n",
       "2           2   2835.019438    3804.758776\n",
       "1           1   1628.426662    1754.270825\n",
       "0           0    593.554579   -1231.938545"
      ]
     },
     "execution_count": 64,
     "metadata": {},
     "output_type": "execute_result"
    }
   ],
   "source": [
    "gb_decile_test.to_excel(output, 'Decile Analysis', startrow=4 , startcol=14, index = False)\n",
    "gb_decile_test"
   ]
  },
  {
   "cell_type": "code",
   "execution_count": 65,
   "metadata": {},
   "outputs": [
    {
     "data": {
      "text/plain": [
       "<BarContainer object of 15 artists>"
      ]
     },
     "execution_count": 65,
     "metadata": {},
     "output_type": "execute_result"
    },
    {
     "data": {
      "image/png": "[encoded data removed]",
      "text/plain": [
       "<Figure size 432x288 with 1 Axes>"
      ]
     },
     "metadata": {
      "needs_background": "light"
     },
     "output_type": "display_data"
    }
   ],
   "source": [
    "#Feature Impotance for Random Forest Model\n",
    "gb_fi = pd.DataFrame({'Features' : train_x.columns ,\n",
    "                      'Importance' : gb.feature_importances_\n",
    "                     }).sort_values(by = 'Importance').reset_index(drop = True)\n",
    "\n",
    "gb_fi.to_excel(output, 'Drivers', startrow=22, startcol=1, index = False)\n",
    "\n",
    "plt.barh(width = gb_fi.Importance, y = gb_fi.Features)"
   ]
  },
  {
   "cell_type": "markdown",
   "metadata": {},
   "source": [
    "#### <a>Extra Tree Model"
   ]
  },
  {
   "cell_type": "code",
   "execution_count": 66,
   "metadata": {},
   "outputs": [],
   "source": [
    "#Setting Random Forest parameters\n",
    "et = ExtraTreesRegressor(n_estimators = 100, random_state = 123,\n",
    "                           n_jobs = -1).fit(train_x, train_y)"
   ]
  },
  {
   "cell_type": "code",
   "execution_count": 67,
   "metadata": {},
   "outputs": [],
   "source": [
    "#Making dataframes to store train and test predicted values \n",
    "tr = pd.DataFrame(train_y)\n",
    "ts = pd.DataFrame(test_y)\n",
    "\n",
    "#Predicting total spent on train and test dataset\n",
    "tr.loc[:, 'et_pred_sales'] = et.predict(train_x)\n",
    "ts.loc[:, 'et_pred_sales'] = et.predict(test_x)"
   ]
  },
  {
   "cell_type": "code",
   "execution_count": 68,
   "metadata": {},
   "outputs": [
    {
     "name": "stdout",
     "output_type": "stream",
     "text": [
      "R-square Score: 0.9798446142811575\n",
      "\n",
      "Training MSE: 1.1439759315709265e-21  |  Testing MSE: 8533406.650601516\n",
      "Training RMSE:  3.382271324969253e-11  |  Testing RMSE: 2921.199522559443\n",
      "\n",
      "Training MAE: 1.787987707836186e-11 | Testing MAE: 1298.7932735280244\n",
      "\n",
      "Training MAPE: 1.1480084414093643e-15 | Testing MAPE: 1.266209043363838\n",
      "\n",
      "Training RMSPE: 1.3547419577662635e-15  |  Testing RMSPE: 17.792611068759438\n"
     ]
    }
   ],
   "source": [
    "#R-square Score\n",
    "et_r2 = metrics.r2_score(test_y, ts.et_pred_sales)\n",
    "\n",
    "print('R-square Score:', et_r2)\n",
    "\n",
    "#Getting Mean Squared Error Metric - MSE\n",
    "et_MSE_train = metrics.mean_squared_error(train_y, tr.et_pred_sales)\n",
    "et_MSE_test = metrics.mean_squared_error(test_y, ts.et_pred_sales)\n",
    "\n",
    "print('\\nTraining MSE:', et_MSE_train,' | ','Testing MSE:', et_MSE_test)\n",
    "\n",
    "#Getting Root Mean Squared Error - RMSE\n",
    "et_RMSE_train = np.sqrt(et_MSE_train)\n",
    "et_RMSE_test = np.sqrt(et_MSE_test)\n",
    "\n",
    "print('Training RMSE: ',et_RMSE_train,' | ','Testing RMSE:',et_RMSE_test)\n",
    "\n",
    "#Getting Mean Absolute Error Metric - MAE\n",
    "et_MAE_train = metrics.mean_absolute_error(train_y, tr.et_pred_sales)\n",
    "et_MAE_test = metrics.mean_absolute_error(test_y, ts.et_pred_sales)\n",
    "\n",
    "print('\\nTraining MAE:', et_MAE_train, '|', 'Testing MAE:', et_MAE_test)\n",
    "\n",
    "#Getting Mean Absolute Percentage Error - MAPE\n",
    "et_MAPE_train = np.mean(np.abs(train_y - tr['et_pred_sales'])/train_y)\n",
    "et_MAPE_test = np.mean(np.abs(test_y - ts['et_pred_sales'])/test_y)\n",
    "                    \n",
    "print('\\nTraining MAPE:', et_MAPE_train, '|', 'Testing MAPE:', et_MAPE_test)\n",
    "\n",
    "#Getting Root Mean Squared Percentage Error - RMSPE\n",
    "et_RMSPE_train = np.sqrt(np.mean(((train_y - tr['et_pred_sales'])/train_y)**2))\n",
    "et_RMSPE_test = np.sqrt(np.mean(((test_y - ts['et_pred_sales'])/test_y)**2))\n",
    "\n",
    "print('\\nTraining RMSPE:', et_RMSPE_train,' | ','Testing RMSPE:', et_RMSPE_test)"
   ]
  },
  {
   "cell_type": "code",
   "execution_count": 69,
   "metadata": {},
   "outputs": [
    {
     "name": "stdout",
     "output_type": "stream",
     "text": [
      "Correlation - Train Data:  (1.0, 0.0) | Test Data:  (0.9899391788059833, 0.0)\n"
     ]
    }
   ],
   "source": [
    "#Correlation between actual and predicted values\n",
    "Corr_train = stats.stats.pearsonr(train_y, tr.et_pred_sales)\n",
    "Corr_test = stats.stats.pearsonr(test_y, ts.et_pred_sales)\n",
    "\n",
    "print('Correlation - Train Data: ', Corr_train, '|', 'Test Data: ', Corr_test)"
   ]
  },
  {
   "cell_type": "code",
   "execution_count": 70,
   "metadata": {},
   "outputs": [],
   "source": [
    "#Decile Analysis\n",
    "#Creating Deciles\n",
    "tr.loc[:, 'et_Deciles'] = pd.qcut(tr.et_pred_sales, 10, labels = False)\n",
    "ts.loc[:, 'et_Deciles'] = pd.qcut(ts.et_pred_sales, 10, labels = False)\n",
    "\n",
    "#Summarizing the data by deciles on train and test dataset\n",
    "et_decile_train = tr.groupby(['et_Deciles'])[['Weekly_Sales','et_pred_sales']].mean().reset_index().sort_values(by = 'et_Deciles', ascending = False)\n",
    "et_decile_test = ts.groupby(['et_Deciles'])[['Weekly_Sales','et_pred_sales']].mean().reset_index().sort_values(by = 'et_Deciles', ascending = False)"
   ]
  },
  {
   "cell_type": "code",
   "execution_count": 71,
   "metadata": {},
   "outputs": [
    {
     "data": {
      "text/html": [
       "<div>\n",
       "<style scoped>\n",
       "    .dataframe tbody tr th:only-of-type {\n",
       "        vertical-align: middle;\n",
       "    }\n",
       "\n",
       "    .dataframe tbody tr th {\n",
       "        vertical-align: top;\n",
       "    }\n",
       "\n",
       "    .dataframe thead th {\n",
       "        text-align: right;\n",
       "    }\n",
       "</style>\n",
       "<table border=\"1\" class=\"dataframe\">\n",
       "  <thead>\n",
       "    <tr style=\"text-align: right;\">\n",
       "      <th></th>\n",
       "      <th>et_Deciles</th>\n",
       "      <th>Weekly_Sales</th>\n",
       "      <th>et_pred_sales</th>\n",
       "    </tr>\n",
       "  </thead>\n",
       "  <tbody>\n",
       "    <tr>\n",
       "      <th>9</th>\n",
       "      <td>9</td>\n",
       "      <td>66278.891394</td>\n",
       "      <td>66278.891394</td>\n",
       "    </tr>\n",
       "    <tr>\n",
       "      <th>8</th>\n",
       "      <td>8</td>\n",
       "      <td>32260.929910</td>\n",
       "      <td>32260.929910</td>\n",
       "    </tr>\n",
       "    <tr>\n",
       "      <th>7</th>\n",
       "      <td>7</td>\n",
       "      <td>19812.803740</td>\n",
       "      <td>19812.803740</td>\n",
       "    </tr>\n",
       "    <tr>\n",
       "      <th>6</th>\n",
       "      <td>6</td>\n",
       "      <td>13206.864986</td>\n",
       "      <td>13206.864986</td>\n",
       "    </tr>\n",
       "    <tr>\n",
       "      <th>5</th>\n",
       "      <td>5</td>\n",
       "      <td>8799.051027</td>\n",
       "      <td>8799.051027</td>\n",
       "    </tr>\n",
       "    <tr>\n",
       "      <th>4</th>\n",
       "      <td>4</td>\n",
       "      <td>5675.300217</td>\n",
       "      <td>5675.300217</td>\n",
       "    </tr>\n",
       "    <tr>\n",
       "      <th>3</th>\n",
       "      <td>3</td>\n",
       "      <td>3431.636514</td>\n",
       "      <td>3431.636514</td>\n",
       "    </tr>\n",
       "    <tr>\n",
       "      <th>2</th>\n",
       "      <td>2</td>\n",
       "      <td>1738.112894</td>\n",
       "      <td>1738.112894</td>\n",
       "    </tr>\n",
       "    <tr>\n",
       "      <th>1</th>\n",
       "      <td>1</td>\n",
       "      <td>534.922433</td>\n",
       "      <td>534.922433</td>\n",
       "    </tr>\n",
       "    <tr>\n",
       "      <th>0</th>\n",
       "      <td>0</td>\n",
       "      <td>50.511284</td>\n",
       "      <td>50.511284</td>\n",
       "    </tr>\n",
       "  </tbody>\n",
       "</table>\n",
       "</div>"
      ],
      "text/plain": [
       "   et_Deciles  Weekly_Sales  et_pred_sales\n",
       "9           9  66278.891394   66278.891394\n",
       "8           8  32260.929910   32260.929910\n",
       "7           7  19812.803740   19812.803740\n",
       "6           6  13206.864986   13206.864986\n",
       "5           5   8799.051027    8799.051027\n",
       "4           4   5675.300217    5675.300217\n",
       "3           3   3431.636514    3431.636514\n",
       "2           2   1738.112894    1738.112894\n",
       "1           1    534.922433     534.922433\n",
       "0           0     50.511284      50.511284"
      ]
     },
     "execution_count": 71,
     "metadata": {},
     "output_type": "execute_result"
    }
   ],
   "source": [
    "et_decile_train.to_excel(output, 'Decile Analysis', startrow=4 , startcol=18, index = False)\n",
    "et_decile_train"
   ]
  },
  {
   "cell_type": "code",
   "execution_count": 72,
   "metadata": {},
   "outputs": [
    {
     "data": {
      "text/html": [
       "<div>\n",
       "<style scoped>\n",
       "    .dataframe tbody tr th:only-of-type {\n",
       "        vertical-align: middle;\n",
       "    }\n",
       "\n",
       "    .dataframe tbody tr th {\n",
       "        vertical-align: top;\n",
       "    }\n",
       "\n",
       "    .dataframe thead th {\n",
       "        text-align: right;\n",
       "    }\n",
       "</style>\n",
       "<table border=\"1\" class=\"dataframe\">\n",
       "  <thead>\n",
       "    <tr style=\"text-align: right;\">\n",
       "      <th></th>\n",
       "      <th>et_Deciles</th>\n",
       "      <th>Weekly_Sales</th>\n",
       "      <th>et_pred_sales</th>\n",
       "    </tr>\n",
       "  </thead>\n",
       "  <tbody>\n",
       "    <tr>\n",
       "      <th>9</th>\n",
       "      <td>9</td>\n",
       "      <td>65570.249235</td>\n",
       "      <td>64849.604615</td>\n",
       "    </tr>\n",
       "    <tr>\n",
       "      <th>8</th>\n",
       "      <td>8</td>\n",
       "      <td>32041.150776</td>\n",
       "      <td>31902.710288</td>\n",
       "    </tr>\n",
       "    <tr>\n",
       "      <th>7</th>\n",
       "      <td>7</td>\n",
       "      <td>19751.599299</td>\n",
       "      <td>19905.370530</td>\n",
       "    </tr>\n",
       "    <tr>\n",
       "      <th>6</th>\n",
       "      <td>6</td>\n",
       "      <td>13240.063440</td>\n",
       "      <td>13468.118179</td>\n",
       "    </tr>\n",
       "    <tr>\n",
       "      <th>5</th>\n",
       "      <td>5</td>\n",
       "      <td>8913.199416</td>\n",
       "      <td>9100.269293</td>\n",
       "    </tr>\n",
       "    <tr>\n",
       "      <th>4</th>\n",
       "      <td>4</td>\n",
       "      <td>5742.758953</td>\n",
       "      <td>5970.841271</td>\n",
       "    </tr>\n",
       "    <tr>\n",
       "      <th>3</th>\n",
       "      <td>3</td>\n",
       "      <td>3486.867537</td>\n",
       "      <td>3688.784949</td>\n",
       "    </tr>\n",
       "    <tr>\n",
       "      <th>2</th>\n",
       "      <td>2</td>\n",
       "      <td>1785.737951</td>\n",
       "      <td>1948.391680</td>\n",
       "    </tr>\n",
       "    <tr>\n",
       "      <th>1</th>\n",
       "      <td>1</td>\n",
       "      <td>580.843189</td>\n",
       "      <td>669.555591</td>\n",
       "    </tr>\n",
       "    <tr>\n",
       "      <th>0</th>\n",
       "      <td>0</td>\n",
       "      <td>76.886146</td>\n",
       "      <td>92.704078</td>\n",
       "    </tr>\n",
       "  </tbody>\n",
       "</table>\n",
       "</div>"
      ],
      "text/plain": [
       "   et_Deciles  Weekly_Sales  et_pred_sales\n",
       "9           9  65570.249235   64849.604615\n",
       "8           8  32041.150776   31902.710288\n",
       "7           7  19751.599299   19905.370530\n",
       "6           6  13240.063440   13468.118179\n",
       "5           5   8913.199416    9100.269293\n",
       "4           4   5742.758953    5970.841271\n",
       "3           3   3486.867537    3688.784949\n",
       "2           2   1785.737951    1948.391680\n",
       "1           1    580.843189     669.555591\n",
       "0           0     76.886146      92.704078"
      ]
     },
     "execution_count": 72,
     "metadata": {},
     "output_type": "execute_result"
    }
   ],
   "source": [
    "et_decile_test.to_excel(output, 'Decile Analysis', startrow=4 , startcol=22, index = False)\n",
    "et_decile_test"
   ]
  },
  {
   "cell_type": "code",
   "execution_count": 73,
   "metadata": {},
   "outputs": [
    {
     "data": {
      "text/plain": [
       "<BarContainer object of 15 artists>"
      ]
     },
     "execution_count": 73,
     "metadata": {},
     "output_type": "execute_result"
    },
    {
     "data": {
      "image/png": "[encoded data removed]",
      "text/plain": [
       "<Figure size 432x288 with 1 Axes>"
      ]
     },
     "metadata": {
      "needs_background": "light"
     },
     "output_type": "display_data"
    }
   ],
   "source": [
    "#Feature Impotance for Random Forest Model\n",
    "et_fi = pd.DataFrame({'Features' : train_x.columns ,\n",
    "                      'Importance' : et.feature_importances_\n",
    "                     }).sort_values(by = 'Importance').reset_index(drop = True)\n",
    "\n",
    "et_fi.to_excel(output, 'Drivers', startrow=39, startcol=1, index = False)\n",
    "\n",
    "plt.barh(width = et_fi.Importance, y = et_fi.Features)"
   ]
  },
  {
   "cell_type": "markdown",
   "metadata": {},
   "source": [
    "#### <a>Evaluating the different metrics for each model"
   ]
  },
  {
   "cell_type": "code",
   "execution_count": 74,
   "metadata": {},
   "outputs": [],
   "source": [
    "#Getting accuracy and log loss for each model\n",
    "model_data = pd.DataFrame({'Regressor' : ['RandomForestRegressor', 'GradientBoostingRegressor', 'ExtraTreeRegressor'],\n",
    "                        'Test_R2 Score' : [rf_r2, gb_r2, et_r2],\n",
    "                        'MAE_train' : [rf_MAE_train, gb_MAE_train, et_MAE_train],\n",
    "                        'MAE_test' : [rf_MAE_test, gb_MAE_test, et_MAE_test],\n",
    "                        'MSE_train' : [rf_MSE_train, gb_MSE_train, et_MSE_train],\n",
    "                        'MSE_test' : [rf_MSE_test, gb_MSE_test, et_MSE_test],   \n",
    "                        'RMSE_train' : [rf_RMSE_train, gb_RMSE_train, et_RMSE_train],\n",
    "                        'RMSE_test' : [rf_RMSE_test, gb_RMSE_test, et_RMSE_test],\n",
    "                        'RMSPE_train' : [rf_RMSPE_train, gb_RMSPE_train, et_RMSPE_train],  \n",
    "                        'RMSPE_test' : [rf_RMSPE_test, gb_RMSPE_test, et_RMSPE_test]\n",
    "                        })"
   ]
  },
  {
   "cell_type": "code",
   "execution_count": 75,
   "metadata": {},
   "outputs": [
    {
     "data": {
      "text/html": [
       "<div>\n",
       "<style scoped>\n",
       "    .dataframe tbody tr th:only-of-type {\n",
       "        vertical-align: middle;\n",
       "    }\n",
       "\n",
       "    .dataframe tbody tr th {\n",
       "        vertical-align: top;\n",
       "    }\n",
       "\n",
       "    .dataframe thead th {\n",
       "        text-align: right;\n",
       "    }\n",
       "</style>\n",
       "<table border=\"1\" class=\"dataframe\">\n",
       "  <thead>\n",
       "    <tr style=\"text-align: right;\">\n",
       "      <th></th>\n",
       "      <th>Regressor</th>\n",
       "      <th>Test_R2 Score</th>\n",
       "      <th>MAE_train</th>\n",
       "      <th>MAE_test</th>\n",
       "      <th>MSE_train</th>\n",
       "      <th>MSE_test</th>\n",
       "      <th>RMSE_train</th>\n",
       "      <th>RMSE_test</th>\n",
       "      <th>RMSPE_train</th>\n",
       "      <th>RMSPE_test</th>\n",
       "    </tr>\n",
       "  </thead>\n",
       "  <tbody>\n",
       "    <tr>\n",
       "      <th>0</th>\n",
       "      <td>RandomForestRegressor</td>\n",
       "      <td>0.980634</td>\n",
       "      <td>4.811596e+02</td>\n",
       "      <td>1287.071122</td>\n",
       "      <td>1.209312e+06</td>\n",
       "      <td>8.199183e+06</td>\n",
       "      <td>1.099687e+03</td>\n",
       "      <td>2863.421550</td>\n",
       "      <td>2.391113e+01</td>\n",
       "      <td>23.105762</td>\n",
       "    </tr>\n",
       "    <tr>\n",
       "      <th>1</th>\n",
       "      <td>GradientBoostingRegressor</td>\n",
       "      <td>0.854931</td>\n",
       "      <td>4.968388e+03</td>\n",
       "      <td>5005.651016</td>\n",
       "      <td>6.101253e+07</td>\n",
       "      <td>6.141929e+07</td>\n",
       "      <td>7.811052e+03</td>\n",
       "      <td>7837.045802</td>\n",
       "      <td>1.511523e+02</td>\n",
       "      <td>135.705015</td>\n",
       "    </tr>\n",
       "    <tr>\n",
       "      <th>2</th>\n",
       "      <td>ExtraTreeRegressor</td>\n",
       "      <td>0.979845</td>\n",
       "      <td>1.787988e-11</td>\n",
       "      <td>1298.793274</td>\n",
       "      <td>1.143976e-21</td>\n",
       "      <td>8.533407e+06</td>\n",
       "      <td>3.382271e-11</td>\n",
       "      <td>2921.199523</td>\n",
       "      <td>1.354742e-15</td>\n",
       "      <td>17.792611</td>\n",
       "    </tr>\n",
       "  </tbody>\n",
       "</table>\n",
       "</div>"
      ],
      "text/plain": [
       "                   Regressor  Test_R2 Score     MAE_train     MAE_test  \\\n",
       "0      RandomForestRegressor       0.980634  4.811596e+02  1287.071122   \n",
       "1  GradientBoostingRegressor       0.854931  4.968388e+03  5005.651016   \n",
       "2         ExtraTreeRegressor       0.979845  1.787988e-11  1298.793274   \n",
       "\n",
       "      MSE_train      MSE_test    RMSE_train    RMSE_test   RMSPE_train  \\\n",
       "0  1.209312e+06  8.199183e+06  1.099687e+03  2863.421550  2.391113e+01   \n",
       "1  6.101253e+07  6.141929e+07  7.811052e+03  7837.045802  1.511523e+02   \n",
       "2  1.143976e-21  8.533407e+06  3.382271e-11  2921.199523  1.354742e-15   \n",
       "\n",
       "   RMSPE_test  \n",
       "0   23.105762  \n",
       "1  135.705015  \n",
       "2   17.792611  "
      ]
     },
     "execution_count": 75,
     "metadata": {},
     "output_type": "execute_result"
    }
   ],
   "source": [
    "model_data.round(2).to_excel(output, 'Metrics of Models', index = False)\n",
    "model_data"
   ]
  },
  {
   "cell_type": "code",
   "execution_count": 76,
   "metadata": {
    "scrolled": false
   },
   "outputs": [
    {
     "data": {
      "image/png": "[encoded data removed]",
      "text/plain": [
       "<Figure size 360x216 with 1 Axes>"
      ]
     },
     "metadata": {
      "needs_background": "light"
     },
     "output_type": "display_data"
    },
    {
     "data": {
      "image/png": "[encoded data removed]",
      "text/plain": [
       "<Figure size 432x288 with 1 Axes>"
      ]
     },
     "metadata": {
      "needs_background": "light"
     },
     "output_type": "display_data"
    },
    {
     "data": {
      "image/png": "[encoded data removed]",
      "text/plain": [
       "<Figure size 432x288 with 1 Axes>"
      ]
     },
     "metadata": {
      "needs_background": "light"
     },
     "output_type": "display_data"
    },
    {
     "data": {
      "image/png": "[encoded data removed]",
      "text/plain": [
       "<Figure size 432x288 with 1 Axes>"
      ]
     },
     "metadata": {
      "needs_background": "light"
     },
     "output_type": "display_data"
    },
    {
     "data": {
      "image/png": "[encoded data removed]",
      "text/plain": [
       "<Figure size 432x288 with 1 Axes>"
      ]
     },
     "metadata": {
      "needs_background": "light"
     },
     "output_type": "display_data"
    }
   ],
   "source": [
    "#Visualizing different metrics of the models\n",
    "plt.figure(figsize = (5,3))\n",
    "sns.barplot(data = model_data, x = model_data['Test_R2 Score'], y = model_data.Regressor)\n",
    "plt.title('Model R2 Score')\n",
    "\n",
    "model_data.plot(x = 'Regressor', y = ['MAE_train', 'MAE_test'], kind = 'bar')\n",
    "model_data.plot(x = 'Regressor', y = ['MSE_train', 'MSE_test'], kind = 'bar')\n",
    "model_data.plot(x = 'Regressor', y = ['RMSE_train', 'RMSE_test'], kind = 'bar')\n",
    "model_data.plot(x = 'Regressor', y = ['RMSPE_train', 'RMSPE_test'], kind = 'bar')\n",
    "\n",
    "plt.show()"
   ]
  },
  {
   "cell_type": "markdown",
   "metadata": {},
   "source": [
    "From above charts of metrics, we can conclude that Random Forest Model performs best on train dataset. We can use Random Forest Model to predict Weekly Sales for Walmart Stores. "
   ]
  },
  {
   "cell_type": "code",
   "execution_count": 77,
   "metadata": {},
   "outputs": [],
   "source": [
    "# Making Final Prediction on provided test dataset using Random Forest Model\n",
    "test['Weekly_Sales'] = rf.predict(test_final)\n",
    "\n",
    "final_pred = pd.DataFrame({\n",
    "             'Id' : test.Store.astype(str)+'_'+test.Dept.astype(str)+'_'+test.Date.astype(str),\n",
    "             'Weekly_Sales' : test.Weekly_Sales\n",
    "                        })\n",
    "\n",
    "#Saving prediction on test dataset to excel\n",
    "final_pred.to_excel(output, 'Predicted Weekly Sales', index = False)"
   ]
  },
  {
   "cell_type": "code",
   "execution_count": 78,
   "metadata": {},
   "outputs": [
    {
     "data": {
      "text/html": [
       "<div>\n",
       "<style scoped>\n",
       "    .dataframe tbody tr th:only-of-type {\n",
       "        vertical-align: middle;\n",
       "    }\n",
       "\n",
       "    .dataframe tbody tr th {\n",
       "        vertical-align: top;\n",
       "    }\n",
       "\n",
       "    .dataframe thead th {\n",
       "        text-align: right;\n",
       "    }\n",
       "</style>\n",
       "<table border=\"1\" class=\"dataframe\">\n",
       "  <thead>\n",
       "    <tr style=\"text-align: right;\">\n",
       "      <th></th>\n",
       "      <th>Id</th>\n",
       "      <th>Weekly_Sales</th>\n",
       "    </tr>\n",
       "  </thead>\n",
       "  <tbody>\n",
       "    <tr>\n",
       "      <th>0</th>\n",
       "      <td>1_1_2012-11-02</td>\n",
       "      <td>9728.911600</td>\n",
       "    </tr>\n",
       "    <tr>\n",
       "      <th>1</th>\n",
       "      <td>1_2_2012-11-02</td>\n",
       "      <td>8816.172767</td>\n",
       "    </tr>\n",
       "    <tr>\n",
       "      <th>2</th>\n",
       "      <td>1_3_2012-11-02</td>\n",
       "      <td>4729.196675</td>\n",
       "    </tr>\n",
       "    <tr>\n",
       "      <th>3</th>\n",
       "      <td>1_4_2012-11-02</td>\n",
       "      <td>10843.212358</td>\n",
       "    </tr>\n",
       "    <tr>\n",
       "      <th>4</th>\n",
       "      <td>1_5_2012-11-02</td>\n",
       "      <td>12300.800842</td>\n",
       "    </tr>\n",
       "    <tr>\n",
       "      <th>...</th>\n",
       "      <td>...</td>\n",
       "      <td>...</td>\n",
       "    </tr>\n",
       "    <tr>\n",
       "      <th>115059</th>\n",
       "      <td>45_93_2013-07-26</td>\n",
       "      <td>11034.837017</td>\n",
       "    </tr>\n",
       "    <tr>\n",
       "      <th>115060</th>\n",
       "      <td>45_94_2013-07-26</td>\n",
       "      <td>23797.555583</td>\n",
       "    </tr>\n",
       "    <tr>\n",
       "      <th>115061</th>\n",
       "      <td>45_95_2013-07-26</td>\n",
       "      <td>29991.470025</td>\n",
       "    </tr>\n",
       "    <tr>\n",
       "      <th>115062</th>\n",
       "      <td>45_97_2013-07-26</td>\n",
       "      <td>6899.975000</td>\n",
       "    </tr>\n",
       "    <tr>\n",
       "      <th>115063</th>\n",
       "      <td>45_98_2013-07-26</td>\n",
       "      <td>3641.636850</td>\n",
       "    </tr>\n",
       "  </tbody>\n",
       "</table>\n",
       "<p>115064 rows × 2 columns</p>\n",
       "</div>"
      ],
      "text/plain": [
       "                      Id  Weekly_Sales\n",
       "0         1_1_2012-11-02   9728.911600\n",
       "1         1_2_2012-11-02   8816.172767\n",
       "2         1_3_2012-11-02   4729.196675\n",
       "3         1_4_2012-11-02  10843.212358\n",
       "4         1_5_2012-11-02  12300.800842\n",
       "...                  ...           ...\n",
       "115059  45_93_2013-07-26  11034.837017\n",
       "115060  45_94_2013-07-26  23797.555583\n",
       "115061  45_95_2013-07-26  29991.470025\n",
       "115062  45_97_2013-07-26   6899.975000\n",
       "115063  45_98_2013-07-26   3641.636850\n",
       "\n",
       "[115064 rows x 2 columns]"
      ]
     },
     "execution_count": 78,
     "metadata": {},
     "output_type": "execute_result"
    }
   ],
   "source": [
    "#Predicted Weekly Sales\n",
    "final_pred"
   ]
  },
  {
   "cell_type": "code",
   "execution_count": 79,
   "metadata": {},
   "outputs": [],
   "source": [
    "output.save()"
   ]
  }
 ],
 "metadata": {
  "kernelspec": {
   "display_name": "Python 3",
   "language": "python",
   "name": "python3"
  },
  "language_info": {
   "codemirror_mode": {
    "name": "ipython",
    "version": 3
   },
   "file_extension": ".py",
   "mimetype": "text/x-python",
   "name": "python",
   "nbconvert_exporter": "python",
   "pygments_lexer": "ipython3",
   "version": "3.7.10"
  }
 },
 "nbformat": 4,
 "nbformat_minor": 4
}
